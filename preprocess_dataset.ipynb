{
 "cells": [
  {
   "cell_type": "code",
   "execution_count": 36,
   "id": "abf23d90-a8aa-4577-818b-98c7852b7387",
   "metadata": {},
   "outputs": [],
   "source": [
    "import os\n",
    "import zipfile\n",
    "import glob\n",
    "import numpy as np\n",
    "import pandas as pd\n",
    "import torch\n",
    "from scipy.interpolate import interp1d\n",
    "from skimage.feature import local_binary_pattern\n",
    "import cv2\n",
    "from tqdm import tqdm\n",
    "from dataset import EmotionDataset \n",
    "import mediapipe as mp"
   ]
  },
  {
   "cell_type": "code",
   "execution_count": 37,
   "id": "d4fb60e0-c741-4f41-9054-d74dd9114d9c",
   "metadata": {},
   "outputs": [],
   "source": [
    "def check_sample_availability(sample_dir):\n",
    "    # check video data\n",
    "    video_files = [f for f in os.listdir(sample_dir) \n",
    "                   if f.endswith('.mp4') or f.endswith('.avi') or f.endswith('-Video.zip')]\n",
    "    if not video_files:\n",
    "        return False\n",
    "\n",
    "    # check annotation files（Valence, Arousal, Liking）\n",
    "    annotation_types = ['Valence', 'Arousal', 'Liking']\n",
    "    for atype in annotation_types:\n",
    "        annotation_zip_files = [f for f in os.listdir(sample_dir) if f'-{atype}.zip' in f]\n",
    "        if not annotation_zip_files:\n",
    "            return False\n",
    "\n",
    "    return True\n"
   ]
  },
  {
   "cell_type": "code",
   "execution_count": 46,
   "id": "579a0853-2d7c-4dc5-ac0c-1d1bb9bc56ab",
   "metadata": {},
   "outputs": [],
   "source": [
    "def process_landmarks(sample_dir):\n",
    "    video_files = [f for f in os.listdir(sample_dir) \n",
    "                   if f.endswith('.mp4') or f.endswith('.avi') or f.endswith('-Video.zip')]\n",
    "    if not video_files:\n",
    "        return None, None\n",
    "    \n",
    "    video_file = os.path.join(sample_dir, video_files[0])\n",
    "    \n",
    "    if video_file.endswith('-Video.zip'):\n",
    "        video_extract_dir = os.path.join(sample_dir, 'Videos')\n",
    "        if not os.path.exists(video_extract_dir):\n",
    "            os.makedirs(video_extract_dir, exist_ok=True)\n",
    "            with zipfile.ZipFile(video_file, 'r') as zip_ref:\n",
    "                zip_ref.extractall(video_extract_dir)\n",
    "        video_files = [f for f in os.listdir(video_extract_dir) \n",
    "                       if f.endswith('.mp4') or f.endswith('.avi')]\n",
    "        if not video_files:\n",
    "            return None, None\n",
    "        video_file = os.path.join(video_extract_dir, video_files[0])\n",
    "    \n",
    "    mp_face_mesh = mp.solutions.face_mesh\n",
    "    face_mesh = mp_face_mesh.FaceMesh(static_image_mode=False,\n",
    "                                      max_num_faces=1,\n",
    "                                      refine_landmarks=True,\n",
    "                                      min_detection_confidence=0.5,\n",
    "                                      min_tracking_confidence=0.5)\n",
    "    \n",
    "    cap = cv2.VideoCapture(video_file)\n",
    "    landmarks_seq = []\n",
    "    frame_indices = []\n",
    "    frame_idx = 0\n",
    "    image_width = int(cap.get(cv2.CAP_PROP_FRAME_WIDTH))\n",
    "    image_height = int(cap.get(cv2.CAP_PROP_FRAME_HEIGHT))\n",
    "    \n",
    "    while True:\n",
    "        ret, frame = cap.read()\n",
    "        if not ret:\n",
    "            break\n",
    "        \n",
    "        rgb_frame = cv2.cvtColor(frame, cv2.COLOR_BGR2RGB)\n",
    "        results = face_mesh.process(rgb_frame)\n",
    "        \n",
    "        if results.multi_face_landmarks:\n",
    "            face_landmarks = results.multi_face_landmarks[0]\n",
    "            landmarks = []\n",
    "            for lm in face_landmarks.landmark:\n",
    "                landmarks.append(lm.x * image_width)  \n",
    "                landmarks.append(lm.y * image_height)\n",
    "            landmarks_seq.append(landmarks)\n",
    "            frame_indices.append(frame_idx)\n",
    "        \n",
    "        frame_idx += 1\n",
    "    \n",
    "    cap.release()\n",
    "    face_mesh.close()\n",
    "    \n",
    "    if not landmarks_seq:\n",
    "        return None, None  \n",
    "    \n",
    "    landmarks_seq = np.array(landmarks_seq) \n",
    "    frame_indices = np.array(frame_indices) \n",
    "    return landmarks_seq, frame_indices"
   ]
  },
  {
   "cell_type": "code",
   "execution_count": 39,
   "id": "f0e5d65c-0cc2-47db-bf6b-3259d141a367",
   "metadata": {},
   "outputs": [],
   "source": [
    "def extract_lbp_features(image, num_points=8, radius=1, grid_x=7, grid_y=7):\n",
    "    gray = cv2.cvtColor(image, cv2.COLOR_BGR2GRAY)\n",
    "    lbp_image = local_binary_pattern(gray, num_points, radius, method='uniform')\n",
    "    height, width = lbp_image.shape\n",
    "    grid_height = height // grid_y\n",
    "    grid_width = width // grid_x\n",
    "    lbp_features = []\n",
    "    for i in range(grid_y):\n",
    "        for j in range(grid_x):\n",
    "            grid = lbp_image[i*grid_height:(i+1)*grid_height, j*grid_width:(j+1)*grid_width]\n",
    "            hist, _ = np.histogram(grid.ravel(), bins=np.arange(0, num_points+3), range=(0, num_points+2))\n",
    "            hist = hist.astype('float')\n",
    "            hist /= (hist.sum() + 1e-7)\n",
    "            lbp_features.extend(hist)\n",
    "    return np.array(lbp_features)"
   ]
  },
  {
   "cell_type": "code",
   "execution_count": 40,
   "id": "0c906389-2aa3-4fea-bb0a-5c22ed1d5e67",
   "metadata": {},
   "outputs": [],
   "source": [
    "def process_lbp_sequence(video_path, frame_indices):\n",
    "    cap = cv2.VideoCapture(video_path)\n",
    "    lbp_sequence = []\n",
    "    frame_count = int(cap.get(cv2.CAP_PROP_FRAME_COUNT))\n",
    "    frame_indices_set = set(frame_indices)\n",
    "    current_frame_idx = 0\n",
    "    while True:\n",
    "        ret, frame = cap.read()\n",
    "        if not ret:\n",
    "            break\n",
    "        if current_frame_idx in frame_indices_set:\n",
    "            lbp_feature = extract_lbp_features(frame)\n",
    "            lbp_sequence.append(lbp_feature)\n",
    "        current_frame_idx += 1\n",
    "    cap.release()\n",
    "    lbp_sequence = np.array(lbp_sequence)  # Shape: (num_frames_with_landmarks, feature_dim)\n",
    "    return lbp_sequence"
   ]
  },
  {
   "cell_type": "code",
   "execution_count": 41,
   "id": "d3c76965-eaa1-4d25-84bf-bfe9cf02b941",
   "metadata": {},
   "outputs": [],
   "source": [
    "def process_annotations(sample_dir, annotation_type):\n",
    "    # Find the annotation zip file\n",
    "    annotation_zip_files = [f for f in os.listdir(sample_dir) if f'-{annotation_type}.zip' in f]\n",
    "    if not annotation_zip_files:\n",
    "        return None\n",
    "    annotation_zip = os.path.join(sample_dir, annotation_zip_files[0])\n",
    "\n",
    "    # Extract annotations\n",
    "    annotations_extract_dir = os.path.join(sample_dir, f'{annotation_type}')\n",
    "    if not os.path.exists(annotations_extract_dir):\n",
    "        os.makedirs(annotations_extract_dir, exist_ok=True)\n",
    "        with zipfile.ZipFile(annotation_zip, 'r') as zip_ref:\n",
    "            zip_ref.extractall(annotations_extract_dir)\n",
    "\n",
    "    # Read annotations from CSV files (video annotations only)\n",
    "    csv_files = glob.glob(os.path.join(annotations_extract_dir, f'*_{annotation_type}_V*.csv'))\n",
    "    annotations_list = []\n",
    "    for csv_file in csv_files:\n",
    "        df = pd.read_csv(csv_file, header=None)\n",
    "        times = df.iloc[:, 0].values  # Time column\n",
    "        values = df.iloc[:, 1].values  # Annotation values\n",
    "        annotations_list.append((times, values))\n",
    "    if not annotations_list:\n",
    "        return None\n",
    "\n",
    "    # Average annotations from different annotators\n",
    "    # First, create a time axis common to all annotators\n",
    "    min_time = max(annot[0][0] for annot in annotations_list)\n",
    "    max_time = min(annot[0][-1] for annot in annotations_list)\n",
    "    if max_time <= min_time:\n",
    "        return None  # invalid time range\n",
    "    common_times = np.linspace(min_time, max_time, num=round((max_time - min_time) * 66))  # Assuming 66 Hz sampling rate\n",
    "\n",
    "    # Interpolate annotations to the common time axis\n",
    "    interpolated_values = []\n",
    "    for times, values in annotations_list:\n",
    "        interp_func = interp1d(times, values, kind='linear', fill_value='extrapolate')\n",
    "        interpolated_values.append(interp_func(common_times))\n",
    "    # Average the interpolated values\n",
    "    annotations_seq = np.mean(interpolated_values, axis=0)  # Shape: (seq_len,)\n",
    "    # Return both common times and averaged annotations\n",
    "    return common_times, annotations_seq"
   ]
  },
  {
   "cell_type": "code",
   "execution_count": 42,
   "id": "a33354e8-8de5-4ed0-9a90-cab2b6f58fa4",
   "metadata": {},
   "outputs": [],
   "source": [
    "def align_sequences(landmarks_seq, lbp_seq, frame_indices, frame_timestamps, annotations_times, annotations_seq):\n",
    "    # frame_indices: indices of frames with valid landmarks and LBP features\n",
    "    # frame_timestamps: timestamps corresponding to frame_indices\n",
    "    # annotations_times: timestamps of annotations\n",
    "    # annotations_seq: annotation values\n",
    "\n",
    "    # Interpolate annotations to match frame timestamps\n",
    "    interp_func = interp1d(annotations_times, annotations_seq, kind='linear', fill_value='extrapolate')\n",
    "    labels_seq = interp_func(frame_timestamps)\n",
    "\n",
    "    # Ensure all sequences have the same length\n",
    "    seq_len = min(len(landmarks_seq), len(lbp_seq), len(labels_seq))\n",
    "    landmarks_seq = landmarks_seq[:seq_len]\n",
    "    lbp_seq = lbp_seq[:seq_len]\n",
    "    labels_seq = labels_seq[:seq_len]\n",
    "\n",
    "    return landmarks_seq, lbp_seq, labels_seq"
   ]
  },
  {
   "cell_type": "code",
   "execution_count": 43,
   "id": "419dcdf7-f2d3-4a55-9440-18aa4988c36f",
   "metadata": {},
   "outputs": [],
   "source": [
    "def save_processed_data(sample_id, landmarks_seq, lbp_seq, labels_seq, seq_len):\n",
    "    processed_dir = os.path.join('processed_data', f'sample_{sample_id}')\n",
    "    os.makedirs(processed_dir, exist_ok=True)\n",
    "    np.save(os.path.join(processed_dir, 'landmarks.npy'), landmarks_seq)\n",
    "    np.save(os.path.join(processed_dir, 'lbp.npy'), lbp_seq)\n",
    "    np.save(os.path.join(processed_dir, 'Valence.npy'), labels_seq[:, 0])\n",
    "    np.save(os.path.join(processed_dir, 'Arousal.npy'), labels_seq[:, 1])\n",
    "    np.save(os.path.join(processed_dir, 'Liking.npy'), labels_seq[:, 2])\n",
    "    np.save(os.path.join(processed_dir, 'seq_len.npy'), np.array([seq_len]))"
   ]
  },
  {
   "cell_type": "code",
   "execution_count": 44,
   "id": "28864b76-831c-407c-9ba6-cf0689ecaedb",
   "metadata": {},
   "outputs": [],
   "source": [
    "def process_all_samples(dataset_dir, desired_seq_len=None):\n",
    "    sample_dirs = [os.path.join(dataset_dir, d) for d in os.listdir(dataset_dir)\n",
    "                   if os.path.isdir(os.path.join(dataset_dir, d))]\n",
    "    processed_count = 0\n",
    "    for sample_dir in tqdm(sample_dirs, desc='Processing samples'):\n",
    "        sample_id = os.path.basename(sample_dir)\n",
    "        # check the video\n",
    "        if not check_sample_availability(sample_dir):\n",
    "            print(f\"Skipping {sample_id}: Missing required files.\")\n",
    "            continue\n",
    "        try:\n",
    "            # process Landmarks\n",
    "            landmarks_seq, frame_indices = process_landmarks(sample_dir)\n",
    "            if landmarks_seq is None or len(landmarks_seq) == 0:\n",
    "                print(f\"Skipping {sample_id}: No valid landmarks.\")\n",
    "                continue\n",
    "\n",
    "            video_files = [f for f in os.listdir(sample_dir) \n",
    "                           if f.endswith('.mp4') or f.endswith('.avi') or f.endswith('-Video.zip')]\n",
    "            if video_files:\n",
    "                video_file = os.path.join(sample_dir, video_files[0])\n",
    "                if video_file.endswith('-Video.zip'):\n",
    "                    video_extract_dir = os.path.join(sample_dir, 'Videos')\n",
    "                    if not os.path.exists(video_extract_dir):\n",
    "                        os.makedirs(video_extract_dir, exist_ok=True)\n",
    "                        with zipfile.ZipFile(video_file, 'r') as zip_ref:\n",
    "                            zip_ref.extractall(video_extract_dir)\n",
    "                    video_files = [f for f in os.listdir(video_extract_dir) \n",
    "                                   if f.endswith('.mp4') or f.endswith('.avi')]\n",
    "                    if not video_files:\n",
    "                        print(f\"Skipping {sample_id}: No video file found after extraction.\")\n",
    "                        continue\n",
    "                    video_file = os.path.join(video_extract_dir, video_files[0])\n",
    "                \n",
    "                cap = cv2.VideoCapture(video_file)\n",
    "                fps = cap.get(cv2.CAP_PROP_FPS)\n",
    "                cap.release()\n",
    "                if fps <= 0:\n",
    "                    print(f\"Skipping {sample_id}: Invalid FPS ({fps}).\")\n",
    "                    continue\n",
    "            else:\n",
    "                print(f\"Skipping {sample_id}: No video file found.\")\n",
    "                continue\n",
    "\n",
    "            frame_timestamps = frame_indices / fps\n",
    "\n",
    "            # process LBP\n",
    "            lbp_seq = process_lbp_sequence(video_file, frame_indices)\n",
    "            if lbp_seq is None or len(lbp_seq) == 0:\n",
    "                print(f\"Skipping {sample_id}: No valid LBP features.\")\n",
    "                continue\n",
    "\n",
    "            # process annotations\n",
    "            annotations = {}\n",
    "            for atype in ['Valence', 'Arousal', 'Liking']:\n",
    "                annotations_data = process_annotations(sample_dir, atype)\n",
    "                if annotations_data is None:\n",
    "                    print(f\"Skipping {sample_id}: Missing or invalid {atype} annotations.\")\n",
    "                    break  \n",
    "                annotations[atype] = annotations_data\n",
    "            else:\n",
    "                # align sequence for each emotion dimension\n",
    "                landmarks_seq_aligned, lbp_seq_aligned, valence_seq = align_sequences(\n",
    "                    landmarks_seq, lbp_seq, frame_indices, frame_timestamps,\n",
    "                    annotations['Valence'][0], annotations['Valence'][1]\n",
    "                )\n",
    "                _, _, arousal_seq = align_sequences(\n",
    "                    landmarks_seq_aligned, lbp_seq_aligned, frame_indices, frame_timestamps,\n",
    "                    annotations['Arousal'][0], annotations['Arousal'][1]\n",
    "                )\n",
    "                _, _, liking_seq = align_sequences(\n",
    "                    landmarks_seq_aligned, lbp_seq_aligned, frame_indices, frame_timestamps,\n",
    "                    annotations['Liking'][0], annotations['Liking'][1]\n",
    "                )\n",
    "                # Merge tags\n",
    "                labels_seq = np.stack([valence_seq, arousal_seq, liking_seq], axis=1)  # Shape: (seq_len, 3)\n",
    "\n",
    "                # Process sequence length\n",
    "                seq_len = len(labels_seq)\n",
    "                if desired_seq_len is not None:\n",
    "                    if seq_len < desired_seq_len:\n",
    "                        # Skip samples with insufficient sequence length\n",
    "                        print(f\"Skipping {sample_id}: Sequence too short ({seq_len} frames).\")\n",
    "                        continue\n",
    "                    else:\n",
    "                        # Randomly intercept a subsequence\n",
    "                        start_idx = np.random.randint(0, seq_len - desired_seq_len + 1)\n",
    "                        end_idx = start_idx + desired_seq_len\n",
    "                        landmarks_seq_aligned = landmarks_seq_aligned[start_idx:end_idx]\n",
    "                        lbp_seq_aligned = lbp_seq_aligned[start_idx:end_idx]\n",
    "                        labels_seq = labels_seq[start_idx:end_idx]\n",
    "                        seq_len = desired_seq_len\n",
    "\n",
    "                # save processed data\n",
    "                save_processed_data(sample_id, landmarks_seq_aligned, lbp_seq_aligned, labels_seq, seq_len, sample_id)\n",
    "                processed_count += 1\n",
    "        except Exception as e:\n",
    "            print(f\"Error processing {sample_id}: {e}\")\n",
    "            continue\n",
    "    print(f\"Processed {processed_count} samples.\")"
   ]
  },
  {
   "cell_type": "code",
   "execution_count": 47,
   "id": "54700f02-8e3f-40a5-8fbf-ba943f2e6f0a",
   "metadata": {
    "scrolled": true
   },
   "outputs": [
    {
     "name": "stderr",
     "output_type": "stream",
     "text": [
      "Processing samples:   0%| | 0/2630 [00:00<?,I0000 00:00:1733371486.784688 67237106 gl_context.cc:357] GL version: 2.1 (2.1 Metal - 88), renderer: Apple M3 Pro\n",
      "W0000 00:00:1733371486.787080 67442803 inference_feedback_manager.cc:114] Feedback manager requires a model with a single signature inference. Disabling support for feedback tensors.\n",
      "W0000 00:00:1733371486.795650 67442799 inference_feedback_manager.cc:114] Feedback manager requires a model with a single signature inference. Disabling support for feedback tensors.\n",
      "Processing samples:   0%| | 1/2630 [00:08<6:"
     ]
    },
    {
     "name": "stdout",
     "output_type": "stream",
     "text": [
      "Skipping SSD_C3_S092_P183_VC1_003651_004631: Missing or invalid Valence annotations.\n",
      "Skipping SVH_C3_S085_P170_VC1_000901_001561: Missing required files.\n",
      "Skipping C1_S020_P039_AD2: Missing required files.\n",
      "Skipping SVL_C2_S062_P123_VC1_000489_001586: Missing required files.\n"
     ]
    },
    {
     "name": "stderr",
     "output_type": "stream",
     "text": [
      "I0000 00:00:1733371495.615611 67237106 gl_context.cc:357] GL version: 2.1 (2.1 Metal - 88), renderer: Apple M3 Pro\n",
      "W0000 00:00:1733371495.617466 67443009 inference_feedback_manager.cc:114] Feedback manager requires a model with a single signature inference. Disabling support for feedback tensors.\n",
      "W0000 00:00:1733371495.622200 67443014 inference_feedback_manager.cc:114] Feedback manager requires a model with a single signature inference. Disabling support for feedback tensors.\n",
      "Processing samples:   0%| | 5/2630 [00:17<2:"
     ]
    },
    {
     "name": "stdout",
     "output_type": "stream",
     "text": [
      "Skipping SSD_C1_S001_P001_VC1_004201_005201: Missing or invalid Valence annotations.\n",
      "Skipping SVL_C2_S048_P096_VC1_000837_001711: Missing required files.\n"
     ]
    },
    {
     "name": "stderr",
     "output_type": "stream",
     "text": [
      "I0000 00:00:1733371504.345046 67237106 gl_context.cc:357] GL version: 2.1 (2.1 Metal - 88), renderer: Apple M3 Pro\n",
      "W0000 00:00:1733371504.346495 67443360 inference_feedback_manager.cc:114] Feedback manager requires a model with a single signature inference. Disabling support for feedback tensors.\n",
      "W0000 00:00:1733371504.352360 67443362 inference_feedback_manager.cc:114] Feedback manager requires a model with a single signature inference. Disabling support for feedback tensors.\n",
      "Processing samples:   0%| | 7/2630 [00:38<4:"
     ]
    },
    {
     "name": "stdout",
     "output_type": "stream",
     "text": [
      "Skipping C2_S197_P393_AD4: Missing or invalid Valence annotations.\n",
      "Skipping C5_S134_P268_AD1: Missing required files.\n",
      "Skipping C1_S008_P016_AD2: Missing required files.\n",
      "Skipping C1_S028_P056_AD3: Missing required files.\n"
     ]
    },
    {
     "name": "stderr",
     "output_type": "stream",
     "text": [
      "I0000 00:00:1733371525.175040 67237106 gl_context.cc:357] GL version: 2.1 (2.1 Metal - 88), renderer: Apple M3 Pro\n",
      "W0000 00:00:1733371525.177333 67444677 inference_feedback_manager.cc:114] Feedback manager requires a model with a single signature inference. Disabling support for feedback tensors.\n",
      "W0000 00:00:1733371525.182825 67444680 inference_feedback_manager.cc:114] Feedback manager requires a model with a single signature inference. Disabling support for feedback tensors.\n",
      "Processing samples:   0%| | 11/2630 [00:58<3"
     ]
    },
    {
     "name": "stdout",
     "output_type": "stream",
     "text": [
      "Skipping C1_S030_P059_AD4: Missing or invalid Valence annotations.\n",
      "Skipping C6_S186_P372_AD1: Missing required files.\n",
      "Skipping C3_S081_P162_AD1: Missing required files.\n"
     ]
    },
    {
     "name": "stderr",
     "output_type": "stream",
     "text": [
      "I0000 00:00:1733371545.291538 67237106 gl_context.cc:357] GL version: 2.1 (2.1 Metal - 88), renderer: Apple M3 Pro\n",
      "W0000 00:00:1733371545.293404 67445144 inference_feedback_manager.cc:114] Feedback manager requires a model with a single signature inference. Disabling support for feedback tensors.\n",
      "W0000 00:00:1733371545.298886 67445145 inference_feedback_manager.cc:114] Feedback manager requires a model with a single signature inference. Disabling support for feedback tensors.\n",
      "Processing samples:   1%| | 14/2630 [01:24<4"
     ]
    },
    {
     "name": "stdout",
     "output_type": "stream",
     "text": [
      "Skipping C3_S083_P165_AD4: Missing or invalid Valence annotations.\n"
     ]
    },
    {
     "name": "stderr",
     "output_type": "stream",
     "text": [
      "I0000 00:00:1733371571.019167 67237106 gl_context.cc:357] GL version: 2.1 (2.1 Metal - 88), renderer: Apple M3 Pro\n",
      "W0000 00:00:1733371571.021161 67445814 inference_feedback_manager.cc:114] Feedback manager requires a model with a single signature inference. Disabling support for feedback tensors.\n",
      "W0000 00:00:1733371571.028833 67445811 inference_feedback_manager.cc:114] Feedback manager requires a model with a single signature inference. Disabling support for feedback tensors.\n",
      "Processing samples:   1%| | 15/2630 [01:29<4"
     ]
    },
    {
     "name": "stdout",
     "output_type": "stream",
     "text": [
      "Skipping SSD_C4_S111_P222_VC1_000901_001550: Missing or invalid Valence annotations.\n",
      "Skipping C2_S050_P099_VC1: Missing required files.\n",
      "Skipping C3_S091_P181_AD2: Missing required files.\n"
     ]
    },
    {
     "name": "stderr",
     "output_type": "stream",
     "text": [
      "I0000 00:00:1733371576.551685 67237106 gl_context.cc:357] GL version: 2.1 (2.1 Metal - 88), renderer: Apple M3 Pro\n",
      "W0000 00:00:1733371576.552909 67445930 inference_feedback_manager.cc:114] Feedback manager requires a model with a single signature inference. Disabling support for feedback tensors.\n",
      "W0000 00:00:1733371576.557632 67445927 inference_feedback_manager.cc:114] Feedback manager requires a model with a single signature inference. Disabling support for feedback tensors.\n",
      "Processing samples:   1%| | 18/2630 [01:32<3"
     ]
    },
    {
     "name": "stdout",
     "output_type": "stream",
     "text": [
      "Skipping SSD_C5_S143_P285_VC1_002401_002651: Missing or invalid Valence annotations.\n",
      "Skipping C1_S018_P036_AD1: Missing required files.\n",
      "Skipping C5_S133_P265_AD3: Missing required files.\n",
      "Skipping C1_S030_P059_AD3: Missing required files.\n",
      "Skipping C1_S010_P019_AD2: Missing required files.\n"
     ]
    },
    {
     "name": "stderr",
     "output_type": "stream",
     "text": [
      "I0000 00:00:1733371578.812033 67237106 gl_context.cc:357] GL version: 2.1 (2.1 Metal - 88), renderer: Apple M3 Pro\n",
      "W0000 00:00:1733371578.813128 67446001 inference_feedback_manager.cc:114] Feedback manager requires a model with a single signature inference. Disabling support for feedback tensors.\n",
      "W0000 00:00:1733371578.817362 67445999 inference_feedback_manager.cc:114] Feedback manager requires a model with a single signature inference. Disabling support for feedback tensors.\n",
      "Processing samples:   1%| | 23/2630 [01:35<1"
     ]
    },
    {
     "name": "stdout",
     "output_type": "stream",
     "text": [
      "Skipping SSD_C3_S074_P148_VC1_001201_001631: Missing or invalid Valence annotations.\n",
      "Skipping TAL_C1_VC1: Missing required files.\n"
     ]
    },
    {
     "name": "stderr",
     "output_type": "stream",
     "text": [
      "I0000 00:00:1733371582.592125 67237106 gl_context.cc:357] GL version: 2.1 (2.1 Metal - 88), renderer: Apple M3 Pro\n",
      "W0000 00:00:1733371582.593278 67446102 inference_feedback_manager.cc:114] Feedback manager requires a model with a single signature inference. Disabling support for feedback tensors.\n",
      "W0000 00:00:1733371582.597508 67446100 inference_feedback_manager.cc:114] Feedback manager requires a model with a single signature inference. Disabling support for feedback tensors.\n",
      "Processing samples:   1%| | 25/2630 [01:58<3"
     ]
    },
    {
     "name": "stdout",
     "output_type": "stream",
     "text": [
      "Skipping C1_S028_P056_AD4: Missing or invalid Valence annotations.\n",
      "Skipping C2_S197_P393_AD3: Missing required files.\n",
      "Skipping C5_S160_P319_AD1: Missing required files.\n"
     ]
    },
    {
     "name": "stderr",
     "output_type": "stream",
     "text": [
      "I0000 00:00:1733371605.662424 67237106 gl_context.cc:357] GL version: 2.1 (2.1 Metal - 88), renderer: Apple M3 Pro\n",
      "W0000 00:00:1733371605.665521 67446607 inference_feedback_manager.cc:114] Feedback manager requires a model with a single signature inference. Disabling support for feedback tensors.\n",
      "W0000 00:00:1733371605.672286 67446604 inference_feedback_manager.cc:114] Feedback manager requires a model with a single signature inference. Disabling support for feedback tensors.\n",
      "Processing samples:   1%| | 28/2630 [02:47<5"
     ]
    },
    {
     "name": "stdout",
     "output_type": "stream",
     "text": [
      "Skipping SSD_C6_S190_P380_VC1_001527_006847: Missing or invalid Valence annotations.\n",
      "Skipping SAL_C4_S095_P189_VC1_004951_005150: Missing required files.\n",
      "Skipping EAS_C4_VC1: Missing required files.\n",
      "Skipping C4_S125_P250_VC1: Missing required files.\n"
     ]
    },
    {
     "name": "stderr",
     "output_type": "stream",
     "text": [
      "I0000 00:00:1733371653.975549 67237106 gl_context.cc:357] GL version: 2.1 (2.1 Metal - 88), renderer: Apple M3 Pro\n",
      "W0000 00:00:1733371653.978000 67447384 inference_feedback_manager.cc:114] Feedback manager requires a model with a single signature inference. Disabling support for feedback tensors.\n",
      "W0000 00:00:1733371653.983471 67447387 inference_feedback_manager.cc:114] Feedback manager requires a model with a single signature inference. Disabling support for feedback tensors.\n",
      "Processing samples:   1%| | 32/2630 [02:53<4"
     ]
    },
    {
     "name": "stdout",
     "output_type": "stream",
     "text": [
      "Skipping SSD_C4_S097_P194_VC1_002451_003100: Missing or invalid Valence annotations.\n",
      "Skipping C3_S084_P168_AD1: Missing required files.\n",
      "Skipping SVL_C3_S075_P150_VC1_005041_005637: Missing required files.\n"
     ]
    },
    {
     "name": "stderr",
     "output_type": "stream",
     "text": [
      "I0000 00:00:1733371659.873536 67237106 gl_context.cc:357] GL version: 2.1 (2.1 Metal - 88), renderer: Apple M3 Pro\n",
      "W0000 00:00:1733371659.874946 67447526 inference_feedback_manager.cc:114] Feedback manager requires a model with a single signature inference. Disabling support for feedback tensors.\n",
      "W0000 00:00:1733371659.881009 67447525 inference_feedback_manager.cc:114] Feedback manager requires a model with a single signature inference. Disabling support for feedback tensors.\n",
      "Processing samples:   1%| | 35/2630 [03:07<3"
     ]
    },
    {
     "name": "stdout",
     "output_type": "stream",
     "text": [
      "Skipping C5_S133_P265_AD4: Missing or invalid Valence annotations.\n",
      "Skipping SAL_C3_S083_P165_VC1_003801_004791: Missing required files.\n",
      "Skipping C5_S131_P262_AD1: Missing required files.\n",
      "Skipping C6_S173_P345_VC1: Missing required files.\n",
      "Skipping C5_S158_P316_AD2: Missing required files.\n",
      "Skipping SVL_C2_S050_P099_VC1_003700_004484: Missing required files.\n",
      "Skipping SVL_C3_S064_P127_VC1_001291_001731: Missing required files.\n",
      "Skipping C2_S048_P096_VC1: Missing required files.\n",
      "Skipping C3_S083_P165_AD3: Missing required files.\n",
      "Skipping SVL_C1_S027_P053_VC1_002061_003937: Missing required files.\n",
      "Skipping C1_S029_P057_VC1: Missing required files.\n"
     ]
    },
    {
     "name": "stderr",
     "output_type": "stream",
     "text": [
      "I0000 00:00:1733371673.794559 67237106 gl_context.cc:357] GL version: 2.1 (2.1 Metal - 88), renderer: Apple M3 Pro\n",
      "W0000 00:00:1733371673.796902 67447804 inference_feedback_manager.cc:114] Feedback manager requires a model with a single signature inference. Disabling support for feedback tensors.\n",
      "W0000 00:00:1733371673.801755 67447801 inference_feedback_manager.cc:114] Feedback manager requires a model with a single signature inference. Disabling support for feedback tensors.\n",
      "Processing samples:   2%| | 46/2630 [03:24<2"
     ]
    },
    {
     "name": "stdout",
     "output_type": "stream",
     "text": [
      "Skipping SSL_C6_S179_P358_VC1_000223_002217: Missing or invalid Valence annotations.\n",
      "Skipping C4_S104_P207_VC1: Missing required files.\n",
      "Skipping C3_S094_P188_AD3: Missing required files.\n",
      "Skipping SAH_C2_S044_P088_VC1_000834_001365: Missing required files.\n",
      "Skipping SAH_C4_S097_P193_VC1_003701_004200: Missing required files.\n",
      "Skipping C3_S077_P153_AD1: Missing required files.\n",
      "Skipping SVH_C5_S144_P287_VC1_003201_003701: Missing required files.\n",
      "Skipping C2_S035_P069_AD2: Missing required files.\n",
      "Skipping C5_S162_P323_VC1: Missing required files.\n"
     ]
    },
    {
     "name": "stderr",
     "output_type": "stream",
     "text": [
      "I0000 00:00:1733371691.070782 67237106 gl_context.cc:357] GL version: 2.1 (2.1 Metal - 88), renderer: Apple M3 Pro\n",
      "W0000 00:00:1733371691.073627 67448185 inference_feedback_manager.cc:114] Feedback manager requires a model with a single signature inference. Disabling support for feedback tensors.\n",
      "W0000 00:00:1733371691.079625 67448183 inference_feedback_manager.cc:114] Feedback manager requires a model with a single signature inference. Disabling support for feedback tensors.\n",
      "Processing samples:   2%| | 55/2630 [03:31<1"
     ]
    },
    {
     "name": "stdout",
     "output_type": "stream",
     "text": [
      "Skipping SSD_C1_S018_P036_VC1_002801_003601: Missing or invalid Valence annotations.\n"
     ]
    },
    {
     "name": "stderr",
     "output_type": "stream",
     "text": [
      "I0000 00:00:1733371698.031977 67237106 gl_context.cc:357] GL version: 2.1 (2.1 Metal - 88), renderer: Apple M3 Pro\n",
      "W0000 00:00:1733371698.033547 67448342 inference_feedback_manager.cc:114] Feedback manager requires a model with a single signature inference. Disabling support for feedback tensors.\n",
      "W0000 00:00:1733371698.039074 67448341 inference_feedback_manager.cc:114] Feedback manager requires a model with a single signature inference. Disabling support for feedback tensors.\n",
      "Processing samples:   2%| | 56/2630 [03:56<2"
     ]
    },
    {
     "name": "stdout",
     "output_type": "stream",
     "text": [
      "Skipping C1_S008_P015_AD4: Missing or invalid Valence annotations.\n",
      "Skipping SVL_C1_S018_P036_VC1_002718_004073: Missing required files.\n"
     ]
    },
    {
     "name": "stderr",
     "output_type": "stream",
     "text": [
      "I0000 00:00:1733371722.861382 67237106 gl_context.cc:357] GL version: 2.1 (2.1 Metal - 88), renderer: Apple M3 Pro\n",
      "W0000 00:00:1733371722.863674 67448659 inference_feedback_manager.cc:114] Feedback manager requires a model with a single signature inference. Disabling support for feedback tensors.\n",
      "W0000 00:00:1733371722.868790 67448657 inference_feedback_manager.cc:114] Feedback manager requires a model with a single signature inference. Disabling support for feedback tensors.\n",
      "Processing samples:   2%| | 58/2630 [03:59<2"
     ]
    },
    {
     "name": "stdout",
     "output_type": "stream",
     "text": [
      "Skipping SSD_C5_S138_P275_VC1_001001_001401: Missing or invalid Valence annotations.\n",
      "Skipping C5_S132_P264_VC1: Missing required files.\n",
      "Skipping C3_S083_P166_AD2: Missing required files.\n"
     ]
    },
    {
     "name": "stderr",
     "output_type": "stream",
     "text": [
      "I0000 00:00:1733371726.391888 67237106 gl_context.cc:357] GL version: 2.1 (2.1 Metal - 88), renderer: Apple M3 Pro\n",
      "W0000 00:00:1733371726.392904 67448764 inference_feedback_manager.cc:114] Feedback manager requires a model with a single signature inference. Disabling support for feedback tensors.\n",
      "W0000 00:00:1733371726.396988 67448762 inference_feedback_manager.cc:114] Feedback manager requires a model with a single signature inference. Disabling support for feedback tensors.\n",
      "Processing samples:   2%| | 61/2630 [04:18<2"
     ]
    },
    {
     "name": "stdout",
     "output_type": "stream",
     "text": [
      "Skipping C3_S091_P182_AD4: Missing or invalid Valence annotations.\n",
      "Skipping C3_S093_P185_AD1: Missing required files.\n",
      "Skipping C5_S158_P315_AD3: Missing required files.\n",
      "Skipping C4_S098_P196_AD1: Missing required files.\n",
      "Skipping SVL_C6_S189_P377_VC1_000002_000540: Missing required files.\n"
     ]
    },
    {
     "name": "stderr",
     "output_type": "stream",
     "text": [
      "I0000 00:00:1733371745.191853 67237106 gl_context.cc:357] GL version: 2.1 (2.1 Metal - 88), renderer: Apple M3 Pro\n",
      "W0000 00:00:1733371745.193989 67449255 inference_feedback_manager.cc:114] Feedback manager requires a model with a single signature inference. Disabling support for feedback tensors.\n",
      "W0000 00:00:1733371745.199524 67449253 inference_feedback_manager.cc:114] Feedback manager requires a model with a single signature inference. Disabling support for feedback tensors.\n",
      "Processing samples:   3%| | 66/2630 [04:30<2"
     ]
    },
    {
     "name": "stdout",
     "output_type": "stream",
     "text": [
      "Skipping C6_S172_P344_AD4: Missing or invalid Valence annotations.\n",
      "Skipping C1_S002_P003_VC1: Missing required files.\n",
      "Skipping C5_S148_P295_AD1: Missing required files.\n"
     ]
    },
    {
     "name": "stderr",
     "output_type": "stream",
     "text": [
      "I0000 00:00:1733371756.982573 67237106 gl_context.cc:357] GL version: 2.1 (2.1 Metal - 88), renderer: Apple M3 Pro\n",
      "W0000 00:00:1733371756.984600 67449587 inference_feedback_manager.cc:114] Feedback manager requires a model with a single signature inference. Disabling support for feedback tensors.\n",
      "W0000 00:00:1733371756.990405 67449586 inference_feedback_manager.cc:114] Feedback manager requires a model with a single signature inference. Disabling support for feedback tensors.\n",
      "Processing samples:   3%| | 69/2630 [04:42<2"
     ]
    },
    {
     "name": "stdout",
     "output_type": "stream",
     "text": [
      "Skipping SSD_C6_S165_P330_VC1_002018_003436: Missing or invalid Valence annotations.\n"
     ]
    },
    {
     "name": "stderr",
     "output_type": "stream",
     "text": [
      "I0000 00:00:1733371769.663530 67237106 gl_context.cc:357] GL version: 2.1 (2.1 Metal - 88), renderer: Apple M3 Pro\n",
      "W0000 00:00:1733371769.665506 67449804 inference_feedback_manager.cc:114] Feedback manager requires a model with a single signature inference. Disabling support for feedback tensors.\n",
      "W0000 00:00:1733371769.671188 67449808 inference_feedback_manager.cc:114] Feedback manager requires a model with a single signature inference. Disabling support for feedback tensors.\n",
      "Processing samples:   3%| | 70/2630 [05:04<3"
     ]
    },
    {
     "name": "stdout",
     "output_type": "stream",
     "text": [
      "Skipping C2_S049_P097_AD4: Missing or invalid Valence annotations.\n",
      "Skipping SAH_C2_S037_P074_VC1_002225_003088: Missing required files.\n",
      "Skipping C1_S008_P015_AD3: Missing required files.\n"
     ]
    },
    {
     "name": "stderr",
     "output_type": "stream",
     "text": [
      "I0000 00:00:1733371791.775423 67237106 gl_context.cc:357] GL version: 2.1 (2.1 Metal - 88), renderer: Apple M3 Pro\n",
      "W0000 00:00:1733371791.777506 67450440 inference_feedback_manager.cc:114] Feedback manager requires a model with a single signature inference. Disabling support for feedback tensors.\n",
      "W0000 00:00:1733371791.783379 67450441 inference_feedback_manager.cc:114] Feedback manager requires a model with a single signature inference. Disabling support for feedback tensors.\n",
      "Processing samples:   3%| | 73/2630 [05:11<3"
     ]
    },
    {
     "name": "stdout",
     "output_type": "stream",
     "text": [
      "Skipping SSD_C2_S042_P083_VC1_002694_003374: Missing or invalid Valence annotations.\n",
      "Skipping C1_S028_P055_AD2: Missing required files.\n",
      "Skipping C6_S175_P349_AD1: Missing required files.\n",
      "Skipping AVS_C2_AD1: Missing required files.\n",
      "Skipping C2_S196_P392_VC1: Missing required files.\n",
      "Skipping C2_S042_P083_AD2: Missing required files.\n"
     ]
    },
    {
     "name": "stderr",
     "output_type": "stream",
     "text": [
      "I0000 00:00:1733371797.938747 67237106 gl_context.cc:357] GL version: 2.1 (2.1 Metal - 88), renderer: Apple M3 Pro\n",
      "W0000 00:00:1733371797.939784 67450595 inference_feedback_manager.cc:114] Feedback manager requires a model with a single signature inference. Disabling support for feedback tensors.\n",
      "W0000 00:00:1733371797.945093 67450593 inference_feedback_manager.cc:114] Feedback manager requires a model with a single signature inference. Disabling support for feedback tensors.\n",
      "Processing samples:   3%| | 79/2630 [05:23<2"
     ]
    },
    {
     "name": "stdout",
     "output_type": "stream",
     "text": [
      "Skipping C3_S094_P188_AD4: Missing or invalid Valence annotations.\n",
      "Skipping C5_S152_P303_VC1: Missing required files.\n",
      "Skipping C5_S133_P266_AD2: Missing required files.\n"
     ]
    },
    {
     "name": "stderr",
     "output_type": "stream",
     "text": [
      "I0000 00:00:1733371809.976449 67237106 gl_context.cc:357] GL version: 2.1 (2.1 Metal - 88), renderer: Apple M3 Pro\n",
      "W0000 00:00:1733371809.978907 67450842 inference_feedback_manager.cc:114] Feedback manager requires a model with a single signature inference. Disabling support for feedback tensors.\n",
      "W0000 00:00:1733371809.983106 67450844 inference_feedback_manager.cc:114] Feedback manager requires a model with a single signature inference. Disabling support for feedback tensors.\n",
      "Processing samples:   3%| | 82/2630 [05:57<3"
     ]
    },
    {
     "name": "stdout",
     "output_type": "stream",
     "text": [
      "Skipping SSL_C6_S180_P359_VC1_001744_005672: Missing or invalid Valence annotations.\n",
      "Skipping C5_S140_P279_AD2: Missing required files.\n",
      "Skipping C2_S049_P097_AD3: Missing required files.\n",
      "Skipping C3_S082_P164_VC1: Missing required files.\n",
      "Skipping C6_S172_P344_AD3: Missing required files.\n",
      "Skipping C3_S091_P182_AD3: Missing required files.\n"
     ]
    },
    {
     "name": "stderr",
     "output_type": "stream",
     "text": [
      "I0000 00:00:1733371844.155504 67237106 gl_context.cc:357] GL version: 2.1 (2.1 Metal - 88), renderer: Apple M3 Pro\n",
      "W0000 00:00:1733371844.157496 67451489 inference_feedback_manager.cc:114] Feedback manager requires a model with a single signature inference. Disabling support for feedback tensors.\n",
      "W0000 00:00:1733371844.172564 67451490 inference_feedback_manager.cc:114] Feedback manager requires a model with a single signature inference. Disabling support for feedback tensors.\n",
      "Processing samples:   3%| | 88/2630 [06:18<3"
     ]
    },
    {
     "name": "stdout",
     "output_type": "stream",
     "text": [
      "Skipping C5_S158_P315_AD4: Missing or invalid Valence annotations.\n",
      "Skipping SVH_C2_S059_P117_VC1_000601_001353: Missing required files.\n",
      "Skipping C2_S059_P117_AD1: Missing required files.\n",
      "Skipping C6_S173_P345_AD3: Missing required files.\n",
      "Skipping C2_S058_P116_AD1: Missing required files.\n"
     ]
    },
    {
     "name": "stderr",
     "output_type": "stream",
     "text": [
      "I0000 00:00:1733371865.199060 67237106 gl_context.cc:357] GL version: 2.1 (2.1 Metal - 88), renderer: Apple M3 Pro\n",
      "W0000 00:00:1733371865.200995 67451819 inference_feedback_manager.cc:114] Feedback manager requires a model with a single signature inference. Disabling support for feedback tensors.\n",
      "W0000 00:00:1733371865.206367 67451819 inference_feedback_manager.cc:114] Feedback manager requires a model with a single signature inference. Disabling support for feedback tensors.\n",
      "Processing samples:   4%| | 93/2630 [06:47<3"
     ]
    },
    {
     "name": "stdout",
     "output_type": "stream",
     "text": [
      "Skipping C2_S050_P099_AD4: Missing or invalid Valence annotations.\n",
      "Skipping C4_S115_P230_AD1: Missing required files.\n",
      "Skipping C2_S048_P096_AD3: Missing required files.\n",
      "Skipping C3_S083_P165_VC1: Missing required files.\n",
      "Skipping C6_S174_P348_AD1: Missing required files.\n",
      "Skipping C2_S197_P393_VC1: Missing required files.\n",
      "Skipping C1_S030_P059_VC1: Missing required files.\n",
      "Skipping AVS_C3_AD1: Missing required files.\n"
     ]
    },
    {
     "name": "stderr",
     "output_type": "stream",
     "text": [
      "I0000 00:00:1733371894.579208 67237106 gl_context.cc:357] GL version: 2.1 (2.1 Metal - 88), renderer: Apple M3 Pro\n",
      "W0000 00:00:1733371894.582408 67452544 inference_feedback_manager.cc:114] Feedback manager requires a model with a single signature inference. Disabling support for feedback tensors.\n",
      "W0000 00:00:1733371894.600649 67452543 inference_feedback_manager.cc:114] Feedback manager requires a model with a single signature inference. Disabling support for feedback tensors.\n",
      "Processing samples:   4%| | 101/2630 [06:54<"
     ]
    },
    {
     "name": "stdout",
     "output_type": "stream",
     "text": [
      "Skipping SSL_C4_S097_P193_VC1_006351_007100: Missing or invalid Valence annotations.\n",
      "Skipping C2_S060_P119_AD2: Missing required files.\n",
      "Skipping SVL_C6_S176_P352_VC1_000002_000748: Missing required files.\n",
      "Skipping SAL_C2_S041_P081_VC1_003415_004258: Missing required files.\n",
      "Skipping C4_S105_P210_AD2: Missing required files.\n",
      "Skipping C4_S125_P250_AD3: Missing required files.\n",
      "Skipping SAH_C6_S183_P366_VC1_002795_003506: Missing required files.\n"
     ]
    },
    {
     "name": "stderr",
     "output_type": "stream",
     "text": [
      "I0000 00:00:1733371901.677987 67237106 gl_context.cc:357] GL version: 2.1 (2.1 Metal - 88), renderer: Apple M3 Pro\n",
      "W0000 00:00:1733371901.679531 67452721 inference_feedback_manager.cc:114] Feedback manager requires a model with a single signature inference. Disabling support for feedback tensors.\n",
      "W0000 00:00:1733371901.685038 67452723 inference_feedback_manager.cc:114] Feedback manager requires a model with a single signature inference. Disabling support for feedback tensors.\n",
      "Processing samples:   4%| | 108/2630 [07:12<"
     ]
    },
    {
     "name": "stdout",
     "output_type": "stream",
     "text": [
      "Skipping C2_S048_P096_AD4: Missing or invalid Valence annotations.\n"
     ]
    },
    {
     "name": "stderr",
     "output_type": "stream",
     "text": [
      "I0000 00:00:1733371919.196297 67237106 gl_context.cc:357] GL version: 2.1 (2.1 Metal - 88), renderer: Apple M3 Pro\n",
      "W0000 00:00:1733371919.199078 67453297 inference_feedback_manager.cc:114] Feedback manager requires a model with a single signature inference. Disabling support for feedback tensors.\n",
      "W0000 00:00:1733371919.214668 67453304 inference_feedback_manager.cc:114] Feedback manager requires a model with a single signature inference. Disabling support for feedback tensors.\n",
      "Processing samples:   4%| | 109/2630 [07:19<"
     ]
    },
    {
     "name": "stdout",
     "output_type": "stream",
     "text": [
      "Skipping SSD_C3_S087_P173_VC1_002141_002821: Missing or invalid Valence annotations.\n",
      "Skipping C2_S050_P099_AD3: Missing required files.\n",
      "Skipping C5_S133_P265_VC1: Missing required files.\n",
      "Skipping C3_S092_P184_AD1: Missing required files.\n",
      "Skipping C4_S099_P197_AD1: Missing required files.\n"
     ]
    },
    {
     "name": "stderr",
     "output_type": "stream",
     "text": [
      "I0000 00:00:1733371926.250115 67237106 gl_context.cc:357] GL version: 2.1 (2.1 Metal - 88), renderer: Apple M3 Pro\n",
      "W0000 00:00:1733371926.251668 67453493 inference_feedback_manager.cc:114] Feedback manager requires a model with a single signature inference. Disabling support for feedback tensors.\n",
      "W0000 00:00:1733371926.258487 67453490 inference_feedback_manager.cc:114] Feedback manager requires a model with a single signature inference. Disabling support for feedback tensors.\n",
      "Processing samples:   4%| | 114/2630 [07:49<"
     ]
    },
    {
     "name": "stdout",
     "output_type": "stream",
     "text": [
      "Skipping C6_S173_P345_AD4: Missing or invalid Valence annotations.\n",
      "Skipping C6_S171_P342_AD1: Missing required files.\n",
      "Skipping C2_S196_P391_AD2: Missing required files.\n"
     ]
    },
    {
     "name": "stderr",
     "output_type": "stream",
     "text": [
      "I0000 00:00:1733371956.245823 67237106 gl_context.cc:357] GL version: 2.1 (2.1 Metal - 88), renderer: Apple M3 Pro\n",
      "W0000 00:00:1733371956.248830 67454141 inference_feedback_manager.cc:114] Feedback manager requires a model with a single signature inference. Disabling support for feedback tensors.\n",
      "W0000 00:00:1733371956.257851 67454146 inference_feedback_manager.cc:114] Feedback manager requires a model with a single signature inference. Disabling support for feedback tensors.\n",
      "Processing samples:   4%| | 117/2630 [08:01<"
     ]
    },
    {
     "name": "stdout",
     "output_type": "stream",
     "text": [
      "Skipping C4_S125_P250_AD4: Missing or invalid Valence annotations.\n",
      "Skipping C3_S076_P152_AD1: Missing required files.\n",
      "Skipping C3_S069_P138_AD1: Missing required files.\n",
      "Skipping C2_S034_P068_AD2: Missing required files.\n",
      "Skipping SAH_C5_S140_P279_VC1_002601_002901: Missing required files.\n",
      "Skipping C1_S028_P056_VC1: Missing required files.\n",
      "Skipping C5_S159_P317_AD2: Missing required files.\n"
     ]
    },
    {
     "name": "stderr",
     "output_type": "stream",
     "text": [
      "I0000 00:00:1733371968.128749 67237106 gl_context.cc:357] GL version: 2.1 (2.1 Metal - 88), renderer: Apple M3 Pro\n",
      "W0000 00:00:1733371968.132024 67454427 inference_feedback_manager.cc:114] Feedback manager requires a model with a single signature inference. Disabling support for feedback tensors.\n",
      "W0000 00:00:1733371968.137631 67454427 inference_feedback_manager.cc:114] Feedback manager requires a model with a single signature inference. Disabling support for feedback tensors.\n",
      "Processing samples:   5%| | 124/2630 [08:21<"
     ]
    },
    {
     "name": "stdout",
     "output_type": "stream",
     "text": [
      "Skipping C1_S002_P003_AD4: Missing or invalid Valence annotations.\n",
      "Skipping C2_S049_P097_VC1: Missing required files.\n",
      "Skipping C3_S082_P164_AD3: Missing required files.\n"
     ]
    },
    {
     "name": "stderr",
     "output_type": "stream",
     "text": [
      "I0000 00:00:1733371988.659507 67237106 gl_context.cc:357] GL version: 2.1 (2.1 Metal - 88), renderer: Apple M3 Pro\n",
      "W0000 00:00:1733371988.661848 67454980 inference_feedback_manager.cc:114] Feedback manager requires a model with a single signature inference. Disabling support for feedback tensors.\n",
      "W0000 00:00:1733371988.670104 67454979 inference_feedback_manager.cc:114] Feedback manager requires a model with a single signature inference. Disabling support for feedback tensors.\n",
      "Processing samples:   5%| | 127/2630 [08:50<"
     ]
    },
    {
     "name": "stdout",
     "output_type": "stream",
     "text": [
      "Skipping C5_S132_P264_AD4: Missing or invalid Valence annotations.\n",
      "Skipping C4_S117_P234_AD2: Missing required files.\n",
      "Skipping C6_S172_P344_VC1: Missing required files.\n",
      "Skipping C2_S040_P079_AD1: Missing required files.\n",
      "Skipping C3_S091_P182_VC1: Missing required files.\n",
      "Skipping C2_S033_P066_AD1: Missing required files.\n",
      "Skipping SAH_C5_S132_P263_VC1_001151_001601: Missing required files.\n"
     ]
    },
    {
     "name": "stderr",
     "output_type": "stream",
     "text": [
      "I0000 00:00:1733372017.143773 67237106 gl_context.cc:357] GL version: 2.1 (2.1 Metal - 88), renderer: Apple M3 Pro\n",
      "W0000 00:00:1733372017.145933 67455840 inference_feedback_manager.cc:114] Feedback manager requires a model with a single signature inference. Disabling support for feedback tensors.\n",
      "W0000 00:00:1733372017.151538 67455838 inference_feedback_manager.cc:114] Feedback manager requires a model with a single signature inference. Disabling support for feedback tensors.\n",
      "Processing samples:   5%| | 134/2630 [09:04<"
     ]
    },
    {
     "name": "stdout",
     "output_type": "stream",
     "text": [
      "Skipping C5_S162_P323_AD4: Missing or invalid Valence annotations.\n",
      "Skipping SVL_C2_S199_P397_VC1_004085_004313: Missing required files.\n",
      "Skipping C1_S008_P015_VC1: Missing required files.\n",
      "Skipping C5_S142_P283_AD1: Missing required files.\n"
     ]
    },
    {
     "name": "stderr",
     "output_type": "stream",
     "text": [
      "I0000 00:00:1733372031.312416 67237106 gl_context.cc:357] GL version: 2.1 (2.1 Metal - 88), renderer: Apple M3 Pro\n",
      "W0000 00:00:1733372031.314517 67456234 inference_feedback_manager.cc:114] Feedback manager requires a model with a single signature inference. Disabling support for feedback tensors.\n",
      "W0000 00:00:1733372031.322228 67456229 inference_feedback_manager.cc:114] Feedback manager requires a model with a single signature inference. Disabling support for feedback tensors.\n",
      "Processing samples:   5%| | 138/2630 [09:16<"
     ]
    },
    {
     "name": "stdout",
     "output_type": "stream",
     "text": [
      "Skipping SSL_C6_S185_P369_VC1_001136_002527: Missing or invalid Valence annotations.\n",
      "Skipping EAS_C5_VC1: Missing required files.\n",
      "Skipping C3_S085_P169_AD1: Missing required files.\n",
      "Skipping C5_S152_P303_AD3: Missing required files.\n"
     ]
    },
    {
     "name": "stderr",
     "output_type": "stream",
     "text": [
      "I0000 00:00:1733372043.490907 67237106 gl_context.cc:357] GL version: 2.1 (2.1 Metal - 88), renderer: Apple M3 Pro\n",
      "W0000 00:00:1733372043.492739 67456545 inference_feedback_manager.cc:114] Feedback manager requires a model with a single signature inference. Disabling support for feedback tensors.\n",
      "W0000 00:00:1733372043.497838 67456546 inference_feedback_manager.cc:114] Feedback manager requires a model with a single signature inference. Disabling support for feedback tensors.\n",
      "Processing samples:   5%| | 142/2630 [09:29<"
     ]
    },
    {
     "name": "stdout",
     "output_type": "stream",
     "text": [
      "Skipping C1_S029_P057_AD4: Missing or invalid Valence annotations.\n",
      "Skipping C4_S107_P214_AD1: Missing required files.\n",
      "Skipping C2_S196_P392_AD3: Missing required files.\n"
     ]
    },
    {
     "name": "stderr",
     "output_type": "stream",
     "text": [
      "I0000 00:00:1733372056.362628 67237106 gl_context.cc:357] GL version: 2.1 (2.1 Metal - 88), renderer: Apple M3 Pro\n",
      "W0000 00:00:1733372056.366693 67456782 inference_feedback_manager.cc:114] Feedback manager requires a model with a single signature inference. Disabling support for feedback tensors.\n",
      "W0000 00:00:1733372056.377250 67456785 inference_feedback_manager.cc:114] Feedback manager requires a model with a single signature inference. Disabling support for feedback tensors.\n",
      "Processing samples:   6%| | 145/2630 [09:36<"
     ]
    },
    {
     "name": "stdout",
     "output_type": "stream",
     "text": [
      "Skipping C4_S104_P207_AD4: Missing or invalid Valence annotations.\n",
      "Skipping C5_S158_P315_VC1: Missing required files.\n"
     ]
    },
    {
     "name": "stderr",
     "output_type": "stream",
     "text": [
      "I0000 00:00:1733372063.748069 67237106 gl_context.cc:357] GL version: 2.1 (2.1 Metal - 88), renderer: Apple M3 Pro\n",
      "W0000 00:00:1733372063.749433 67457158 inference_feedback_manager.cc:114] Feedback manager requires a model with a single signature inference. Disabling support for feedback tensors.\n",
      "W0000 00:00:1733372063.753907 67457161 inference_feedback_manager.cc:114] Feedback manager requires a model with a single signature inference. Disabling support for feedback tensors.\n",
      "Processing samples:   6%| | 147/2630 [09:41<"
     ]
    },
    {
     "name": "stdout",
     "output_type": "stream",
     "text": [
      "Skipping SSL_C1_S018_P035_VC1_002201_002701: Missing or invalid Valence annotations.\n",
      "Skipping C1_S019_P037_AD1: Missing required files.\n",
      "Skipping C5_S132_P264_AD3: Missing required files.\n",
      "Skipping C2_S048_P095_AD2: Missing required files.\n"
     ]
    },
    {
     "name": "stderr",
     "output_type": "stream",
     "text": [
      "I0000 00:00:1733372068.092742 67237106 gl_context.cc:357] GL version: 2.1 (2.1 Metal - 88), renderer: Apple M3 Pro\n",
      "W0000 00:00:1733372068.093732 67457246 inference_feedback_manager.cc:114] Feedback manager requires a model with a single signature inference. Disabling support for feedback tensors.\n",
      "W0000 00:00:1733372068.098333 67457245 inference_feedback_manager.cc:114] Feedback manager requires a model with a single signature inference. Disabling support for feedback tensors.\n",
      "Processing samples:   6%| | 151/2630 [09:42<"
     ]
    },
    {
     "name": "stdout",
     "output_type": "stream",
     "text": [
      "Skipping SSD_C5_S140_P280_VC1_001901_002051: Missing or invalid Valence annotations.\n"
     ]
    },
    {
     "name": "stderr",
     "output_type": "stream",
     "text": [
      "I0000 00:00:1733372069.407273 67237106 gl_context.cc:357] GL version: 2.1 (2.1 Metal - 88), renderer: Apple M3 Pro\n",
      "W0000 00:00:1733372069.408843 67457306 inference_feedback_manager.cc:114] Feedback manager requires a model with a single signature inference. Disabling support for feedback tensors.\n",
      "W0000 00:00:1733372069.412998 67457306 inference_feedback_manager.cc:114] Feedback manager requires a model with a single signature inference. Disabling support for feedback tensors.\n",
      "Processing samples:   6%| | 152/2630 [10:05<"
     ]
    },
    {
     "name": "stdout",
     "output_type": "stream",
     "text": [
      "Skipping C3_S082_P164_AD4: Missing or invalid Valence annotations.\n",
      "Skipping C1_S002_P003_AD3: Missing required files.\n",
      "Skipping C1_S022_P043_AD2: Missing required files.\n",
      "Skipping C6_S173_P346_AD2: Missing required files.\n",
      "Skipping C3_S090_P180_AD2: Missing required files.\n",
      "Skipping C4_S104_P207_AD3: Missing required files.\n",
      "Skipping C4_S124_P247_AD2: Missing required files.\n",
      "Skipping C3_S094_P188_VC1: Missing required files.\n",
      "Skipping TVH_C1_VC1: Missing required files.\n"
     ]
    },
    {
     "name": "stderr",
     "output_type": "stream",
     "text": [
      "I0000 00:00:1733372092.583324 67237106 gl_context.cc:357] GL version: 2.1 (2.1 Metal - 88), renderer: Apple M3 Pro\n",
      "W0000 00:00:1733372092.585386 67457794 inference_feedback_manager.cc:114] Feedback manager requires a model with a single signature inference. Disabling support for feedback tensors.\n",
      "W0000 00:00:1733372092.596929 67457791 inference_feedback_manager.cc:114] Feedback manager requires a model with a single signature inference. Disabling support for feedback tensors.\n",
      "Processing samples:   6%| | 161/2630 [10:27<"
     ]
    },
    {
     "name": "stdout",
     "output_type": "stream",
     "text": [
      "Skipping C2_S196_P392_AD4: Missing or invalid Valence annotations.\n",
      "Skipping C1_S009_P017_AD2: Missing required files.\n",
      "Skipping C5_S135_P269_AD1: Missing required files.\n",
      "Skipping C1_S029_P057_AD3: Missing required files.\n",
      "Skipping C6_S187_P373_AD1: Missing required files.\n"
     ]
    },
    {
     "name": "stderr",
     "output_type": "stream",
     "text": [
      "I0000 00:00:1733372114.349268 67237106 gl_context.cc:357] GL version: 2.1 (2.1 Metal - 88), renderer: Apple M3 Pro\n",
      "W0000 00:00:1733372114.351147 67458315 inference_feedback_manager.cc:114] Feedback manager requires a model with a single signature inference. Disabling support for feedback tensors.\n",
      "W0000 00:00:1733372114.357194 67458316 inference_feedback_manager.cc:114] Feedback manager requires a model with a single signature inference. Disabling support for feedback tensors.\n",
      "Processing samples:   6%| | 166/2630 [10:38<"
     ]
    },
    {
     "name": "stdout",
     "output_type": "stream",
     "text": [
      "Skipping C5_S152_P303_AD4: Missing or invalid Valence annotations.\n",
      "Skipping C2_S199_P398_AD2: Missing required files.\n",
      "Skipping C1_S032_P063_AD1: Missing required files.\n",
      "Skipping SAL_C1_S031_P062_VC1_001438_002301: Missing required files.\n",
      "Skipping C3_S066_P131_AD1: Missing required files.\n",
      "Skipping C5_S162_P323_AD3: Missing required files.\n",
      "Skipping C2_S042_P083_AD3: Missing required files.\n",
      "Skipping C3_S067_P133_AD1: Missing required files.\n"
     ]
    },
    {
     "name": "stderr",
     "output_type": "stream",
     "text": [
      "I0000 00:00:1733372124.963907 67237106 gl_context.cc:357] GL version: 2.1 (2.1 Metal - 88), renderer: Apple M3 Pro\n",
      "W0000 00:00:1733372124.966345 67458612 inference_feedback_manager.cc:114] Feedback manager requires a model with a single signature inference. Disabling support for feedback tensors.\n",
      "W0000 00:00:1733372124.971779 67458611 inference_feedback_manager.cc:114] Feedback manager requires a model with a single signature inference. Disabling support for feedback tensors.\n",
      "Processing samples:   7%| | 174/2630 [10:45<"
     ]
    },
    {
     "name": "stdout",
     "output_type": "stream",
     "text": [
      "Skipping SSL_C1_S029_P057_VC1_003151_003901: Missing or invalid Valence annotations.\n",
      "Skipping C6_S186_P371_AD1: Missing required files.\n",
      "Skipping TVH_C3_VC1: Missing required files.\n",
      "Skipping C1_S008_P015_AD2: Missing required files.\n",
      "Skipping C1_S028_P055_AD3: Missing required files.\n",
      "Skipping C2_S052_P103_AD1: Missing required files.\n"
     ]
    },
    {
     "name": "stderr",
     "output_type": "stream",
     "text": [
      "I0000 00:00:1733372132.227005 67237106 gl_context.cc:357] GL version: 2.1 (2.1 Metal - 88), renderer: Apple M3 Pro\n",
      "W0000 00:00:1733372132.228313 67458848 inference_feedback_manager.cc:114] Feedback manager requires a model with a single signature inference. Disabling support for feedback tensors.\n",
      "W0000 00:00:1733372132.232876 67458846 inference_feedback_manager.cc:114] Feedback manager requires a model with a single signature inference. Disabling support for feedback tensors.\n",
      "Processing samples:   7%| | 180/2630 [10:54<"
     ]
    },
    {
     "name": "stdout",
     "output_type": "stream",
     "text": [
      "Skipping C2_S035_P069_AD4: Missing or invalid Valence annotations.\n",
      "Skipping C3_S091_P182_AD2: Missing required files.\n"
     ]
    },
    {
     "name": "stderr",
     "output_type": "stream",
     "text": [
      "I0000 00:00:1733372140.896444 67237106 gl_context.cc:357] GL version: 2.1 (2.1 Metal - 88), renderer: Apple M3 Pro\n",
      "W0000 00:00:1733372140.897953 67459003 inference_feedback_manager.cc:114] Feedback manager requires a model with a single signature inference. Disabling support for feedback tensors.\n",
      "W0000 00:00:1733372140.909174 67459006 inference_feedback_manager.cc:114] Feedback manager requires a model with a single signature inference. Disabling support for feedback tensors.\n",
      "Processing samples:   7%| | 182/2630 [10:56<"
     ]
    },
    {
     "name": "stdout",
     "output_type": "stream",
     "text": [
      "Skipping SSD_C1_S023_P045_VC1_003701_004001: Missing or invalid Valence annotations.\n",
      "Skipping C6_S172_P344_AD2: Missing required files.\n",
      "Skipping C4_S117_P234_VC1: Missing required files.\n",
      "Skipping C3_S081_P161_AD1: Missing required files.\n"
     ]
    },
    {
     "name": "stderr",
     "output_type": "stream",
     "text": [
      "I0000 00:00:1733372143.668351 67237106 gl_context.cc:357] GL version: 2.1 (2.1 Metal - 88), renderer: Apple M3 Pro\n",
      "W0000 00:00:1733372143.669422 67459075 inference_feedback_manager.cc:114] Feedback manager requires a model with a single signature inference. Disabling support for feedback tensors.\n",
      "W0000 00:00:1733372143.673716 67459072 inference_feedback_manager.cc:114] Feedback manager requires a model with a single signature inference. Disabling support for feedback tensors.\n",
      "Processing samples:   7%| | 186/2630 [11:15<"
     ]
    },
    {
     "name": "stdout",
     "output_type": "stream",
     "text": [
      "Skipping C3_S083_P166_AD4: Missing or invalid Valence annotations.\n",
      "Skipping C5_S140_P279_AD3: Missing required files.\n",
      "Skipping C2_S049_P097_AD2: Missing required files.\n",
      "Skipping C5_S133_P266_AD3: Missing required files.\n",
      "Skipping C1_S018_P035_AD1: Missing required files.\n",
      "Skipping C5_S159_P317_VC1: Missing required files.\n"
     ]
    },
    {
     "name": "stderr",
     "output_type": "stream",
     "text": [
      "I0000 00:00:1733372162.470346 67237106 gl_context.cc:357] GL version: 2.1 (2.1 Metal - 88), renderer: Apple M3 Pro\n",
      "W0000 00:00:1733372162.472457 67459523 inference_feedback_manager.cc:114] Feedback manager requires a model with a single signature inference. Disabling support for feedback tensors.\n",
      "W0000 00:00:1733372162.478023 67459525 inference_feedback_manager.cc:114] Feedback manager requires a model with a single signature inference. Disabling support for feedback tensors.\n",
      "Processing samples:   7%| | 192/2630 [11:19<"
     ]
    },
    {
     "name": "stdout",
     "output_type": "stream",
     "text": [
      "Skipping SSD_C1_S023_P045_VC1_001801_002201: Missing or invalid Valence annotations.\n",
      "Skipping C2_S035_P069_AD3: Missing required files.\n",
      "Skipping C6_S165_P329_AD1: Missing required files.\n",
      "Skipping TAL_C2_VC1: Missing required files.\n"
     ]
    },
    {
     "name": "stderr",
     "output_type": "stream",
     "text": [
      "I0000 00:00:1733372166.044609 67237106 gl_context.cc:357] GL version: 2.1 (2.1 Metal - 88), renderer: Apple M3 Pro\n",
      "W0000 00:00:1733372166.045617 67459593 inference_feedback_manager.cc:114] Feedback manager requires a model with a single signature inference. Disabling support for feedback tensors.\n",
      "W0000 00:00:1733372166.050091 67459592 inference_feedback_manager.cc:114] Feedback manager requires a model with a single signature inference. Disabling support for feedback tensors.\n",
      "Processing samples:   7%| | 196/2630 [11:41<"
     ]
    },
    {
     "name": "stdout",
     "output_type": "stream",
     "text": [
      "Skipping C1_S028_P055_AD4: Missing or invalid Valence annotations.\n",
      "Skipping C2_S199_P398_VC1: Missing required files.\n",
      "Skipping SAH_C5_S146_P292_VC1_002901_003151: Missing required files.\n",
      "Skipping SAH_C5_S148_P295_VC1_002201_002651: Missing required files.\n",
      "Skipping C1_S009_P017_VC1: Missing required files.\n",
      "Skipping C2_S062_P123_AD1: Missing required files.\n"
     ]
    },
    {
     "name": "stderr",
     "output_type": "stream",
     "text": [
      "I0000 00:00:1733372188.749977 67237106 gl_context.cc:357] GL version: 2.1 (2.1 Metal - 88), renderer: Apple M3 Pro\n",
      "W0000 00:00:1733372188.751870 67460313 inference_feedback_manager.cc:114] Feedback manager requires a model with a single signature inference. Disabling support for feedback tensors.\n",
      "W0000 00:00:1733372188.757588 67460312 inference_feedback_manager.cc:114] Feedback manager requires a model with a single signature inference. Disabling support for feedback tensors.\n",
      "Processing samples:   8%| | 202/2630 [11:45<"
     ]
    },
    {
     "name": "stdout",
     "output_type": "stream",
     "text": [
      "Skipping SSD_C5_S154_P307_VC1_000751_001201: Missing or invalid Valence annotations.\n"
     ]
    },
    {
     "name": "stderr",
     "output_type": "stream",
     "text": [
      "I0000 00:00:1733372192.669506 67237106 gl_context.cc:357] GL version: 2.1 (2.1 Metal - 88), renderer: Apple M3 Pro\n",
      "W0000 00:00:1733372192.670774 67460410 inference_feedback_manager.cc:114] Feedback manager requires a model with a single signature inference. Disabling support for feedback tensors.\n",
      "W0000 00:00:1733372192.675203 67460418 inference_feedback_manager.cc:114] Feedback manager requires a model with a single signature inference. Disabling support for feedback tensors.\n",
      "Processing samples:   8%| | 203/2630 [11:55<"
     ]
    },
    {
     "name": "stdout",
     "output_type": "stream",
     "text": [
      "Skipping C2_S042_P083_AD4: Missing or invalid Valence annotations.\n",
      "Skipping C4_S124_P247_VC1: Missing required files.\n",
      "Skipping C3_S094_P188_AD2: Missing required files.\n",
      "Skipping C3_S090_P180_VC1: Missing required files.\n",
      "Skipping C1_S022_P043_VC1: Missing required files.\n",
      "Skipping C6_S173_P346_VC1: Missing required files.\n"
     ]
    },
    {
     "name": "stderr",
     "output_type": "stream",
     "text": [
      "I0000 00:00:1733372201.835083 67237106 gl_context.cc:357] GL version: 2.1 (2.1 Metal - 88), renderer: Apple M3 Pro\n",
      "W0000 00:00:1733372201.836148 67460684 inference_feedback_manager.cc:114] Feedback manager requires a model with a single signature inference. Disabling support for feedback tensors.\n",
      "W0000 00:00:1733372201.840809 67460688 inference_feedback_manager.cc:114] Feedback manager requires a model with a single signature inference. Disabling support for feedback tensors.\n",
      "Processing samples:   8%| | 209/2630 [12:16<"
     ]
    },
    {
     "name": "stdout",
     "output_type": "stream",
     "text": [
      "Skipping C5_S133_P266_AD4: Missing or invalid Valence annotations.\n",
      "Skipping C5_S131_P261_AD1: Missing required files.\n"
     ]
    },
    {
     "name": "stderr",
     "output_type": "stream",
     "text": [
      "I0000 00:00:1733372223.208325 67237106 gl_context.cc:357] GL version: 2.1 (2.1 Metal - 88), renderer: Apple M3 Pro\n",
      "W0000 00:00:1733372223.210244 67461314 inference_feedback_manager.cc:114] Feedback manager requires a model with a single signature inference. Disabling support for feedback tensors.\n",
      "W0000 00:00:1733372223.216264 67461316 inference_feedback_manager.cc:114] Feedback manager requires a model with a single signature inference. Disabling support for feedback tensors.\n",
      "Processing samples:   8%| | 211/2630 [12:34<"
     ]
    },
    {
     "name": "stdout",
     "output_type": "stream",
     "text": [
      "Skipping C5_S140_P279_AD4: Missing or invalid Valence annotations.\n",
      "Skipping C3_S083_P166_AD3: Missing required files.\n",
      "Skipping C2_S048_P095_VC1: Missing required files.\n",
      "Skipping C5_S158_P315_AD2: Missing required files.\n",
      "Skipping C4_S105_P210_VC1: Missing required files.\n",
      "Skipping C6_S189_P378_AD1: Missing required files.\n"
     ]
    },
    {
     "name": "stderr",
     "output_type": "stream",
     "text": [
      "I0000 00:00:1733372241.705283 67237106 gl_context.cc:357] GL version: 2.1 (2.1 Metal - 88), renderer: Apple M3 Pro\n",
      "W0000 00:00:1733372241.708412 67461727 inference_feedback_manager.cc:114] Feedback manager requires a model with a single signature inference. Disabling support for feedback tensors.\n",
      "W0000 00:00:1733372241.717462 67461729 inference_feedback_manager.cc:114] Feedback manager requires a model with a single signature inference. Disabling support for feedback tensors.\n",
      "Processing samples:   8%| | 217/2630 [12:46<"
     ]
    },
    {
     "name": "stdout",
     "output_type": "stream",
     "text": [
      "Skipping C1_S020_P039_AD4: Missing or invalid Valence annotations.\n"
     ]
    },
    {
     "name": "stderr",
     "output_type": "stream",
     "text": [
      "I0000 00:00:1733372252.941782 67237106 gl_context.cc:357] GL version: 2.1 (2.1 Metal - 88), renderer: Apple M3 Pro\n",
      "W0000 00:00:1733372252.943816 67462179 inference_feedback_manager.cc:114] Feedback manager requires a model with a single signature inference. Disabling support for feedback tensors.\n",
      "W0000 00:00:1733372252.949460 67462181 inference_feedback_manager.cc:114] Feedback manager requires a model with a single signature inference. Disabling support for feedback tensors.\n",
      "Processing samples:   8%| | 218/2630 [12:51<"
     ]
    },
    {
     "name": "stdout",
     "output_type": "stream",
     "text": [
      "Skipping SSD_C2_S048_P096_VC1_004264_004849: Missing or invalid Valence annotations.\n",
      "Skipping C2_S060_P119_VC1: Missing required files.\n"
     ]
    },
    {
     "name": "stderr",
     "output_type": "stream",
     "text": [
      "I0000 00:00:1733372258.282360 67237106 gl_context.cc:357] GL version: 2.1 (2.1 Metal - 88), renderer: Apple M3 Pro\n",
      "W0000 00:00:1733372258.283834 67462334 inference_feedback_manager.cc:114] Feedback manager requires a model with a single signature inference. Disabling support for feedback tensors.\n",
      "W0000 00:00:1733372258.289505 67462333 inference_feedback_manager.cc:114] Feedback manager requires a model with a single signature inference. Disabling support for feedback tensors.\n",
      "Processing samples:   8%| | 220/2630 [13:03<"
     ]
    },
    {
     "name": "stdout",
     "output_type": "stream",
     "text": [
      "Skipping SSD_C3_S079_P157_VC1_006691_008021: Missing or invalid Valence annotations.\n"
     ]
    },
    {
     "name": "stderr",
     "output_type": "stream",
     "text": [
      "I0000 00:00:1733372270.305863 67237106 gl_context.cc:357] GL version: 2.1 (2.1 Metal - 88), renderer: Apple M3 Pro\n",
      "W0000 00:00:1733372270.307809 67462697 inference_feedback_manager.cc:114] Feedback manager requires a model with a single signature inference. Disabling support for feedback tensors.\n",
      "W0000 00:00:1733372270.312833 67462695 inference_feedback_manager.cc:114] Feedback manager requires a model with a single signature inference. Disabling support for feedback tensors.\n",
      "Processing samples:   8%| | 221/2630 [13:14<"
     ]
    },
    {
     "name": "stdout",
     "output_type": "stream",
     "text": [
      "Skipping C1_S008_P016_AD4: Missing or invalid Valence annotations.\n",
      "Skipping C1_S030_P059_AD2: Missing required files.\n",
      "Skipping C1_S010_P019_AD3: Missing required files.\n",
      "Skipping C2_S197_P393_AD2: Missing required files.\n",
      "Skipping SAL_C1_S017_P034_VC1_001001_003801: Missing required files.\n",
      "Skipping C6_S170_P340_AD1: Missing required files.\n"
     ]
    },
    {
     "name": "stderr",
     "output_type": "stream",
     "text": [
      "I0000 00:00:1733372280.844115 67237106 gl_context.cc:357] GL version: 2.1 (2.1 Metal - 88), renderer: Apple M3 Pro\n",
      "W0000 00:00:1733372280.845375 67462867 inference_feedback_manager.cc:114] Feedback manager requires a model with a single signature inference. Disabling support for feedback tensors.\n",
      "W0000 00:00:1733372280.849452 67462865 inference_feedback_manager.cc:114] Feedback manager requires a model with a single signature inference. Disabling support for feedback tensors.\n",
      "Processing samples:   9%| | 227/2630 [13:40<"
     ]
    },
    {
     "name": "stdout",
     "output_type": "stream",
     "text": [
      "Skipping C3_S091_P181_AD4: Missing or invalid Valence annotations.\n",
      "Skipping C5_S158_P316_AD3: Missing required files.\n",
      "Skipping C3_S093_P186_AD1: Missing required files.\n",
      "Skipping C4_S098_P195_AD1: Missing required files.\n",
      "Skipping C3_S083_P165_AD2: Missing required files.\n",
      "Skipping SVH_C6_S180_P359_VC1_000977_001457: Missing required files.\n",
      "Skipping C5_S148_P296_AD1: Missing required files.\n"
     ]
    },
    {
     "name": "stderr",
     "output_type": "stream",
     "text": [
      "I0000 00:00:1733372306.885163 67237106 gl_context.cc:357] GL version: 2.1 (2.1 Metal - 88), renderer: Apple M3 Pro\n",
      "W0000 00:00:1733372306.887836 67463232 inference_feedback_manager.cc:114] Feedback manager requires a model with a single signature inference. Disabling support for feedback tensors.\n",
      "W0000 00:00:1733372306.903229 67463233 inference_feedback_manager.cc:114] Feedback manager requires a model with a single signature inference. Disabling support for feedback tensors.\n",
      "Processing samples:   9%| | 234/2630 [13:43<"
     ]
    },
    {
     "name": "stdout",
     "output_type": "stream",
     "text": [
      "Skipping SSL_C1_S194_P388_VC1_005501_005901: Missing or invalid Valence annotations.\n",
      "Skipping SVL_C2_S197_P393_VC1_000787_002868: Missing required files.\n"
     ]
    },
    {
     "name": "stderr",
     "output_type": "stream",
     "text": [
      "I0000 00:00:1733372310.741119 67237106 gl_context.cc:357] GL version: 2.1 (2.1 Metal - 88), renderer: Apple M3 Pro\n",
      "W0000 00:00:1733372310.742172 67463409 inference_feedback_manager.cc:114] Feedback manager requires a model with a single signature inference. Disabling support for feedback tensors.\n",
      "W0000 00:00:1733372310.746526 67463410 inference_feedback_manager.cc:114] Feedback manager requires a model with a single signature inference. Disabling support for feedback tensors.\n",
      "Processing samples:   9%| | 236/2630 [13:52<"
     ]
    },
    {
     "name": "stdout",
     "output_type": "stream",
     "text": [
      "Skipping C1_S010_P019_AD4: Missing or invalid Valence annotations.\n",
      "Skipping C1_S008_P016_AD3: Missing required files.\n",
      "Skipping C1_S028_P056_AD2: Missing required files.\n",
      "Skipping SVL_C5_S163_P325_VC1_003051_003451: Missing required files.\n"
     ]
    },
    {
     "name": "stderr",
     "output_type": "stream",
     "text": [
      "I0000 00:00:1733372319.419318 67237106 gl_context.cc:357] GL version: 2.1 (2.1 Metal - 88), renderer: Apple M3 Pro\n",
      "W0000 00:00:1733372319.421510 67463774 inference_feedback_manager.cc:114] Feedback manager requires a model with a single signature inference. Disabling support for feedback tensors.\n",
      "W0000 00:00:1733372319.429778 67463777 inference_feedback_manager.cc:114] Feedback manager requires a model with a single signature inference. Disabling support for feedback tensors.\n",
      "Processing samples:   9%| | 240/2630 [14:04<"
     ]
    },
    {
     "name": "stdout",
     "output_type": "stream",
     "text": [
      "Skipping SSL_C2_S059_P118_VC1_001262_002521: Missing or invalid Valence annotations.\n",
      "Skipping C1_S020_P039_AD3: Missing required files.\n",
      "Skipping C2_S034_P068_VC1: Missing required files.\n",
      "Skipping AVS_C1_AD1: Missing required files.\n",
      "Skipping C2_S196_P391_VC1: Missing required files.\n",
      "Skipping C5_S150_P299_AD1: Missing required files.\n",
      "Skipping SVH_C4_S116_P232_VC1_005851_006550: Missing required files.\n",
      "Skipping SVH_C5_S151_P301_VC1_006501_007001: Missing required files.\n",
      "Skipping SAL_C1_S002_P004_VC1_002601_003428: Missing required files.\n",
      "Skipping SVH_C2_S048_P095_VC1_003085_003710: Missing required files.\n",
      "Skipping SVH_C4_S115_P229_VC1_006051_006550: Missing required files.\n",
      "Skipping C5_S133_P265_AD2: Missing required files.\n",
      "Skipping C3_S091_P181_AD3: Missing required files.\n"
     ]
    },
    {
     "name": "stderr",
     "output_type": "stream",
     "text": [
      "I0000 00:00:1733372331.575143 67237106 gl_context.cc:357] GL version: 2.1 (2.1 Metal - 88), renderer: Apple M3 Pro\n",
      "W0000 00:00:1733372331.577895 67464032 inference_feedback_manager.cc:114] Feedback manager requires a model with a single signature inference. Disabling support for feedback tensors.\n",
      "W0000 00:00:1733372331.584448 67464033 inference_feedback_manager.cc:114] Feedback manager requires a model with a single signature inference. Disabling support for feedback tensors.\n",
      "Processing samples:  10%| | 253/2630 [14:11<"
     ]
    },
    {
     "name": "stdout",
     "output_type": "stream",
     "text": [
      "Skipping C5_S158_P316_AD4: Missing or invalid Valence annotations.\n"
     ]
    },
    {
     "name": "stderr",
     "output_type": "stream",
     "text": [
      "I0000 00:00:1733372338.162723 67237106 gl_context.cc:357] GL version: 2.1 (2.1 Metal - 88), renderer: Apple M3 Pro\n",
      "W0000 00:00:1733372338.164141 67464144 inference_feedback_manager.cc:114] Feedback manager requires a model with a single signature inference. Disabling support for feedback tensors.\n",
      "W0000 00:00:1733372338.168618 67464141 inference_feedback_manager.cc:114] Feedback manager requires a model with a single signature inference. Disabling support for feedback tensors.\n",
      "Processing samples:  10%| | 254/2630 [14:13<"
     ]
    },
    {
     "name": "stdout",
     "output_type": "stream",
     "text": [
      "Skipping SSD_C5_S128_P255_VC1_005951_006221: Missing or invalid Valence annotations.\n",
      "Skipping C2_S058_P115_AD1: Missing required files.\n",
      "Skipping C3_S090_P180_AD3: Missing required files.\n"
     ]
    },
    {
     "name": "stderr",
     "output_type": "stream",
     "text": [
      "I0000 00:00:1733372340.651454 67237106 gl_context.cc:357] GL version: 2.1 (2.1 Metal - 88), renderer: Apple M3 Pro\n",
      "W0000 00:00:1733372340.652498 67464228 inference_feedback_manager.cc:114] Feedback manager requires a model with a single signature inference. Disabling support for feedback tensors.\n",
      "W0000 00:00:1733372340.656668 67464227 inference_feedback_manager.cc:114] Feedback manager requires a model with a single signature inference. Disabling support for feedback tensors.\n",
      "Processing samples:  10%| | 257/2630 [14:23<"
     ]
    },
    {
     "name": "stdout",
     "output_type": "stream",
     "text": [
      "Skipping C5_S159_P317_AD4: Missing or invalid Valence annotations.\n",
      "Skipping C1_S002_P003_AD2: Missing required files.\n",
      "Skipping C6_S173_P346_AD3: Missing required files.\n",
      "Skipping C1_S022_P043_AD3: Missing required files.\n",
      "Skipping C3_S083_P166_VC1: Missing required files.\n",
      "Skipping C2_S048_P095_AD3: Missing required files.\n",
      "Skipping C4_S114_P227_AD1: Missing required files.\n",
      "Skipping C5_S132_P264_AD2: Missing required files.\n"
     ]
    },
    {
     "name": "stderr",
     "output_type": "stream",
     "text": [
      "I0000 00:00:1733372350.066947 67237106 gl_context.cc:357] GL version: 2.1 (2.1 Metal - 88), renderer: Apple M3 Pro\n",
      "W0000 00:00:1733372350.067986 67464349 inference_feedback_manager.cc:114] Feedback manager requires a model with a single signature inference. Disabling support for feedback tensors.\n",
      "W0000 00:00:1733372350.072685 67464352 inference_feedback_manager.cc:114] Feedback manager requires a model with a single signature inference. Disabling support for feedback tensors.\n",
      "Processing samples:  10%| | 265/2630 [14:39<"
     ]
    },
    {
     "name": "stdout",
     "output_type": "stream",
     "text": [
      "Skipping C4_S117_P234_AD4: Missing or invalid Valence annotations.\n",
      "Skipping SVH_C2_S059_P118_VC1_003963_004643: Missing required files.\n",
      "Skipping C1_S012_P023_AD1: Missing required files.\n",
      "Skipping C2_S199_P398_AD3: Missing required files.\n",
      "Skipping C2_S035_P069_VC1: Missing required files.\n",
      "Skipping C5_S162_P323_AD2: Missing required files.\n",
      "Skipping SAH_C4_S122_P244_VC1_003301_004400: Missing required files.\n",
      "Skipping C4_S104_P207_AD2: Missing required files.\n",
      "Skipping C4_S124_P247_AD3: Missing required files.\n",
      "Skipping C1_S009_P017_AD3: Missing required files.\n",
      "Skipping C1_S029_P057_AD2: Missing required files.\n",
      "Skipping C4_S117_P234_AD3: Missing required files.\n"
     ]
    },
    {
     "name": "stderr",
     "output_type": "stream",
     "text": [
      "I0000 00:00:1733372366.272955 67237106 gl_context.cc:357] GL version: 2.1 (2.1 Metal - 88), renderer: Apple M3 Pro\n",
      "W0000 00:00:1733372366.274860 67464704 inference_feedback_manager.cc:114] Feedback manager requires a model with a single signature inference. Disabling support for feedback tensors.\n",
      "W0000 00:00:1733372366.289969 67464706 inference_feedback_manager.cc:114] Feedback manager requires a model with a single signature inference. Disabling support for feedback tensors.\n",
      "Processing samples:  11%| | 277/2630 [15:02<"
     ]
    },
    {
     "name": "stdout",
     "output_type": "stream",
     "text": [
      "Skipping C2_S048_P095_AD4: Missing or invalid Valence annotations.\n"
     ]
    },
    {
     "name": "stderr",
     "output_type": "stream",
     "text": [
      "I0000 00:00:1733372388.820288 67237106 gl_context.cc:357] GL version: 2.1 (2.1 Metal - 88), renderer: Apple M3 Pro\n",
      "W0000 00:00:1733372388.823249 67465334 inference_feedback_manager.cc:114] Feedback manager requires a model with a single signature inference. Disabling support for feedback tensors.\n",
      "W0000 00:00:1733372388.836796 67465335 inference_feedback_manager.cc:114] Feedback manager requires a model with a single signature inference. Disabling support for feedback tensors.\n",
      "Processing samples:  11%| | 278/2630 [15:07<"
     ]
    },
    {
     "name": "stdout",
     "output_type": "stream",
     "text": [
      "Skipping SSL_C2_S037_P074_VC1_003118_003727: Missing or invalid Valence annotations.\n",
      "Skipping SVH_C1_S017_P033_VC1_007001_007601: Missing required files.\n",
      "Skipping SVL_C5_S159_P318_VC1_002001_002601: Missing required files.\n",
      "Skipping C5_S149_P297_AD1: Missing required files.\n"
     ]
    },
    {
     "name": "stderr",
     "output_type": "stream",
     "text": [
      "I0000 00:00:1733372394.175818 67237106 gl_context.cc:357] GL version: 2.1 (2.1 Metal - 88), renderer: Apple M3 Pro\n",
      "W0000 00:00:1733372394.176872 67465450 inference_feedback_manager.cc:114] Feedback manager requires a model with a single signature inference. Disabling support for feedback tensors.\n",
      "W0000 00:00:1733372394.180859 67465447 inference_feedback_manager.cc:114] Feedback manager requires a model with a single signature inference. Disabling support for feedback tensors.\n",
      "Processing samples:  11%| | 282/2630 [15:34<"
     ]
    },
    {
     "name": "stdout",
     "output_type": "stream",
     "text": [
      "Skipping C6_S173_P346_AD4: Missing or invalid Valence annotations.\n",
      "Skipping C6_S171_P341_AD1: Missing required files.\n"
     ]
    },
    {
     "name": "stderr",
     "output_type": "stream",
     "text": [
      "I0000 00:00:1733372421.153198 67237106 gl_context.cc:357] GL version: 2.1 (2.1 Metal - 88), renderer: Apple M3 Pro\n",
      "W0000 00:00:1733372421.155274 67465796 inference_feedback_manager.cc:114] Feedback manager requires a model with a single signature inference. Disabling support for feedback tensors.\n",
      "W0000 00:00:1733372421.163457 67465799 inference_feedback_manager.cc:114] Feedback manager requires a model with a single signature inference. Disabling support for feedback tensors.\n",
      "Processing samples:  11%| | 284/2630 [15:49<"
     ]
    },
    {
     "name": "stdout",
     "output_type": "stream",
     "text": [
      "Skipping C1_S022_P043_AD4: Missing or invalid Valence annotations.\n"
     ]
    },
    {
     "name": "stderr",
     "output_type": "stream",
     "text": [
      "I0000 00:00:1733372435.893813 67237106 gl_context.cc:357] GL version: 2.1 (2.1 Metal - 88), renderer: Apple M3 Pro\n",
      "W0000 00:00:1733372435.896182 67466317 inference_feedback_manager.cc:114] Feedback manager requires a model with a single signature inference. Disabling support for feedback tensors.\n",
      "W0000 00:00:1733372435.905635 67466316 inference_feedback_manager.cc:114] Feedback manager requires a model with a single signature inference. Disabling support for feedback tensors.\n",
      "Processing samples:  11%| | 285/2630 [16:09<"
     ]
    },
    {
     "name": "stdout",
     "output_type": "stream",
     "text": [
      "Skipping C3_S090_P180_AD4: Missing or invalid Valence annotations.\n",
      "Skipping C5_S159_P317_AD3: Missing required files.\n",
      "Skipping C5_S140_P279_VC1: Missing required files.\n",
      "Skipping C3_S082_P164_AD2: Missing required files.\n",
      "Skipping C5_S133_P266_VC1: Missing required files.\n",
      "Skipping SVH_C5_S129_P257_VC1_003001_003251: Missing required files.\n"
     ]
    },
    {
     "name": "stderr",
     "output_type": "stream",
     "text": [
      "I0000 00:00:1733372455.848183 67237106 gl_context.cc:357] GL version: 2.1 (2.1 Metal - 88), renderer: Apple M3 Pro\n",
      "W0000 00:00:1733372455.851310 67466742 inference_feedback_manager.cc:114] Feedback manager requires a model with a single signature inference. Disabling support for feedback tensors.\n",
      "W0000 00:00:1733372455.858661 67466744 inference_feedback_manager.cc:114] Feedback manager requires a model with a single signature inference. Disabling support for feedback tensors.\n",
      "Processing samples:  11%| | 291/2630 [16:32<"
     ]
    },
    {
     "name": "stdout",
     "output_type": "stream",
     "text": [
      "Skipping C1_S009_P017_AD4: Missing or invalid Valence annotations.\n",
      "Skipping C5_S152_P303_AD2: Missing required files.\n",
      "Skipping C2_S042_P083_VC1: Missing required files.\n"
     ]
    },
    {
     "name": "stderr",
     "output_type": "stream",
     "text": [
      "I0000 00:00:1733372479.392088 67237106 gl_context.cc:357] GL version: 2.1 (2.1 Metal - 88), renderer: Apple M3 Pro\n",
      "W0000 00:00:1733372479.394237 67467190 inference_feedback_manager.cc:114] Feedback manager requires a model with a single signature inference. Disabling support for feedback tensors.\n",
      "W0000 00:00:1733372479.403366 67467191 inference_feedback_manager.cc:114] Feedback manager requires a model with a single signature inference. Disabling support for feedback tensors.\n",
      "Processing samples:  11%| | 294/2630 [16:52<"
     ]
    },
    {
     "name": "stdout",
     "output_type": "stream",
     "text": [
      "Skipping C4_S124_P247_AD4: Missing or invalid Valence annotations.\n",
      "Skipping C4_S127_P254_AD1: Missing required files.\n",
      "Skipping C2_S196_P392_AD2: Missing required files.\n",
      "Skipping C3_S076_P151_AD1: Missing required files.\n"
     ]
    },
    {
     "name": "stderr",
     "output_type": "stream",
     "text": [
      "I0000 00:00:1733372499.490841 67237106 gl_context.cc:357] GL version: 2.1 (2.1 Metal - 88), renderer: Apple M3 Pro\n",
      "W0000 00:00:1733372499.492710 67467507 inference_feedback_manager.cc:114] Feedback manager requires a model with a single signature inference. Disabling support for feedback tensors.\n",
      "W0000 00:00:1733372499.498472 67467509 inference_feedback_manager.cc:114] Feedback manager requires a model with a single signature inference. Disabling support for feedback tensors.\n",
      "Processing samples:  11%| | 298/2630 [17:14<"
     ]
    },
    {
     "name": "stdout",
     "output_type": "stream",
     "text": [
      "Skipping C2_S199_P398_AD4: Missing or invalid Valence annotations.\n",
      "Skipping C1_S028_P055_VC1: Missing required files.\n",
      "Skipping SAL_C2_S199_P398_VC1_000467_002764: Missing required files.\n",
      "Skipping C1_S194_P387_AD1: Missing required files.\n"
     ]
    },
    {
     "name": "stderr",
     "output_type": "stream",
     "text": [
      "I0000 00:00:1733372521.417180 67237106 gl_context.cc:357] GL version: 2.1 (2.1 Metal - 88), renderer: Apple M3 Pro\n",
      "W0000 00:00:1733372521.420399 67467988 inference_feedback_manager.cc:114] Feedback manager requires a model with a single signature inference. Disabling support for feedback tensors.\n",
      "W0000 00:00:1733372521.428927 67467994 inference_feedback_manager.cc:114] Feedback manager requires a model with a single signature inference. Disabling support for feedback tensors.\n",
      "Processing samples:  11%| | 302/2630 [17:20<"
     ]
    },
    {
     "name": "stdout",
     "output_type": "stream",
     "text": [
      "Skipping SSL_C2_S040_P080_VC1_001439_002035: Missing or invalid Valence annotations.\n",
      "Skipping SAH_C6_S188_P376_VC1_002183_002875: Missing required files.\n",
      "Skipping C3_S091_P181_VC1: Missing required files.\n",
      "Skipping C2_S033_P065_AD1: Missing required files.\n",
      "Skipping C5_S130_P260_AD1: Missing required files.\n",
      "Skipping C2_S050_P099_AD2: Missing required files.\n",
      "Skipping SVH_C2_S045_P089_VC1_003626_005086: Missing required files.\n",
      "Skipping EAS_C6_VC1: Missing required files.\n",
      "Skipping C1_S008_P016_VC1: Missing required files.\n",
      "Skipping TAL_C3_VC1: Missing required files.\n",
      "Skipping C1_S020_P039_VC1: Missing required files.\n",
      "Skipping C2_S034_P068_AD3: Missing required files.\n"
     ]
    },
    {
     "name": "stderr",
     "output_type": "stream",
     "text": [
      "I0000 00:00:1733372527.073985 67237106 gl_context.cc:357] GL version: 2.1 (2.1 Metal - 88), renderer: Apple M3 Pro\n",
      "W0000 00:00:1733372527.075563 67468087 inference_feedback_manager.cc:114] Feedback manager requires a model with a single signature inference. Disabling support for feedback tensors.\n",
      "W0000 00:00:1733372527.079847 67468088 inference_feedback_manager.cc:114] Feedback manager requires a model with a single signature inference. Disabling support for feedback tensors.\n",
      "Processing samples:  12%| | 314/2630 [17:47<"
     ]
    },
    {
     "name": "stdout",
     "output_type": "stream",
     "text": [
      "Skipping C4_S105_P210_AD4: Missing or invalid Valence annotations.\n",
      "Skipping C2_S196_P391_AD3: Missing required files.\n"
     ]
    },
    {
     "name": "stderr",
     "output_type": "stream",
     "text": [
      "I0000 00:00:1733372554.337296 67237106 gl_context.cc:357] GL version: 2.1 (2.1 Metal - 88), renderer: Apple M3 Pro\n",
      "W0000 00:00:1733372554.339305 67468440 inference_feedback_manager.cc:114] Feedback manager requires a model with a single signature inference. Disabling support for feedback tensors.\n",
      "W0000 00:00:1733372554.346821 67468439 inference_feedback_manager.cc:114] Feedback manager requires a model with a single signature inference. Disabling support for feedback tensors.\n",
      "Processing samples:  12%| | 316/2630 [17:56<"
     ]
    },
    {
     "name": "stdout",
     "output_type": "stream",
     "text": [
      "Skipping SSL_C1_S009_P018_VC1_004301_005301: Missing or invalid Valence annotations.\n",
      "Skipping C6_S164_P328_AD1: Missing required files.\n"
     ]
    },
    {
     "name": "stderr",
     "output_type": "stream",
     "text": [
      "I0000 00:00:1733372563.137590 67237106 gl_context.cc:357] GL version: 2.1 (2.1 Metal - 88), renderer: Apple M3 Pro\n",
      "W0000 00:00:1733372563.138886 67468710 inference_feedback_manager.cc:114] Feedback manager requires a model with a single signature inference. Disabling support for feedback tensors.\n",
      "W0000 00:00:1733372563.143092 67468709 inference_feedback_manager.cc:114] Feedback manager requires a model with a single signature inference. Disabling support for feedback tensors.\n",
      "Processing samples:  12%| | 318/2630 [18:05<"
     ]
    },
    {
     "name": "stdout",
     "output_type": "stream",
     "text": [
      "Skipping C2_S060_P119_AD4: Missing or invalid Valence annotations.\n",
      "Skipping C2_S048_P096_AD2: Missing required files.\n",
      "Skipping C5_S158_P316_VC1: Missing required files.\n",
      "Skipping SAL_C4_S111_P221_VC1_000901_001550: Missing required files.\n",
      "Skipping C6_S173_P345_AD2: Missing required files.\n",
      "Skipping C3_S080_P160_AD1: Missing required files.\n",
      "Skipping C2_S060_P119_AD3: Missing required files.\n",
      "Skipping SAH_C4_S110_P219_VC1_001651_002950: Missing required files.\n",
      "Skipping C4_S105_P210_AD3: Missing required files.\n",
      "Skipping SAL_C4_S109_P217_VC1_000001_001150: Missing required files.\n",
      "Skipping TVH_C2_VC1: Missing required files.\n",
      "Skipping C4_S125_P250_AD2: Missing required files.\n"
     ]
    },
    {
     "name": "stderr",
     "output_type": "stream",
     "text": [
      "I0000 00:00:1733372572.253605 67237106 gl_context.cc:357] GL version: 2.1 (2.1 Metal - 88), renderer: Apple M3 Pro\n",
      "W0000 00:00:1733372572.255046 67468990 inference_feedback_manager.cc:114] Feedback manager requires a model with a single signature inference. Disabling support for feedback tensors.\n",
      "W0000 00:00:1733372572.261787 67468989 inference_feedback_manager.cc:114] Feedback manager requires a model with a single signature inference. Disabling support for feedback tensors.\n",
      "Processing samples:  13%|▏| 330/2630 [18:28<"
     ]
    },
    {
     "name": "stdout",
     "output_type": "stream",
     "text": [
      "Skipping C2_S196_P391_AD4: Missing or invalid Valence annotations.\n",
      "Skipping SVL_C2_S062_P124_VC1_001584_002535: Missing required files.\n"
     ]
    },
    {
     "name": "stderr",
     "output_type": "stream",
     "text": [
      "I0000 00:00:1733372595.406707 67237106 gl_context.cc:357] GL version: 2.1 (2.1 Metal - 88), renderer: Apple M3 Pro\n",
      "W0000 00:00:1733372595.408927 67469442 inference_feedback_manager.cc:114] Feedback manager requires a model with a single signature inference. Disabling support for feedback tensors.\n",
      "W0000 00:00:1733372595.414691 67469444 inference_feedback_manager.cc:114] Feedback manager requires a model with a single signature inference. Disabling support for feedback tensors.\n",
      "Processing samples:  13%|▏| 332/2630 [18:38<"
     ]
    },
    {
     "name": "stdout",
     "output_type": "stream",
     "text": [
      "Skipping C2_S034_P068_AD4: Missing or invalid Valence annotations.\n",
      "Skipping C3_S066_P132_AD1: Missing required files.\n",
      "Skipping C3_S079_P158_AD1: Missing required files.\n",
      "Skipping C1_S010_P019_VC1: Missing required files.\n",
      "Skipping C6_S169_P337_VC1: Missing required files.\n",
      "Skipping C2_S053_P106_AD1: Missing required files.\n",
      "Skipping TVH_C6_VC1: Missing required files.\n"
     ]
    },
    {
     "name": "stderr",
     "output_type": "stream",
     "text": [
      "I0000 00:00:1733372605.166803 67237106 gl_context.cc:357] GL version: 2.1 (2.1 Metal - 88), renderer: Apple M3 Pro\n",
      "W0000 00:00:1733372605.168176 67469731 inference_feedback_manager.cc:114] Feedback manager requires a model with a single signature inference. Disabling support for feedback tensors.\n",
      "W0000 00:00:1733372605.173385 67469732 inference_feedback_manager.cc:114] Feedback manager requires a model with a single signature inference. Disabling support for feedback tensors.\n",
      "Processing samples:  13%|▏| 339/2630 [18:58<"
     ]
    },
    {
     "name": "stdout",
     "output_type": "stream",
     "text": [
      "Skipping C2_S051_P101_AD4: Missing or invalid Valence annotations.\n",
      "Skipping C6_S178_P355_AD3: Missing required files.\n"
     ]
    },
    {
     "name": "stderr",
     "output_type": "stream",
     "text": [
      "I0000 00:00:1733372625.095883 67237106 gl_context.cc:357] GL version: 2.1 (2.1 Metal - 88), renderer: Apple M3 Pro\n",
      "W0000 00:00:1733372625.098433 67470334 inference_feedback_manager.cc:114] Feedback manager requires a model with a single signature inference. Disabling support for feedback tensors.\n",
      "W0000 00:00:1733372625.104833 67470335 inference_feedback_manager.cc:114] Feedback manager requires a model with a single signature inference. Disabling support for feedback tensors.\n",
      "Processing samples:  13%|▏| 341/2630 [19:22<"
     ]
    },
    {
     "name": "stdout",
     "output_type": "stream",
     "text": [
      "Skipping SSD_C6_S164_P328_VC1_000613_003352: Missing or invalid Valence annotations.\n",
      "Skipping C1_S011_P021_VC1: Missing required files.\n"
     ]
    },
    {
     "name": "stderr",
     "output_type": "stream",
     "text": [
      "I0000 00:00:1733372649.492218 67237106 gl_context.cc:357] GL version: 2.1 (2.1 Metal - 88), renderer: Apple M3 Pro\n",
      "W0000 00:00:1733372649.495021 67471758 inference_feedback_manager.cc:114] Feedback manager requires a model with a single signature inference. Disabling support for feedback tensors.\n",
      "W0000 00:00:1733372649.500083 67471760 inference_feedback_manager.cc:114] Feedback manager requires a model with a single signature inference. Disabling support for feedback tensors.\n",
      "Processing samples:  13%|▏| 343/2630 [19:45<"
     ]
    },
    {
     "name": "stdout",
     "output_type": "stream",
     "text": [
      "Skipping C6_S184_P367_AD4: Missing or invalid Valence annotations.\n"
     ]
    },
    {
     "name": "stderr",
     "output_type": "stream",
     "text": [
      "I0000 00:00:1733372672.354247 67237106 gl_context.cc:357] GL version: 2.1 (2.1 Metal - 88), renderer: Apple M3 Pro\n",
      "W0000 00:00:1733372672.356393 67472571 inference_feedback_manager.cc:114] Feedback manager requires a model with a single signature inference. Disabling support for feedback tensors.\n",
      "W0000 00:00:1733372672.362809 67472563 inference_feedback_manager.cc:114] Feedback manager requires a model with a single signature inference. Disabling support for feedback tensors.\n",
      "Processing samples:  13%|▏| 344/2630 [19:48<"
     ]
    },
    {
     "name": "stdout",
     "output_type": "stream",
     "text": [
      "Skipping C5_S152_P304_AD4: Missing or invalid Valence annotations.\n",
      "Skipping C6_S187_P374_AD1: Missing required files.\n"
     ]
    },
    {
     "name": "stderr",
     "output_type": "stream",
     "text": [
      "I0000 00:00:1733372675.137654 67237106 gl_context.cc:357] GL version: 2.1 (2.1 Metal - 88), renderer: Apple M3 Pro\n",
      "W0000 00:00:1733372675.138763 67472640 inference_feedback_manager.cc:114] Feedback manager requires a model with a single signature inference. Disabling support for feedback tensors.\n",
      "W0000 00:00:1733372675.143180 67472638 inference_feedback_manager.cc:114] Feedback manager requires a model with a single signature inference. Disabling support for feedback tensors.\n",
      "Processing samples:  13%|▏| 346/2630 [19:51<"
     ]
    },
    {
     "name": "stdout",
     "output_type": "stream",
     "text": [
      "Skipping SSL_C1_S018_P035_VC1_004301_004601: Missing or invalid Valence annotations.\n",
      "Skipping C2_S061_P121_AD3: Missing required files.\n",
      "Skipping C1_S032_P064_AD1: Missing required files.\n",
      "Skipping C1_S005_P009_AD1: Missing required files.\n",
      "Skipping C5_S139_P277_AD2: Missing required files.\n",
      "Skipping C5_S162_P324_AD3: Missing required files.\n",
      "Skipping C3_S088_P175_VC1: Missing required files.\n",
      "Skipping C2_S043_P086_AD3: Missing required files.\n",
      "Skipping C5_S132_P263_AD3: Missing required files.\n"
     ]
    },
    {
     "name": "stderr",
     "output_type": "stream",
     "text": [
      "I0000 00:00:1733372677.993369 67237106 gl_context.cc:357] GL version: 2.1 (2.1 Metal - 88), renderer: Apple M3 Pro\n",
      "W0000 00:00:1733372677.994373 67472699 inference_feedback_manager.cc:114] Feedback manager requires a model with a single signature inference. Disabling support for feedback tensors.\n",
      "W0000 00:00:1733372677.998440 67472701 inference_feedback_manager.cc:114] Feedback manager requires a model with a single signature inference. Disabling support for feedback tensors.\n",
      "Processing samples:  13%|▏| 355/2630 [20:20<"
     ]
    },
    {
     "name": "stdout",
     "output_type": "stream",
     "text": [
      "Skipping C3_S082_P163_AD4: Missing or invalid Valence annotations.\n",
      "Skipping C4_S116_P231_VC1: Missing required files.\n",
      "Skipping C5_S129_P257_AD1: Missing required files.\n",
      "Skipping C1_S015_P029_AD2: Missing required files.\n"
     ]
    },
    {
     "name": "stderr",
     "output_type": "stream",
     "text": [
      "I0000 00:00:1733372706.859753 67237106 gl_context.cc:357] GL version: 2.1 (2.1 Metal - 88), renderer: Apple M3 Pro\n",
      "W0000 00:00:1733372706.861746 67473343 inference_feedback_manager.cc:114] Feedback manager requires a model with a single signature inference. Disabling support for feedback tensors.\n",
      "W0000 00:00:1733372706.866828 67473342 inference_feedback_manager.cc:114] Feedback manager requires a model with a single signature inference. Disabling support for feedback tensors.\n",
      "Processing samples:  14%|▏| 359/2630 [20:30<"
     ]
    },
    {
     "name": "stdout",
     "output_type": "stream",
     "text": [
      "Skipping C5_S145_P289_AD4: Missing or invalid Valence annotations.\n",
      "Skipping C1_S022_P044_AD2: Missing required files.\n",
      "Skipping SAH_C3_S082_P164_VC1_000521_001701: Missing required files.\n",
      "Skipping C1_S002_P004_AD3: Missing required files.\n",
      "Skipping C3_S074_P147_VC1: Missing required files.\n"
     ]
    },
    {
     "name": "stderr",
     "output_type": "stream",
     "text": [
      "I0000 00:00:1733372716.910554 67237106 gl_context.cc:357] GL version: 2.1 (2.1 Metal - 88), renderer: Apple M3 Pro\n",
      "W0000 00:00:1733372716.912657 67473532 inference_feedback_manager.cc:114] Feedback manager requires a model with a single signature inference. Disabling support for feedback tensors.\n",
      "W0000 00:00:1733372716.918912 67473530 inference_feedback_manager.cc:114] Feedback manager requires a model with a single signature inference. Disabling support for feedback tensors.\n",
      "Processing samples:  14%|▏| 364/2630 [20:44<"
     ]
    },
    {
     "name": "stdout",
     "output_type": "stream",
     "text": [
      "Skipping C5_S162_P324_AD4: Missing or invalid Valence annotations.\n",
      "Skipping C2_S041_P081_AD1: Missing required files.\n"
     ]
    },
    {
     "name": "stderr",
     "output_type": "stream",
     "text": [
      "I0000 00:00:1733372731.151036 67237106 gl_context.cc:357] GL version: 2.1 (2.1 Metal - 88), renderer: Apple M3 Pro\n",
      "W0000 00:00:1733372731.153206 67473781 inference_feedback_manager.cc:114] Feedback manager requires a model with a single signature inference. Disabling support for feedback tensors.\n",
      "W0000 00:00:1733372731.158199 67473780 inference_feedback_manager.cc:114] Feedback manager requires a model with a single signature inference. Disabling support for feedback tensors.\n",
      "Processing samples:  14%|▏| 366/2630 [20:52<"
     ]
    },
    {
     "name": "stdout",
     "output_type": "stream",
     "text": [
      "Skipping C2_S043_P086_AD4: Missing or invalid Valence annotations.\n",
      "Skipping C6_S168_P335_AD2: Missing required files.\n",
      "Skipping C5_S142_P284_AD1: Missing required files.\n"
     ]
    },
    {
     "name": "stderr",
     "output_type": "stream",
     "text": [
      "I0000 00:00:1733372738.965249 67237106 gl_context.cc:357] GL version: 2.1 (2.1 Metal - 88), renderer: Apple M3 Pro\n",
      "W0000 00:00:1733372738.966260 67473903 inference_feedback_manager.cc:114] Feedback manager requires a model with a single signature inference. Disabling support for feedback tensors.\n",
      "W0000 00:00:1733372738.970802 67473901 inference_feedback_manager.cc:114] Feedback manager requires a model with a single signature inference. Disabling support for feedback tensors.\n",
      "Processing samples:  14%|▏| 369/2630 [21:00<"
     ]
    },
    {
     "name": "stdout",
     "output_type": "stream",
     "text": [
      "Skipping C2_S061_P121_AD4: Missing or invalid Valence annotations.\n"
     ]
    },
    {
     "name": "stderr",
     "output_type": "stream",
     "text": [
      "I0000 00:00:1733372747.275378 67237106 gl_context.cc:357] GL version: 2.1 (2.1 Metal - 88), renderer: Apple M3 Pro\n",
      "W0000 00:00:1733372747.276471 67474097 inference_feedback_manager.cc:114] Feedback manager requires a model with a single signature inference. Disabling support for feedback tensors.\n",
      "W0000 00:00:1733372747.282283 67474095 inference_feedback_manager.cc:114] Feedback manager requires a model with a single signature inference. Disabling support for feedback tensors.\n",
      "Processing samples:  14%|▏| 370/2630 [21:13<"
     ]
    },
    {
     "name": "stdout",
     "output_type": "stream",
     "text": [
      "Skipping SSD_C1_S014_P027_VC1_004401_005801: Missing or invalid Valence annotations.\n",
      "Skipping SVH_C1_S027_P053_VC1_001601_002101: Missing required files.\n",
      "Skipping EAS_C2_VC1: Missing required files.\n",
      "Skipping C5_S152_P304_AD3: Missing required files.\n",
      "Skipping SAL_C4_S096_P191_VC1_006001_006550: Missing required files.\n"
     ]
    },
    {
     "name": "stderr",
     "output_type": "stream",
     "text": [
      "I0000 00:00:1733372760.367697 67237106 gl_context.cc:357] GL version: 2.1 (2.1 Metal - 88), renderer: Apple M3 Pro\n",
      "W0000 00:00:1733372760.368699 67474381 inference_feedback_manager.cc:114] Feedback manager requires a model with a single signature inference. Disabling support for feedback tensors.\n",
      "W0000 00:00:1733372760.372621 67474380 inference_feedback_manager.cc:114] Feedback manager requires a model with a single signature inference. Disabling support for feedback tensors.\n",
      "Processing samples:  14%|▏| 375/2630 [21:16<"
     ]
    },
    {
     "name": "stdout",
     "output_type": "stream",
     "text": [
      "Skipping C6_S178_P355_AD4: Missing or invalid Valence annotations.\n",
      "Skipping C6_S184_P367_AD3: Missing required files.\n",
      "Skipping C5_S138_P275_VC1: Missing required files.\n",
      "Skipping C2_S051_P101_AD3: Missing required files.\n",
      "Skipping C4_S107_P213_AD1: Missing required files.\n",
      "Skipping C3_S089_P177_AD2: Missing required files.\n"
     ]
    },
    {
     "name": "stderr",
     "output_type": "stream",
     "text": [
      "I0000 00:00:1733372763.485241 67237106 gl_context.cc:357] GL version: 2.1 (2.1 Metal - 88), renderer: Apple M3 Pro\n",
      "W0000 00:00:1733372763.486365 67474496 inference_feedback_manager.cc:114] Feedback manager requires a model with a single signature inference. Disabling support for feedback tensors.\n",
      "W0000 00:00:1733372763.490192 67474498 inference_feedback_manager.cc:114] Feedback manager requires a model with a single signature inference. Disabling support for feedback tensors.\n",
      "Processing samples:  14%|▏| 381/2630 [21:39<"
     ]
    },
    {
     "name": "stdout",
     "output_type": "stream",
     "text": [
      "Skipping C1_S002_P004_AD4: Missing or invalid Valence annotations.\n",
      "Skipping C5_S145_P289_AD3: Missing required files.\n",
      "Skipping C3_S082_P163_AD3: Missing required files.\n",
      "Skipping C5_S155_P309_AD1: Missing required files.\n",
      "Skipping SVL_C6_S190_P379_VC1_000002_001069: Missing required files.\n"
     ]
    },
    {
     "name": "stderr",
     "output_type": "stream",
     "text": [
      "I0000 00:00:1733372785.986092 67237106 gl_context.cc:357] GL version: 2.1 (2.1 Metal - 88), renderer: Apple M3 Pro\n",
      "W0000 00:00:1733372785.988330 67474823 inference_feedback_manager.cc:114] Feedback manager requires a model with a single signature inference. Disabling support for feedback tensors.\n",
      "W0000 00:00:1733372786.002493 67474825 inference_feedback_manager.cc:114] Feedback manager requires a model with a single signature inference. Disabling support for feedback tensors.\n",
      "Processing samples:  15%|▏| 386/2630 [22:01<"
     ]
    },
    {
     "name": "stdout",
     "output_type": "stream",
     "text": [
      "Skipping C5_S132_P263_AD4: Missing or invalid Valence annotations.\n",
      "Skipping C4_S117_P233_AD2: Missing required files.\n",
      "Skipping C1_S023_P046_VC1: Missing required files.\n",
      "Skipping C6_S172_P343_VC1: Missing required files.\n",
      "Skipping C2_S051_P102_AD2: Missing required files.\n",
      "Skipping C5_S163_P325_VC1: Missing required files.\n"
     ]
    },
    {
     "name": "stderr",
     "output_type": "stream",
     "text": [
      "I0000 00:00:1733372808.448183 67237106 gl_context.cc:357] GL version: 2.1 (2.1 Metal - 88), renderer: Apple M3 Pro\n",
      "W0000 00:00:1733372808.450067 67475198 inference_feedback_manager.cc:114] Feedback manager requires a model with a single signature inference. Disabling support for feedback tensors.\n",
      "W0000 00:00:1733372808.454759 67475197 inference_feedback_manager.cc:114] Feedback manager requires a model with a single signature inference. Disabling support for feedback tensors.\n",
      "Processing samples:  15%|▏| 392/2630 [22:10<"
     ]
    },
    {
     "name": "stdout",
     "output_type": "stream",
     "text": [
      "Skipping SSD_C1_S014_P027_VC1_003101_004001: Missing or invalid Valence annotations.\n",
      "Skipping C6_S185_P370_AD2: Missing required files.\n",
      "Skipping C5_S141_P282_VC1: Missing required files.\n",
      "Skipping C2_S060_P120_VC1: Missing required files.\n",
      "Skipping C1_S010_P020_AD3: Missing required files.\n",
      "Skipping SVH_C2_S045_P090_VC1_002801_003385: Missing required files.\n",
      "Skipping C1_S030_P060_AD2: Missing required files.\n",
      "Skipping C2_S038_P076_AD1: Missing required files.\n"
     ]
    },
    {
     "name": "stderr",
     "output_type": "stream",
     "text": [
      "I0000 00:00:1733372816.820349 67237106 gl_context.cc:357] GL version: 2.1 (2.1 Metal - 88), renderer: Apple M3 Pro\n",
      "W0000 00:00:1733372816.821607 67475574 inference_feedback_manager.cc:114] Feedback manager requires a model with a single signature inference. Disabling support for feedback tensors.\n",
      "W0000 00:00:1733372816.826544 67475575 inference_feedback_manager.cc:114] Feedback manager requires a model with a single signature inference. Disabling support for feedback tensors.\n",
      "Processing samples:  15%|▏| 400/2630 [22:25<"
     ]
    },
    {
     "name": "stdout",
     "output_type": "stream",
     "text": [
      "Skipping C6_S170_P339_AD4: Missing or invalid Valence annotations.\n",
      "Skipping C6_S168_P336_AD3: Missing required files.\n",
      "Skipping C1_S003_P005_VC1: Missing required files.\n",
      "Skipping C4_S119_P238_VC1: Missing required files.\n",
      "Skipping C4_S095_P189_AD2: Missing required files.\n",
      "Skipping C3_S092_P183_AD1: Missing required files.\n",
      "Skipping C1_S020_P040_AD1: Missing required files.\n"
     ]
    },
    {
     "name": "stderr",
     "output_type": "stream",
     "text": [
      "I0000 00:00:1733372832.328605 67237106 gl_context.cc:357] GL version: 2.1 (2.1 Metal - 88), renderer: Apple M3 Pro\n",
      "W0000 00:00:1733372832.334265 67475991 inference_feedback_manager.cc:114] Feedback manager requires a model with a single signature inference. Disabling support for feedback tensors.\n",
      "W0000 00:00:1733372832.357206 67475993 inference_feedback_manager.cc:114] Feedback manager requires a model with a single signature inference. Disabling support for feedback tensors.\n",
      "Processing samples:  15%|▏| 407/2630 [22:42<"
     ]
    },
    {
     "name": "stdout",
     "output_type": "stream",
     "text": [
      "Skipping C6_S168_P336_AD4: Missing or invalid Valence annotations.\n",
      "Skipping C2_S197_P394_VC1: Missing required files.\n",
      "Skipping C2_S050_P100_VC1: Missing required files.\n",
      "Skipping C2_S043_P085_AD2: Missing required files.\n",
      "Skipping C6_S170_P339_AD3: Missing required files.\n",
      "Skipping AVS_C4_AD1: Missing required files.\n",
      "Skipping C5_S153_P305_VC1: Missing required files.\n"
     ]
    },
    {
     "name": "stderr",
     "output_type": "stream",
     "text": [
      "I0000 00:00:1733372848.880801 67237106 gl_context.cc:357] GL version: 2.1 (2.1 Metal - 88), renderer: Apple M3 Pro\n",
      "W0000 00:00:1733372848.883403 67476362 inference_feedback_manager.cc:114] Feedback manager requires a model with a single signature inference. Disabling support for feedback tensors.\n",
      "W0000 00:00:1733372848.887838 67476361 inference_feedback_manager.cc:114] Feedback manager requires a model with a single signature inference. Disabling support for feedback tensors.\n",
      "Processing samples:  16%|▏| 414/2630 [23:04<"
     ]
    },
    {
     "name": "stdout",
     "output_type": "stream",
     "text": [
      "Skipping C1_S010_P020_AD4: Missing or invalid Valence annotations.\n",
      "Skipping C5_S140_P280_AD2: Missing required files.\n",
      "Skipping C2_S061_P122_AD2: Missing required files.\n",
      "Skipping C3_S065_P130_VC1: Missing required files.\n",
      "Skipping C6_S178_P356_AD2: Missing required files.\n",
      "Skipping C1_S031_P062_VC1: Missing required files.\n",
      "Skipping C5_S144_P288_VC1: Missing required files.\n",
      "Skipping C2_S054_P108_AD2: Missing required files.\n"
     ]
    },
    {
     "name": "stderr",
     "output_type": "stream",
     "text": [
      "I0000 00:00:1733372871.324498 67237106 gl_context.cc:357] GL version: 2.1 (2.1 Metal - 88), renderer: Apple M3 Pro\n",
      "W0000 00:00:1733372871.326786 67476719 inference_feedback_manager.cc:114] Feedback manager requires a model with a single signature inference. Disabling support for feedback tensors.\n",
      "W0000 00:00:1733372871.331375 67476717 inference_feedback_manager.cc:114] Feedback manager requires a model with a single signature inference. Disabling support for feedback tensors.\n",
      "Processing samples:  16%|▏| 422/2630 [23:14<"
     ]
    },
    {
     "name": "stdout",
     "output_type": "stream",
     "text": [
      "Skipping C4_S116_P231_AD4: Missing or invalid Valence annotations.\n",
      "Skipping C5_S145_P289_VC1: Missing required files.\n",
      "Skipping C3_S082_P163_VC1: Missing required files.\n",
      "Skipping C2_S055_P109_AD2: Missing required files.\n",
      "Skipping C6_S172_P343_AD3: Missing required files.\n",
      "Skipping C1_S023_P046_AD3: Missing required files.\n",
      "Skipping C1_S003_P006_AD2: Missing required files.\n",
      "Skipping C6_S179_P357_AD2: Missing required files.\n",
      "Skipping C3_S074_P147_AD3: Missing required files.\n"
     ]
    },
    {
     "name": "stderr",
     "output_type": "stream",
     "text": [
      "I0000 00:00:1733372881.281970 67237106 gl_context.cc:357] GL version: 2.1 (2.1 Metal - 88), renderer: Apple M3 Pro\n",
      "W0000 00:00:1733372881.283257 67477017 inference_feedback_manager.cc:114] Feedback manager requires a model with a single signature inference. Disabling support for feedback tensors.\n",
      "W0000 00:00:1733372881.288157 67477015 inference_feedback_manager.cc:114] Feedback manager requires a model with a single signature inference. Disabling support for feedback tensors.\n",
      "Processing samples:  16%|▏| 431/2630 [23:41<"
     ]
    },
    {
     "name": "stdout",
     "output_type": "stream",
     "text": [
      "Skipping C3_S088_P175_AD4: Missing or invalid Valence annotations.\n"
     ]
    },
    {
     "name": "stderr",
     "output_type": "stream",
     "text": [
      "I0000 00:00:1733372908.236766 67237106 gl_context.cc:357] GL version: 2.1 (2.1 Metal - 88), renderer: Apple M3 Pro\n",
      "W0000 00:00:1733372908.238853 67477283 inference_feedback_manager.cc:114] Feedback manager requires a model with a single signature inference. Disabling support for feedback tensors.\n",
      "W0000 00:00:1733372908.243336 67477281 inference_feedback_manager.cc:114] Feedback manager requires a model with a single signature inference. Disabling support for feedback tensors.\n",
      "Processing samples:  16%|▏| 432/2630 [23:47<"
     ]
    },
    {
     "name": "stdout",
     "output_type": "stream",
     "text": [
      "Skipping SSD_C4_S117_P234_VC1_002801_003500: Missing or invalid Valence annotations.\n",
      "Skipping C2_S051_P101_VC1: Missing required files.\n"
     ]
    },
    {
     "name": "stderr",
     "output_type": "stream",
     "text": [
      "I0000 00:00:1733372914.277330 67237106 gl_context.cc:357] GL version: 2.1 (2.1 Metal - 88), renderer: Apple M3 Pro\n",
      "W0000 00:00:1733372914.279245 67477399 inference_feedback_manager.cc:114] Feedback manager requires a model with a single signature inference. Disabling support for feedback tensors.\n",
      "W0000 00:00:1733372914.283684 67477399 inference_feedback_manager.cc:114] Feedback manager requires a model with a single signature inference. Disabling support for feedback tensors.\n",
      "Processing samples:  17%|▏| 434/2630 [24:05<"
     ]
    },
    {
     "name": "stdout",
     "output_type": "stream",
     "text": [
      "Skipping C6_S169_P337_AD4: Missing or invalid Valence annotations.\n",
      "Skipping C5_S138_P275_AD3: Missing required files.\n",
      "Skipping AVS_C5_AD1: Missing required files.\n",
      "Skipping C5_S163_P326_AD2: Missing required files.\n",
      "Skipping C2_S042_P084_AD2: Missing required files.\n",
      "Skipping C5_S152_P304_VC1: Missing required files.\n",
      "Skipping C1_S013_P026_AD1: Missing required files.\n",
      "Skipping C5_S141_P281_AD2: Missing required files.\n"
     ]
    },
    {
     "name": "stderr",
     "output_type": "stream",
     "text": [
      "I0000 00:00:1733372932.003155 67237106 gl_context.cc:357] GL version: 2.1 (2.1 Metal - 88), renderer: Apple M3 Pro\n",
      "W0000 00:00:1733372932.005090 67477867 inference_feedback_manager.cc:114] Feedback manager requires a model with a single signature inference. Disabling support for feedback tensors.\n",
      "W0000 00:00:1733372932.010562 67477868 inference_feedback_manager.cc:114] Feedback manager requires a model with a single signature inference. Disabling support for feedback tensors.\n",
      "Processing samples:  17%|▏| 442/2630 [24:31<"
     ]
    },
    {
     "name": "stdout",
     "output_type": "stream",
     "text": [
      "Skipping C1_S011_P021_AD4: Missing or invalid Valence annotations.\n",
      "Skipping C6_S184_P367_VC1: Missing required files.\n",
      "Skipping C5_S132_P263_VC1: Missing required files.\n"
     ]
    },
    {
     "name": "stderr",
     "output_type": "stream",
     "text": [
      "I0000 00:00:1733372958.698404 67237106 gl_context.cc:357] GL version: 2.1 (2.1 Metal - 88), renderer: Apple M3 Pro\n",
      "W0000 00:00:1733372958.700207 67478319 inference_feedback_manager.cc:114] Feedback manager requires a model with a single signature inference. Disabling support for feedback tensors.\n",
      "W0000 00:00:1733372958.705432 67478317 inference_feedback_manager.cc:114] Feedback manager requires a model with a single signature inference. Disabling support for feedback tensors.\n",
      "Processing samples:  17%|▏| 445/2630 [24:34<"
     ]
    },
    {
     "name": "stdout",
     "output_type": "stream",
     "text": [
      "Skipping C6_S172_P343_AD4: Missing or invalid Valence annotations.\n",
      "Skipping C1_S021_P041_AD1: Missing required files.\n"
     ]
    },
    {
     "name": "stderr",
     "output_type": "stream",
     "text": [
      "I0000 00:00:1733372961.611853 67237106 gl_context.cc:357] GL version: 2.1 (2.1 Metal - 88), renderer: Apple M3 Pro\n",
      "W0000 00:00:1733372961.613004 67478387 inference_feedback_manager.cc:114] Feedback manager requires a model with a single signature inference. Disabling support for feedback tensors.\n",
      "W0000 00:00:1733372961.617838 67478389 inference_feedback_manager.cc:114] Feedback manager requires a model with a single signature inference. Disabling support for feedback tensors.\n",
      "Processing samples:  17%|▏| 447/2630 [24:40<"
     ]
    },
    {
     "name": "stdout",
     "output_type": "stream",
     "text": [
      "Skipping C1_S023_P046_AD4: Missing or invalid Valence annotations.\n",
      "Skipping C1_S002_P004_VC1: Missing required files.\n"
     ]
    },
    {
     "name": "stderr",
     "output_type": "stream",
     "text": [
      "I0000 00:00:1733372967.688652 67237106 gl_context.cc:357] GL version: 2.1 (2.1 Metal - 88), renderer: Apple M3 Pro\n",
      "W0000 00:00:1733372967.689786 67478461 inference_feedback_manager.cc:114] Feedback manager requires a model with a single signature inference. Disabling support for feedback tensors.\n",
      "W0000 00:00:1733372967.693700 67478460 inference_feedback_manager.cc:114] Feedback manager requires a model with a single signature inference. Disabling support for feedback tensors.\n",
      "Processing samples:  17%|▏| 449/2630 [24:59<"
     ]
    },
    {
     "name": "stdout",
     "output_type": "stream",
     "text": [
      "Skipping SSD_C6_S177_P354_VC1_001212_003141: Missing or invalid Valence annotations.\n",
      "Skipping SVH_C1_S192_P383_VC1_004501_004701: Missing required files.\n",
      "Skipping SVH_C4_S097_P194_VC1_005051_005600: Missing required files.\n",
      "Skipping SVL_C6_S188_P376_VC1_004038_004619: Missing required files.\n"
     ]
    },
    {
     "name": "stderr",
     "output_type": "stream",
     "text": [
      "I0000 00:00:1733372986.515388 67237106 gl_context.cc:357] GL version: 2.1 (2.1 Metal - 88), renderer: Apple M3 Pro\n",
      "W0000 00:00:1733372986.517672 67478961 inference_feedback_manager.cc:114] Feedback manager requires a model with a single signature inference. Disabling support for feedback tensors.\n",
      "W0000 00:00:1733372986.523313 67478962 inference_feedback_manager.cc:114] Feedback manager requires a model with a single signature inference. Disabling support for feedback tensors.\n",
      "Processing samples:  17%|▏| 453/2630 [25:05<"
     ]
    },
    {
     "name": "stdout",
     "output_type": "stream",
     "text": [
      "Skipping SSL_C1_S014_P028_VC1_000601_001201: Missing or invalid Valence annotations.\n",
      "Skipping C4_S116_P231_AD3: Missing required files.\n",
      "Skipping C1_S011_P021_AD3: Missing required files.\n",
      "Skipping C6_S178_P355_VC1: Missing required files.\n",
      "Skipping C1_S031_P061_AD2: Missing required files.\n",
      "Skipping C3_S064_P127_AD2: Missing required files.\n",
      "Skipping C2_S039_P077_AD1: Missing required files.\n",
      "Skipping SAH_C5_S132_P264_VC1_004001_004501: Missing required files.\n"
     ]
    },
    {
     "name": "stderr",
     "output_type": "stream",
     "text": [
      "I0000 00:00:1733372991.865133 67237106 gl_context.cc:357] GL version: 2.1 (2.1 Metal - 88), renderer: Apple M3 Pro\n",
      "W0000 00:00:1733372991.866138 67479119 inference_feedback_manager.cc:114] Feedback manager requires a model with a single signature inference. Disabling support for feedback tensors.\n",
      "W0000 00:00:1733372991.870470 67479117 inference_feedback_manager.cc:114] Feedback manager requires a model with a single signature inference. Disabling support for feedback tensors.\n",
      "Processing samples:  18%|▏| 461/2630 [25:08<"
     ]
    },
    {
     "name": "stdout",
     "output_type": "stream",
     "text": [
      "Skipping C5_S138_P275_AD4: Missing or invalid Valence annotations.\n",
      "Skipping C6_S169_P337_AD3: Missing required files.\n",
      "Skipping C4_S126_P251_AD1: Missing required files.\n",
      "Skipping C3_S077_P154_AD1: Missing required files.\n",
      "Skipping C5_S162_P324_VC1: Missing required files.\n"
     ]
    },
    {
     "name": "stderr",
     "output_type": "stream",
     "text": [
      "I0000 00:00:1733372994.849728 67237106 gl_context.cc:357] GL version: 2.1 (2.1 Metal - 88), renderer: Apple M3 Pro\n",
      "W0000 00:00:1733372994.850766 67479267 inference_feedback_manager.cc:114] Feedback manager requires a model with a single signature inference. Disabling support for feedback tensors.\n",
      "W0000 00:00:1733372994.857009 67479265 inference_feedback_manager.cc:114] Feedback manager requires a model with a single signature inference. Disabling support for feedback tensors.\n",
      "Processing samples:  18%|▏| 466/2630 [25:36<"
     ]
    },
    {
     "name": "stdout",
     "output_type": "stream",
     "text": [
      "Skipping C3_S074_P147_AD4: Missing or invalid Valence annotations.\n",
      "Skipping C3_S088_P175_AD3: Missing required files.\n",
      "Skipping C2_S043_P086_VC1: Missing required files.\n",
      "Skipping C5_S153_P306_AD2: Missing required files.\n",
      "Skipping SAH_C2_S047_P093_VC1_000538_001078: Missing required files.\n",
      "Skipping C2_S061_P121_VC1: Missing required files.\n",
      "Skipping C5_S154_P308_AD1: Missing required files.\n",
      "Skipping C4_S116_P232_AD2: Missing required files.\n"
     ]
    },
    {
     "name": "stderr",
     "output_type": "stream",
     "text": [
      "I0000 00:00:1733373023.393439 67237106 gl_context.cc:357] GL version: 2.1 (2.1 Metal - 88), renderer: Apple M3 Pro\n",
      "W0000 00:00:1733373023.399153 67479823 inference_feedback_manager.cc:114] Feedback manager requires a model with a single signature inference. Disabling support for feedback tensors.\n",
      "W0000 00:00:1733373023.405966 67479822 inference_feedback_manager.cc:114] Feedback manager requires a model with a single signature inference. Disabling support for feedback tensors.\n",
      "Processing samples:  18%|▏| 474/2630 [25:46<"
     ]
    },
    {
     "name": "stdout",
     "output_type": "stream",
     "text": [
      "Skipping C4_S119_P238_AD4: Missing or invalid Valence annotations.\n"
     ]
    },
    {
     "name": "stderr",
     "output_type": "stream",
     "text": [
      "I0000 00:00:1733373033.562946 67237106 gl_context.cc:357] GL version: 2.1 (2.1 Metal - 88), renderer: Apple M3 Pro\n",
      "W0000 00:00:1733373033.564537 67479996 inference_feedback_manager.cc:114] Feedback manager requires a model with a single signature inference. Disabling support for feedback tensors.\n",
      "W0000 00:00:1733373033.568328 67479996 inference_feedback_manager.cc:114] Feedback manager requires a model with a single signature inference. Disabling support for feedback tensors.\n",
      "Processing samples:  18%|▏| 475/2630 [25:52<"
     ]
    },
    {
     "name": "stdout",
     "output_type": "stream",
     "text": [
      "Skipping SSL_C4_S111_P221_VC1_004201_004850: Missing or invalid Valence annotations.\n"
     ]
    },
    {
     "name": "stderr",
     "output_type": "stream",
     "text": [
      "I0000 00:00:1733373039.658295 67237106 gl_context.cc:357] GL version: 2.1 (2.1 Metal - 88), renderer: Apple M3 Pro\n",
      "W0000 00:00:1733373039.659958 67480173 inference_feedback_manager.cc:114] Feedback manager requires a model with a single signature inference. Disabling support for feedback tensors.\n",
      "W0000 00:00:1733373039.666377 67480171 inference_feedback_manager.cc:114] Feedback manager requires a model with a single signature inference. Disabling support for feedback tensors.\n",
      "Processing samples:  18%|▏| 476/2630 [26:18<"
     ]
    },
    {
     "name": "stdout",
     "output_type": "stream",
     "text": [
      "Skipping C1_S003_P005_AD4: Missing or invalid Valence annotations.\n",
      "Skipping C1_S001_P002_AD1: Missing required files.\n",
      "Skipping C5_S144_P288_AD3: Missing required files.\n",
      "Skipping C5_S130_P259_AD1: Missing required files.\n",
      "Skipping SVL_C6_S166_P331_VC1_005137_006376: Missing required files.\n"
     ]
    },
    {
     "name": "stderr",
     "output_type": "stream",
     "text": [
      "I0000 00:00:1733373065.114115 67237106 gl_context.cc:357] GL version: 2.1 (2.1 Metal - 88), renderer: Apple M3 Pro\n",
      "W0000 00:00:1733373065.117665 67480717 inference_feedback_manager.cc:114] Feedback manager requires a model with a single signature inference. Disabling support for feedback tensors.\n",
      "W0000 00:00:1733373065.130739 67480723 inference_feedback_manager.cc:114] Feedback manager requires a model with a single signature inference. Disabling support for feedback tensors.\n",
      "Processing samples:  18%|▏| 481/2630 [26:25<"
     ]
    },
    {
     "name": "stdout",
     "output_type": "stream",
     "text": [
      "Skipping SSD_C6_S182_P364_VC1_001445_002179: Missing or invalid Valence annotations.\n",
      "Skipping C5_S153_P305_AD3: Missing required files.\n",
      "Skipping TAL_C6_VC1: Missing required files.\n",
      "Skipping C2_S050_P100_AD3: Missing required files.\n",
      "Skipping C2_S197_P394_AD3: Missing required files.\n"
     ]
    },
    {
     "name": "stderr",
     "output_type": "stream",
     "text": [
      "I0000 00:00:1733373072.124935 67237106 gl_context.cc:357] GL version: 2.1 (2.1 Metal - 88), renderer: Apple M3 Pro\n",
      "W0000 00:00:1733373072.126413 67480836 inference_feedback_manager.cc:114] Feedback manager requires a model with a single signature inference. Disabling support for feedback tensors.\n",
      "W0000 00:00:1733373072.130604 67480834 inference_feedback_manager.cc:114] Feedback manager requires a model with a single signature inference. Disabling support for feedback tensors.\n",
      "Processing samples:  18%|▏| 486/2630 [26:32<"
     ]
    },
    {
     "name": "stdout",
     "output_type": "stream",
     "text": [
      "Skipping SSL_C3_S065_P129_VC1_002026_002801: Missing or invalid Valence annotations.\n",
      "Skipping C4_S106_P212_AD1: Missing required files.\n",
      "Skipping SAL_C1_S011_P022_VC1_006951_008001: Missing required files.\n",
      "Skipping C6_S170_P339_VC1: Missing required files.\n",
      "Skipping C3_S088_P176_AD2: Missing required files.\n"
     ]
    },
    {
     "name": "stderr",
     "output_type": "stream",
     "text": [
      "I0000 00:00:1733373079.301202 67237106 gl_context.cc:357] GL version: 2.1 (2.1 Metal - 88), renderer: Apple M3 Pro\n",
      "W0000 00:00:1733373079.302625 67480984 inference_feedback_manager.cc:114] Feedback manager requires a model with a single signature inference. Disabling support for feedback tensors.\n",
      "W0000 00:00:1733373079.306773 67480983 inference_feedback_manager.cc:114] Feedback manager requires a model with a single signature inference. Disabling support for feedback tensors.\n",
      "Processing samples:  19%|▏| 491/2630 [26:53<"
     ]
    },
    {
     "name": "stdout",
     "output_type": "stream",
     "text": [
      "Skipping C5_S163_P325_AD4: Missing or invalid Valence annotations.\n",
      "Skipping C5_S161_P322_AD1: Missing required files.\n",
      "Skipping C2_S040_P080_AD1: Missing required files.\n",
      "Skipping EAS_C3_VC1: Missing required files.\n",
      "Skipping C3_S065_P130_AD3: Missing required files.\n",
      "Skipping C5_S143_P285_AD1: Missing required files.\n",
      "Skipping C1_S011_P022_AD2: Missing required files.\n"
     ]
    },
    {
     "name": "stderr",
     "output_type": "stream",
     "text": [
      "I0000 00:00:1733373100.393351 67237106 gl_context.cc:357] GL version: 2.1 (2.1 Metal - 88), renderer: Apple M3 Pro\n",
      "W0000 00:00:1733373100.395592 67481403 inference_feedback_manager.cc:114] Feedback manager requires a model with a single signature inference. Disabling support for feedback tensors.\n",
      "W0000 00:00:1733373100.401673 67481404 inference_feedback_manager.cc:114] Feedback manager requires a model with a single signature inference. Disabling support for feedback tensors.\n",
      "Processing samples:  19%|▏| 498/2630 [27:01<"
     ]
    },
    {
     "name": "stdout",
     "output_type": "stream",
     "text": [
      "Skipping C5_S141_P282_AD4: Missing or invalid Valence annotations.\n",
      "Skipping C1_S031_P062_AD3: Missing required files.\n"
     ]
    },
    {
     "name": "stderr",
     "output_type": "stream",
     "text": [
      "I0000 00:00:1733373108.158086 67237106 gl_context.cc:357] GL version: 2.1 (2.1 Metal - 88), renderer: Apple M3 Pro\n",
      "W0000 00:00:1733373108.159488 67481625 inference_feedback_manager.cc:114] Feedback manager requires a model with a single signature inference. Disabling support for feedback tensors.\n",
      "W0000 00:00:1733373108.163453 67481625 inference_feedback_manager.cc:114] Feedback manager requires a model with a single signature inference. Disabling support for feedback tensors.\n",
      "Processing samples:  19%|▏| 500/2630 [27:06<"
     ]
    },
    {
     "name": "stdout",
     "output_type": "stream",
     "text": [
      "Skipping C2_S060_P120_AD4: Missing or invalid Valence annotations.\n"
     ]
    },
    {
     "name": "stderr",
     "output_type": "stream",
     "text": [
      "I0000 00:00:1733373113.145956 67237106 gl_context.cc:357] GL version: 2.1 (2.1 Metal - 88), renderer: Apple M3 Pro\n",
      "W0000 00:00:1733373113.147373 67481732 inference_feedback_manager.cc:114] Feedback manager requires a model with a single signature inference. Disabling support for feedback tensors.\n",
      "W0000 00:00:1733373113.151258 67481732 inference_feedback_manager.cc:114] Feedback manager requires a model with a single signature inference. Disabling support for feedback tensors.\n",
      "Processing samples:  19%|▏| 501/2630 [27:09<"
     ]
    },
    {
     "name": "stdout",
     "output_type": "stream",
     "text": [
      "Skipping C5_S144_P288_AD4: Missing or invalid Valence annotations.\n",
      "Skipping C1_S014_P028_AD2: Missing required files.\n",
      "Skipping C5_S128_P256_AD1: Missing required files.\n"
     ]
    },
    {
     "name": "stderr",
     "output_type": "stream",
     "text": [
      "I0000 00:00:1733373115.853261 67237106 gl_context.cc:357] GL version: 2.1 (2.1 Metal - 88), renderer: Apple M3 Pro\n",
      "W0000 00:00:1733373115.854862 67481792 inference_feedback_manager.cc:114] Feedback manager requires a model with a single signature inference. Disabling support for feedback tensors.\n",
      "W0000 00:00:1733373115.858843 67481792 inference_feedback_manager.cc:114] Feedback manager requires a model with a single signature inference. Disabling support for feedback tensors.\n",
      "Processing samples:  19%|▏| 504/2630 [27:15<"
     ]
    },
    {
     "name": "stdout",
     "output_type": "stream",
     "text": [
      "Skipping SSD_C2_S038_P075_VC1_004130_004815: Missing or invalid Valence annotations.\n",
      "Skipping SAH_C3_S075_P150_VC1_001951_002465: Missing required files.\n",
      "Skipping C1_S023_P045_AD2: Missing required files.\n",
      "Skipping C1_S003_P005_AD3: Missing required files.\n",
      "Skipping C4_S119_P238_AD3: Missing required files.\n",
      "Skipping SAH_C5_S159_P318_VC1_003651_004101: Missing required files.\n",
      "Skipping SVH_C1_S017_P033_VC1_004001_004801: Missing required files.\n",
      "Skipping C3_S080_P159_AD1: Missing required files.\n"
     ]
    },
    {
     "name": "stderr",
     "output_type": "stream",
     "text": [
      "I0000 00:00:1733373121.974476 67237106 gl_context.cc:357] GL version: 2.1 (2.1 Metal - 88), renderer: Apple M3 Pro\n",
      "W0000 00:00:1733373121.975452 67482053 inference_feedback_manager.cc:114] Feedback manager requires a model with a single signature inference. Disabling support for feedback tensors.\n",
      "W0000 00:00:1733373121.979326 67482054 inference_feedback_manager.cc:114] Feedback manager requires a model with a single signature inference. Disabling support for feedback tensors.\n",
      "Processing samples:  19%|▏| 512/2630 [27:25<"
     ]
    },
    {
     "name": "stdout",
     "output_type": "stream",
     "text": [
      "Skipping C3_S065_P130_AD4: Missing or invalid Valence annotations.\n",
      "Skipping C5_S141_P282_AD3: Missing required files.\n",
      "Skipping C2_S060_P120_AD3: Missing required files.\n"
     ]
    },
    {
     "name": "stderr",
     "output_type": "stream",
     "text": [
      "I0000 00:00:1733373131.861677 67237106 gl_context.cc:357] GL version: 2.1 (2.1 Metal - 88), renderer: Apple M3 Pro\n",
      "W0000 00:00:1733373131.863989 67482335 inference_feedback_manager.cc:114] Feedback manager requires a model with a single signature inference. Disabling support for feedback tensors.\n",
      "W0000 00:00:1733373131.869388 67482338 inference_feedback_manager.cc:114] Feedback manager requires a model with a single signature inference. Disabling support for feedback tensors.\n",
      "Processing samples:  20%|▏| 515/2630 [27:46<"
     ]
    },
    {
     "name": "stdout",
     "output_type": "stream",
     "text": [
      "Skipping C1_S031_P062_AD4: Missing or invalid Valence annotations.\n",
      "Skipping C5_S138_P276_AD2: Missing required files.\n",
      "Skipping C1_S004_P008_AD1: Missing required files.\n",
      "Skipping SVH_C6_S185_P369_VC1_001335_001476: Missing required files.\n",
      "Skipping C5_S163_P325_AD3: Missing required files.\n",
      "Skipping C3_S075_P150_AD2: Missing required files.\n"
     ]
    },
    {
     "name": "stderr",
     "output_type": "stream",
     "text": [
      "I0000 00:00:1733373153.636968 67237106 gl_context.cc:357] GL version: 2.1 (2.1 Metal - 88), renderer: Apple M3 Pro\n",
      "W0000 00:00:1733373153.639043 67482761 inference_feedback_manager.cc:114] Feedback manager requires a model with a single signature inference. Disabling support for feedback tensors.\n",
      "W0000 00:00:1733373153.643632 67482762 inference_feedback_manager.cc:114] Feedback manager requires a model with a single signature inference. Disabling support for feedback tensors.\n",
      "Processing samples:  20%|▏| 521/2630 [28:07<"
     ]
    },
    {
     "name": "stdout",
     "output_type": "stream",
     "text": [
      "Skipping C2_S050_P100_AD4: Missing or invalid Valence annotations.\n",
      "Skipping C3_S090_P179_AD2: Missing required files.\n",
      "Skipping C6_S168_P336_VC1: Missing required files.\n"
     ]
    },
    {
     "name": "stderr",
     "output_type": "stream",
     "text": [
      "I0000 00:00:1733373174.635434 67237106 gl_context.cc:357] GL version: 2.1 (2.1 Metal - 88), renderer: Apple M3 Pro\n",
      "W0000 00:00:1733373174.637374 67483471 inference_feedback_manager.cc:114] Feedback manager requires a model with a single signature inference. Disabling support for feedback tensors.\n",
      "W0000 00:00:1733373174.643278 67483470 inference_feedback_manager.cc:114] Feedback manager requires a model with a single signature inference. Disabling support for feedback tensors.\n",
      "Processing samples:  20%|▏| 524/2630 [28:30<"
     ]
    },
    {
     "name": "stdout",
     "output_type": "stream",
     "text": [
      "Skipping C2_S197_P394_AD4: Missing or invalid Valence annotations.\n",
      "Skipping C1_S010_P020_VC1: Missing required files.\n"
     ]
    },
    {
     "name": "stderr",
     "output_type": "stream",
     "text": [
      "I0000 00:00:1733373197.686588 67237106 gl_context.cc:357] GL version: 2.1 (2.1 Metal - 88), renderer: Apple M3 Pro\n",
      "W0000 00:00:1733373197.690000 67483971 inference_feedback_manager.cc:114] Feedback manager requires a model with a single signature inference. Disabling support for feedback tensors.\n",
      "W0000 00:00:1733373197.699987 67483970 inference_feedback_manager.cc:114] Feedback manager requires a model with a single signature inference. Disabling support for feedback tensors.\n",
      "Processing samples:  20%|▏| 526/2630 [28:48<"
     ]
    },
    {
     "name": "stdout",
     "output_type": "stream",
     "text": [
      "Skipping SSL_C2_S199_P398_VC1_000763_002709: Missing or invalid Valence annotations.\n",
      "Skipping C5_S151_P302_AD1: Missing required files.\n"
     ]
    },
    {
     "name": "stderr",
     "output_type": "stream",
     "text": [
      "I0000 00:00:1733373214.984637 67237106 gl_context.cc:357] GL version: 2.1 (2.1 Metal - 88), renderer: Apple M3 Pro\n",
      "W0000 00:00:1733373214.985945 67484286 inference_feedback_manager.cc:114] Feedback manager requires a model with a single signature inference. Disabling support for feedback tensors.\n",
      "W0000 00:00:1733373214.989855 67484287 inference_feedback_manager.cc:114] Feedback manager requires a model with a single signature inference. Disabling support for feedback tensors.\n",
      "Processing samples:  20%|▏| 528/2630 [28:59<"
     ]
    },
    {
     "name": "stdout",
     "output_type": "stream",
     "text": [
      "Skipping C5_S153_P305_AD4: Missing or invalid Valence annotations.\n",
      "Skipping C5_S150_P300_AD1: Missing required files.\n"
     ]
    },
    {
     "name": "stderr",
     "output_type": "stream",
     "text": [
      "I0000 00:00:1733373225.863415 67237106 gl_context.cc:357] GL version: 2.1 (2.1 Metal - 88), renderer: Apple M3 Pro\n",
      "W0000 00:00:1733373225.864698 67484502 inference_feedback_manager.cc:114] Feedback manager requires a model with a single signature inference. Disabling support for feedback tensors.\n",
      "W0000 00:00:1733373225.868982 67484507 inference_feedback_manager.cc:114] Feedback manager requires a model with a single signature inference. Disabling support for feedback tensors.\n",
      "Processing samples:  20%|▏| 530/2630 [29:17<"
     ]
    },
    {
     "name": "stdout",
     "output_type": "stream",
     "text": [
      "Skipping C6_S185_P370_AD4: Missing or invalid Valence annotations.\n",
      "Skipping C6_S178_P356_AD3: Missing required files.\n",
      "Skipping C1_S011_P022_VC1: Missing required files.\n",
      "Skipping C2_S053_P105_AD1: Missing required files.\n",
      "Skipping TVH_C5_VC1: Missing required files.\n"
     ]
    },
    {
     "name": "stderr",
     "output_type": "stream",
     "text": [
      "I0000 00:00:1733373243.925091 67237106 gl_context.cc:357] GL version: 2.1 (2.1 Metal - 88), renderer: Apple M3 Pro\n",
      "W0000 00:00:1733373243.926959 67484747 inference_feedback_manager.cc:114] Feedback manager requires a model with a single signature inference. Disabling support for feedback tensors.\n",
      "W0000 00:00:1733373243.932230 67484745 inference_feedback_manager.cc:114] Feedback manager requires a model with a single signature inference. Disabling support for feedback tensors.\n",
      "Processing samples:  20%|▏| 535/2630 [29:25<"
     ]
    },
    {
     "name": "stdout",
     "output_type": "stream",
     "text": [
      "Skipping C2_S051_P102_AD4: Missing or invalid Valence annotations.\n",
      "Skipping SVL_C2_S050_P100_VC1_004223_004887: Missing required files.\n",
      "Skipping C6_S170_P339_AD2: Missing required files.\n",
      "Skipping C2_S043_P085_AD3: Missing required files.\n",
      "Skipping C3_S088_P176_VC1: Missing required files.\n",
      "Skipping C5_S140_P280_AD3: Missing required files.\n",
      "Skipping C2_S061_P122_AD3: Missing required files.\n"
     ]
    },
    {
     "name": "stderr",
     "output_type": "stream",
     "text": [
      "I0000 00:00:1733373251.946500 67237106 gl_context.cc:357] GL version: 2.1 (2.1 Metal - 88), renderer: Apple M3 Pro\n",
      "W0000 00:00:1733373251.948195 67485103 inference_feedback_manager.cc:114] Feedback manager requires a model with a single signature inference. Disabling support for feedback tensors.\n",
      "W0000 00:00:1733373251.953851 67485101 inference_feedback_manager.cc:114] Feedback manager requires a model with a single signature inference. Disabling support for feedback tensors.\n",
      "Processing samples:  21%|▏| 542/2630 [29:41<"
     ]
    },
    {
     "name": "stdout",
     "output_type": "stream",
     "text": [
      "Skipping C1_S030_P060_AD4: Missing or invalid Valence annotations.\n"
     ]
    },
    {
     "name": "stderr",
     "output_type": "stream",
     "text": [
      "I0000 00:00:1733373268.569267 67237106 gl_context.cc:357] GL version: 2.1 (2.1 Metal - 88), renderer: Apple M3 Pro\n",
      "W0000 00:00:1733373268.571327 67485294 inference_feedback_manager.cc:114] Feedback manager requires a model with a single signature inference. Disabling support for feedback tensors.\n",
      "W0000 00:00:1733373268.575801 67485291 inference_feedback_manager.cc:114] Feedback manager requires a model with a single signature inference. Disabling support for feedback tensors.\n",
      "Processing samples:  21%|▏| 543/2630 [30:14<"
     ]
    },
    {
     "name": "stdout",
     "output_type": "stream",
     "text": [
      "Skipping C4_S095_P189_AD4: Missing or invalid Valence annotations.\n",
      "Skipping C2_S054_P108_AD3: Missing required files.\n",
      "Skipping C2_S044_P088_AD1: Missing required files.\n",
      "Skipping C4_S116_P232_VC1: Missing required files.\n",
      "Skipping EAS_C1_VC1: Missing required files.\n",
      "Skipping C1_S010_P020_AD2: Missing required files.\n"
     ]
    },
    {
     "name": "stderr",
     "output_type": "stream",
     "text": [
      "I0000 00:00:1733373300.965228 67237106 gl_context.cc:357] GL version: 2.1 (2.1 Metal - 88), renderer: Apple M3 Pro\n",
      "W0000 00:00:1733373300.967411 67485646 inference_feedback_manager.cc:114] Feedback manager requires a model with a single signature inference. Disabling support for feedback tensors.\n",
      "W0000 00:00:1733373300.972235 67485647 inference_feedback_manager.cc:114] Feedback manager requires a model with a single signature inference. Disabling support for feedback tensors.\n",
      "Processing samples:  21%|▏| 549/2630 [30:35<"
     ]
    },
    {
     "name": "stdout",
     "output_type": "stream",
     "text": [
      "Skipping C5_S140_P280_AD4: Missing or invalid Valence annotations.\n",
      "Skipping SVL_C5_S145_P289_VC1_002851_003201: Missing required files.\n",
      "Skipping C1_S030_P060_AD3: Missing required files.\n"
     ]
    },
    {
     "name": "stderr",
     "output_type": "stream",
     "text": [
      "I0000 00:00:1733373322.280697 67237106 gl_context.cc:357] GL version: 2.1 (2.1 Metal - 88), renderer: Apple M3 Pro\n",
      "W0000 00:00:1733373322.282652 67486168 inference_feedback_manager.cc:114] Feedback manager requires a model with a single signature inference. Disabling support for feedback tensors.\n",
      "W0000 00:00:1733373322.289090 67486177 inference_feedback_manager.cc:114] Feedback manager requires a model with a single signature inference. Disabling support for feedback tensors.\n",
      "Processing samples:  21%|▏| 552/2630 [30:43<"
     ]
    },
    {
     "name": "stdout",
     "output_type": "stream",
     "text": [
      "Skipping C2_S061_P122_AD4: Missing or invalid Valence annotations.\n",
      "Skipping C3_S075_P150_VC1: Missing required files.\n",
      "Skipping C3_S090_P179_VC1: Missing required files.\n",
      "Skipping C6_S168_P336_AD2: Missing required files.\n",
      "Skipping C5_S160_P320_AD1: Missing required files.\n",
      "Skipping C2_S041_P082_AD1: Missing required files.\n"
     ]
    },
    {
     "name": "stderr",
     "output_type": "stream",
     "text": [
      "I0000 00:00:1733373329.796421 67237106 gl_context.cc:357] GL version: 2.1 (2.1 Metal - 88), renderer: Apple M3 Pro\n",
      "W0000 00:00:1733373329.797743 67486302 inference_feedback_manager.cc:114] Feedback manager requires a model with a single signature inference. Disabling support for feedback tensors.\n",
      "W0000 00:00:1733373329.801493 67486307 inference_feedback_manager.cc:114] Feedback manager requires a model with a single signature inference. Disabling support for feedback tensors.\n",
      "Processing samples:  21%|▏| 558/2630 [31:08<"
     ]
    },
    {
     "name": "stdout",
     "output_type": "stream",
     "text": [
      "Skipping C2_S043_P085_AD4: Missing or invalid Valence annotations.\n",
      "Skipping TAL_C4_VC1: Missing required files.\n",
      "Skipping C5_S138_P276_VC1: Missing required files.\n",
      "Skipping C2_S051_P102_AD3: Missing required files.\n"
     ]
    },
    {
     "name": "stderr",
     "output_type": "stream",
     "text": [
      "I0000 00:00:1733373354.831798 67237106 gl_context.cc:357] GL version: 2.1 (2.1 Metal - 88), renderer: Apple M3 Pro\n",
      "W0000 00:00:1733373354.833690 67486566 inference_feedback_manager.cc:114] Feedback manager requires a model with a single signature inference. Disabling support for feedback tensors.\n",
      "W0000 00:00:1733373354.838043 67486564 inference_feedback_manager.cc:114] Feedback manager requires a model with a single signature inference. Disabling support for feedback tensors.\n",
      "Processing samples:  21%|▏| 562/2630 [31:16<"
     ]
    },
    {
     "name": "stdout",
     "output_type": "stream",
     "text": [
      "Skipping C6_S178_P356_AD4: Missing or invalid Valence annotations.\n",
      "Skipping C6_S185_P370_AD3: Missing required files.\n",
      "Skipping C1_S023_P045_VC1: Missing required files.\n"
     ]
    },
    {
     "name": "stderr",
     "output_type": "stream",
     "text": [
      "I0000 00:00:1733373363.742052 67237106 gl_context.cc:357] GL version: 2.1 (2.1 Metal - 88), renderer: Apple M3 Pro\n",
      "W0000 00:00:1733373363.743330 67486713 inference_feedback_manager.cc:114] Feedback manager requires a model with a single signature inference. Disabling support for feedback tensors.\n",
      "W0000 00:00:1733373363.746980 67486712 inference_feedback_manager.cc:114] Feedback manager requires a model with a single signature inference. Disabling support for feedback tensors.\n",
      "Processing samples:  21%|▏| 565/2630 [31:38<"
     ]
    },
    {
     "name": "stdout",
     "output_type": "stream",
     "text": [
      "Skipping C2_S054_P108_AD4: Missing or invalid Valence annotations.\n",
      "Skipping C1_S014_P028_VC1: Missing required files.\n"
     ]
    },
    {
     "name": "stderr",
     "output_type": "stream",
     "text": [
      "I0000 00:00:1733373385.372751 67237106 gl_context.cc:357] GL version: 2.1 (2.1 Metal - 88), renderer: Apple M3 Pro\n",
      "W0000 00:00:1733373385.375994 67487273 inference_feedback_manager.cc:114] Feedback manager requires a model with a single signature inference. Disabling support for feedback tensors.\n",
      "W0000 00:00:1733373385.385568 67487271 inference_feedback_manager.cc:114] Feedback manager requires a model with a single signature inference. Disabling support for feedback tensors.\n",
      "Processing samples:  22%|▏| 567/2630 [31:53<"
     ]
    },
    {
     "name": "stdout",
     "output_type": "stream",
     "text": [
      "Skipping SSL_C2_S045_P089_VC1_003601_005081: Missing or invalid Valence annotations.\n",
      "Skipping C4_S095_P189_AD3: Missing required files.\n",
      "Skipping C5_S141_P281_VC1: Missing required files.\n",
      "Skipping C6_S184_P367_AD2: Missing required files.\n",
      "Skipping C5_S152_P304_AD2: Missing required files.\n",
      "Skipping C5_S163_P326_VC1: Missing required files.\n",
      "Skipping C2_S042_P084_VC1: Missing required files.\n",
      "Skipping C3_S089_P177_AD3: Missing required files.\n",
      "Skipping C2_S051_P101_AD2: Missing required files.\n",
      "Skipping C4_S127_P253_AD1: Missing required files.\n"
     ]
    },
    {
     "name": "stderr",
     "output_type": "stream",
     "text": [
      "I0000 00:00:1733373399.802305 67237106 gl_context.cc:357] GL version: 2.1 (2.1 Metal - 88), renderer: Apple M3 Pro\n",
      "W0000 00:00:1733373399.804202 67487546 inference_feedback_manager.cc:114] Feedback manager requires a model with a single signature inference. Disabling support for feedback tensors.\n",
      "W0000 00:00:1733373399.808937 67487544 inference_feedback_manager.cc:114] Feedback manager requires a model with a single signature inference. Disabling support for feedback tensors.\n",
      "Processing samples:  22%|▏| 577/2630 [32:02<"
     ]
    },
    {
     "name": "stdout",
     "output_type": "stream",
     "text": [
      "Skipping C5_S139_P277_AD4: Missing or invalid Valence annotations.\n",
      "Skipping C6_S168_P335_AD3: Missing required files.\n",
      "Skipping SAH_C1_S029_P058_VC1_006573_007472: Missing required files.\n",
      "Skipping SAH_C5_S163_P325_VC1_002001_002301: Missing required files.\n",
      "Skipping C2_S038_P075_AD1: Missing required files.\n",
      "Skipping C6_S179_P357_VC1: Missing required files.\n"
     ]
    },
    {
     "name": "stderr",
     "output_type": "stream",
     "text": [
      "I0000 00:00:1733373409.707090 67237106 gl_context.cc:357] GL version: 2.1 (2.1 Metal - 88), renderer: Apple M3 Pro\n",
      "W0000 00:00:1733373409.708427 67487777 inference_feedback_manager.cc:114] Feedback manager requires a model with a single signature inference. Disabling support for feedback tensors.\n",
      "W0000 00:00:1733373409.712504 67487779 inference_feedback_manager.cc:114] Feedback manager requires a model with a single signature inference. Disabling support for feedback tensors.\n",
      "Processing samples:  22%|▏| 583/2630 [32:16<"
     ]
    },
    {
     "name": "stdout",
     "output_type": "stream",
     "text": [
      "Skipping SSD_C4_S114_P227_VC1_002501_003850: Missing or invalid Valence annotations.\n",
      "Skipping C4_S117_P233_AD3: Missing required files.\n",
      "Skipping SAH_C3_S092_P184_VC1_001701_003051: Missing required files.\n",
      "Skipping C1_S003_P006_VC1: Missing required files.\n"
     ]
    },
    {
     "name": "stderr",
     "output_type": "stream",
     "text": [
      "I0000 00:00:1733373423.470657 67237106 gl_context.cc:357] GL version: 2.1 (2.1 Metal - 88), renderer: Apple M3 Pro\n",
      "W0000 00:00:1733373423.473964 67488172 inference_feedback_manager.cc:114] Feedback manager requires a model with a single signature inference. Disabling support for feedback tensors.\n",
      "W0000 00:00:1733373423.479519 67488174 inference_feedback_manager.cc:114] Feedback manager requires a model with a single signature inference. Disabling support for feedback tensors.\n",
      "Processing samples:  22%|▏| 587/2630 [32:29<"
     ]
    },
    {
     "name": "stdout",
     "output_type": "stream",
     "text": [
      "Skipping C1_S022_P044_AD4: Missing or invalid Valence annotations.\n",
      "Skipping SAL_C6_S174_P348_VC1_003051_003980: Missing required files.\n",
      "Skipping C2_S055_P109_VC1: Missing required files.\n",
      "Skipping SAL_C2_S038_P075_VC1_004032_005262: Missing required files.\n",
      "Skipping SAH_C5_S139_P278_VC1_000501_000751: Missing required files.\n",
      "Skipping C3_S082_P163_AD2: Missing required files.\n"
     ]
    },
    {
     "name": "stderr",
     "output_type": "stream",
     "text": [
      "I0000 00:00:1733373436.547449 67237106 gl_context.cc:357] GL version: 2.1 (2.1 Metal - 88), renderer: Apple M3 Pro\n",
      "W0000 00:00:1733373436.550466 67488550 inference_feedback_manager.cc:114] Feedback manager requires a model with a single signature inference. Disabling support for feedback tensors.\n",
      "W0000 00:00:1733373436.555611 67488553 inference_feedback_manager.cc:114] Feedback manager requires a model with a single signature inference. Disabling support for feedback tensors.\n",
      "Processing samples:  23%|▏| 593/2630 [32:54<"
     ]
    },
    {
     "name": "stdout",
     "output_type": "stream",
     "text": [
      "Skipping C1_S015_P029_AD4: Missing or invalid Valence annotations.\n",
      "Skipping C5_S145_P289_AD2: Missing required files.\n",
      "Skipping C1_S012_P024_AD1: Missing required files.\n",
      "Skipping C2_S061_P121_AD2: Missing required files.\n",
      "Skipping SAL_C3_S065_P129_VC1_006021_006651: Missing required files.\n",
      "Skipping C5_S153_P306_VC1: Missing required files.\n",
      "Skipping C5_S162_P324_AD2: Missing required files.\n",
      "Skipping C2_S043_P086_AD2: Missing required files.\n"
     ]
    },
    {
     "name": "stderr",
     "output_type": "stream",
     "text": [
      "I0000 00:00:1733373461.303045 67237106 gl_context.cc:357] GL version: 2.1 (2.1 Metal - 88), renderer: Apple M3 Pro\n",
      "W0000 00:00:1733373461.305383 67489199 inference_feedback_manager.cc:114] Feedback manager requires a model with a single signature inference. Disabling support for feedback tensors.\n",
      "W0000 00:00:1733373461.313932 67489197 inference_feedback_manager.cc:114] Feedback manager requires a model with a single signature inference. Disabling support for feedback tensors.\n",
      "Processing samples:  23%|▏| 601/2630 [33:11<"
     ]
    },
    {
     "name": "stdout",
     "output_type": "stream",
     "text": [
      "Skipping C6_S168_P335_AD4: Missing or invalid Valence annotations.\n",
      "Skipping C5_S139_P277_AD3: Missing required files.\n",
      "Skipping C1_S025_P049_AD1: Missing required files.\n"
     ]
    },
    {
     "name": "stderr",
     "output_type": "stream",
     "text": [
      "I0000 00:00:1733373478.107849 67237106 gl_context.cc:357] GL version: 2.1 (2.1 Metal - 88), renderer: Apple M3 Pro\n",
      "W0000 00:00:1733373478.109768 67489542 inference_feedback_manager.cc:114] Feedback manager requires a model with a single signature inference. Disabling support for feedback tensors.\n",
      "W0000 00:00:1733373478.115440 67489545 inference_feedback_manager.cc:114] Feedback manager requires a model with a single signature inference. Disabling support for feedback tensors.\n",
      "Processing samples:  23%|▏| 604/2630 [33:28<"
     ]
    },
    {
     "name": "stdout",
     "output_type": "stream",
     "text": [
      "Skipping C3_S089_P177_AD4: Missing or invalid Valence annotations.\n",
      "Skipping C3_S064_P127_VC1: Missing required files.\n",
      "Skipping C6_S178_P355_AD2: Missing required files.\n",
      "Skipping C1_S031_P061_VC1: Missing required files.\n",
      "Skipping C1_S015_P029_AD3: Missing required files.\n",
      "Skipping C1_S022_P044_AD3: Missing required files.\n",
      "Skipping C1_S002_P004_AD2: Missing required files.\n"
     ]
    },
    {
     "name": "stderr",
     "output_type": "stream",
     "text": [
      "I0000 00:00:1733373495.643520 67237106 gl_context.cc:357] GL version: 2.1 (2.1 Metal - 88), renderer: Apple M3 Pro\n",
      "W0000 00:00:1733373495.645485 67489890 inference_feedback_manager.cc:114] Feedback manager requires a model with a single signature inference. Disabling support for feedback tensors.\n",
      "W0000 00:00:1733373495.650945 67489892 inference_feedback_manager.cc:114] Feedback manager requires a model with a single signature inference. Disabling support for feedback tensors.\n",
      "Processing samples:  23%|▏| 611/2630 [33:33<"
     ]
    },
    {
     "name": "stdout",
     "output_type": "stream",
     "text": [
      "Skipping SSL_C2_S035_P070_VC1_002850_003342: Missing or invalid Valence annotations.\n"
     ]
    },
    {
     "name": "stderr",
     "output_type": "stream",
     "text": [
      "I0000 00:00:1733373500.026134 67237106 gl_context.cc:357] GL version: 2.1 (2.1 Metal - 88), renderer: Apple M3 Pro\n",
      "W0000 00:00:1733373500.027288 67490111 inference_feedback_manager.cc:114] Feedback manager requires a model with a single signature inference. Disabling support for feedback tensors.\n",
      "W0000 00:00:1733373500.031474 67490114 inference_feedback_manager.cc:114] Feedback manager requires a model with a single signature inference. Disabling support for feedback tensors.\n",
      "Processing samples:  23%|▏| 612/2630 [33:38<"
     ]
    },
    {
     "name": "stdout",
     "output_type": "stream",
     "text": [
      "Skipping SSD_C5_S131_P262_VC1_005101_005651: Missing or invalid Valence annotations.\n",
      "Skipping C5_S132_P263_AD2: Missing required files.\n"
     ]
    },
    {
     "name": "stderr",
     "output_type": "stream",
     "text": [
      "I0000 00:00:1733373504.908452 67237106 gl_context.cc:357] GL version: 2.1 (2.1 Metal - 88), renderer: Apple M3 Pro\n",
      "W0000 00:00:1733373504.909786 67490290 inference_feedback_manager.cc:114] Feedback manager requires a model with a single signature inference. Disabling support for feedback tensors.\n",
      "W0000 00:00:1733373504.915639 67490284 inference_feedback_manager.cc:114] Feedback manager requires a model with a single signature inference. Disabling support for feedback tensors.\n",
      "Processing samples:  23%|▏| 614/2630 [34:02<"
     ]
    },
    {
     "name": "stdout",
     "output_type": "stream",
     "text": [
      "Skipping C4_S117_P233_AD4: Missing or invalid Valence annotations.\n",
      "Skipping SVH_C6_S169_P338_VC1_000002_000855: Missing required files.\n"
     ]
    },
    {
     "name": "stderr",
     "output_type": "stream",
     "text": [
      "I0000 00:00:1733373529.490235 67237106 gl_context.cc:357] GL version: 2.1 (2.1 Metal - 88), renderer: Apple M3 Pro\n",
      "W0000 00:00:1733373529.492109 67490613 inference_feedback_manager.cc:114] Feedback manager requires a model with a single signature inference. Disabling support for feedback tensors.\n",
      "W0000 00:00:1733373529.496396 67490610 inference_feedback_manager.cc:114] Feedback manager requires a model with a single signature inference. Disabling support for feedback tensors.\n",
      "Processing samples:  23%|▏| 616/2630 [34:12<"
     ]
    },
    {
     "name": "stdout",
     "output_type": "stream",
     "text": [
      "Skipping C4_S116_P232_AD4: Missing or invalid Valence annotations.\n",
      "Skipping C1_S014_P028_AD3: Missing required files.\n",
      "Skipping C4_S095_P189_VC1: Missing required files.\n",
      "Skipping C4_S119_P238_AD2: Missing required files.\n"
     ]
    },
    {
     "name": "stderr",
     "output_type": "stream",
     "text": [
      "I0000 00:00:1733373539.508858 67237106 gl_context.cc:357] GL version: 2.1 (2.1 Metal - 88), renderer: Apple M3 Pro\n",
      "W0000 00:00:1733373539.510946 67490875 inference_feedback_manager.cc:114] Feedback manager requires a model with a single signature inference. Disabling support for feedback tensors.\n",
      "W0000 00:00:1733373539.515485 67490874 inference_feedback_manager.cc:114] Feedback manager requires a model with a single signature inference. Disabling support for feedback tensors.\n",
      "Processing samples:  24%|▏| 620/2630 [34:18<"
     ]
    },
    {
     "name": "stdout",
     "output_type": "stream",
     "text": [
      "Skipping SSD_C3_S085_P170_VC1_004931_005601: Missing or invalid Valence annotations.\n",
      "Skipping C1_S023_P045_AD3: Missing required files.\n",
      "Skipping C1_S003_P005_AD2: Missing required files.\n",
      "Skipping C3_S075_P150_AD3: Missing required files.\n",
      "Skipping C3_S090_P179_AD3: Missing required files.\n"
     ]
    },
    {
     "name": "stderr",
     "output_type": "stream",
     "text": [
      "I0000 00:00:1733373545.334767 67237106 gl_context.cc:357] GL version: 2.1 (2.1 Metal - 88), renderer: Apple M3 Pro\n",
      "W0000 00:00:1733373545.335839 67490983 inference_feedback_manager.cc:114] Feedback manager requires a model with a single signature inference. Disabling support for feedback tensors.\n",
      "W0000 00:00:1733373545.339967 67490986 inference_feedback_manager.cc:114] Feedback manager requires a model with a single signature inference. Disabling support for feedback tensors.\n",
      "Processing samples:  24%|▏| 625/2630 [34:26<"
     ]
    },
    {
     "name": "stdout",
     "output_type": "stream",
     "text": [
      "Skipping C3_S088_P176_AD4: Missing or invalid Valence annotations.\n",
      "Skipping SVL_C1_S014_P028_VC1_002595_004043: Missing required files.\n",
      "Skipping SVL_C1_S022_P044_VC1_007329_008693: Missing required files.\n",
      "Skipping SAH_C1_S014_P028_VC1_000588_001854: Missing required files.\n",
      "Skipping C1_S030_P060_VC1: Missing required files.\n",
      "Skipping C1_S013_P025_AD1: Missing required files.\n"
     ]
    },
    {
     "name": "stderr",
     "output_type": "stream",
     "text": [
      "I0000 00:00:1733373553.213074 67237106 gl_context.cc:357] GL version: 2.1 (2.1 Metal - 88), renderer: Apple M3 Pro\n",
      "W0000 00:00:1733373553.214083 67491139 inference_feedback_manager.cc:114] Feedback manager requires a model with a single signature inference. Disabling support for feedback tensors.\n",
      "W0000 00:00:1733373553.218752 67491142 inference_feedback_manager.cc:114] Feedback manager requires a model with a single signature inference. Disabling support for feedback tensors.\n",
      "Processing samples:  24%|▏| 631/2630 [34:47<"
     ]
    },
    {
     "name": "stdout",
     "output_type": "stream",
     "text": [
      "Skipping C1_S011_P022_AD4: Missing or invalid Valence annotations.\n",
      "Skipping C5_S141_P282_AD2: Missing required files.\n",
      "Skipping C2_S060_P120_AD2: Missing required files.\n",
      "Skipping SAL_C1_S024_P047_VC1_002039_003624: Missing required files.\n",
      "Skipping C4_S109_P218_AD1: Missing required files.\n",
      "Skipping SAH_C1_S005_P010_VC1_000001_000801: Missing required files.\n",
      "Skipping C6_S185_P370_VC1: Missing required files.\n",
      "Skipping C5_S163_P325_AD2: Missing required files.\n",
      "Skipping C2_S051_P102_VC1: Missing required files.\n",
      "Skipping C5_S138_P276_AD3: Missing required files.\n",
      "Skipping C1_S024_P048_AD1: Missing required files.\n",
      "Skipping AVS_C6_AD1: Missing required files.\n",
      "Skipping C1_S021_P042_AD1: Missing required files.\n"
     ]
    },
    {
     "name": "stderr",
     "output_type": "stream",
     "text": [
      "I0000 00:00:1733373574.690400 67237106 gl_context.cc:357] GL version: 2.1 (2.1 Metal - 88), renderer: Apple M3 Pro\n",
      "W0000 00:00:1733373574.692357 67491634 inference_feedback_manager.cc:114] Feedback manager requires a model with a single signature inference. Disabling support for feedback tensors.\n",
      "W0000 00:00:1733373574.697907 67491635 inference_feedback_manager.cc:114] Feedback manager requires a model with a single signature inference. Disabling support for feedback tensors.\n",
      "Processing samples:  24%|▏| 644/2630 [35:04<"
     ]
    },
    {
     "name": "stdout",
     "output_type": "stream",
     "text": [
      "Skipping C1_S023_P045_AD4: Missing or invalid Valence annotations.\n",
      "Skipping C2_S054_P108_VC1: Missing required files.\n"
     ]
    },
    {
     "name": "stderr",
     "output_type": "stream",
     "text": [
      "I0000 00:00:1733373591.331031 67237106 gl_context.cc:357] GL version: 2.1 (2.1 Metal - 88), renderer: Apple M3 Pro\n",
      "W0000 00:00:1733373591.332903 67491908 inference_feedback_manager.cc:114] Feedback manager requires a model with a single signature inference. Disabling support for feedback tensors.\n",
      "W0000 00:00:1733373591.338531 67491906 inference_feedback_manager.cc:114] Feedback manager requires a model with a single signature inference. Disabling support for feedback tensors.\n",
      "Processing samples:  25%|▏| 646/2630 [35:10<"
     ]
    },
    {
     "name": "stdout",
     "output_type": "stream",
     "text": [
      "Skipping SSL_C3_S093_P185_VC1_004801_005551: Missing or invalid Valence annotations.\n",
      "Skipping C5_S144_P288_AD2: Missing required files.\n"
     ]
    },
    {
     "name": "stderr",
     "output_type": "stream",
     "text": [
      "I0000 00:00:1733373597.760565 67237106 gl_context.cc:357] GL version: 2.1 (2.1 Metal - 88), renderer: Apple M3 Pro\n",
      "W0000 00:00:1733373597.761536 67492057 inference_feedback_manager.cc:114] Feedback manager requires a model with a single signature inference. Disabling support for feedback tensors.\n",
      "W0000 00:00:1733373597.765361 67492058 inference_feedback_manager.cc:114] Feedback manager requires a model with a single signature inference. Disabling support for feedback tensors.\n",
      "Processing samples:  25%|▏| 648/2630 [35:39<"
     ]
    },
    {
     "name": "stdout",
     "output_type": "stream",
     "text": [
      "Skipping C1_S014_P028_AD4: Missing or invalid Valence annotations.\n",
      "Skipping C4_S116_P232_AD3: Missing required files.\n",
      "Skipping SAL_C4_S099_P198_VC1_001851_002350: Missing required files.\n"
     ]
    },
    {
     "name": "stderr",
     "output_type": "stream",
     "text": [
      "I0000 00:00:1733373626.584610 67237106 gl_context.cc:357] GL version: 2.1 (2.1 Metal - 88), renderer: Apple M3 Pro\n",
      "W0000 00:00:1733373626.587436 67492755 inference_feedback_manager.cc:114] Feedback manager requires a model with a single signature inference. Disabling support for feedback tensors.\n",
      "W0000 00:00:1733373626.593014 67492754 inference_feedback_manager.cc:114] Feedback manager requires a model with a single signature inference. Disabling support for feedback tensors.\n",
      "Processing samples:  25%|▏| 651/2630 [35:51<"
     ]
    },
    {
     "name": "stdout",
     "output_type": "stream",
     "text": [
      "Skipping C5_S138_P276_AD4: Missing or invalid Valence annotations.\n"
     ]
    },
    {
     "name": "stderr",
     "output_type": "stream",
     "text": [
      "I0000 00:00:1733373638.162013 67237106 gl_context.cc:357] GL version: 2.1 (2.1 Metal - 88), renderer: Apple M3 Pro\n",
      "W0000 00:00:1733373638.164434 67493043 inference_feedback_manager.cc:114] Feedback manager requires a model with a single signature inference. Disabling support for feedback tensors.\n",
      "W0000 00:00:1733373638.169224 67493042 inference_feedback_manager.cc:114] Feedback manager requires a model with a single signature inference. Disabling support for feedback tensors.\n",
      "Processing samples:  25%|▏| 652/2630 [35:55<"
     ]
    },
    {
     "name": "stdout",
     "output_type": "stream",
     "text": [
      "Skipping SSD_C1_S023_P046_VC1_003001_003501: Missing or invalid Valence annotations.\n",
      "Skipping C3_S065_P130_AD2: Missing required files.\n",
      "Skipping C1_S011_P022_AD3: Missing required files.\n",
      "Skipping C6_S178_P356_VC1: Missing required files.\n",
      "Skipping C1_S031_P062_AD2: Missing required files.\n"
     ]
    },
    {
     "name": "stderr",
     "output_type": "stream",
     "text": [
      "I0000 00:00:1733373642.555966 67237106 gl_context.cc:357] GL version: 2.1 (2.1 Metal - 88), renderer: Apple M3 Pro\n",
      "W0000 00:00:1733373642.557056 67493146 inference_feedback_manager.cc:114] Feedback manager requires a model with a single signature inference. Disabling support for feedback tensors.\n",
      "W0000 00:00:1733373642.561014 67493144 inference_feedback_manager.cc:114] Feedback manager requires a model with a single signature inference. Disabling support for feedback tensors.\n",
      "Processing samples:  25%|▏| 657/2630 [35:59<"
     ]
    },
    {
     "name": "stdout",
     "output_type": "stream",
     "text": [
      "Skipping SSL_C5_S158_P316_VC1_000751_001201: Missing or invalid Valence annotations.\n",
      "Skipping C5_S140_P280_VC1: Missing required files.\n",
      "Skipping C2_S061_P122_VC1: Missing required files.\n",
      "Skipping C5_S153_P305_AD2: Missing required files.\n",
      "Skipping C2_S043_P085_VC1: Missing required files.\n",
      "Skipping C3_S088_P176_AD3: Missing required files.\n",
      "Skipping C4_S126_P252_AD1: Missing required files.\n",
      "Skipping C2_S197_P394_AD2: Missing required files.\n"
     ]
    },
    {
     "name": "stderr",
     "output_type": "stream",
     "text": [
      "I0000 00:00:1733373646.505594 67237106 gl_context.cc:357] GL version: 2.1 (2.1 Metal - 88), renderer: Apple M3 Pro\n",
      "W0000 00:00:1733373646.506729 67493291 inference_feedback_manager.cc:114] Feedback manager requires a model with a single signature inference. Disabling support for feedback tensors.\n",
      "W0000 00:00:1733373646.510606 67493294 inference_feedback_manager.cc:114] Feedback manager requires a model with a single signature inference. Disabling support for feedback tensors.\n",
      "Processing samples:  25%|▎| 665/2630 [36:10<"
     ]
    },
    {
     "name": "stdout",
     "output_type": "stream",
     "text": [
      "Skipping SSL_C3_S089_P177_VC1_002751_003981: Missing or invalid Valence annotations.\n"
     ]
    },
    {
     "name": "stderr",
     "output_type": "stream",
     "text": [
      "I0000 00:00:1733373657.438249 67237106 gl_context.cc:357] GL version: 2.1 (2.1 Metal - 88), renderer: Apple M3 Pro\n",
      "W0000 00:00:1733373657.439547 67493574 inference_feedback_manager.cc:114] Feedback manager requires a model with a single signature inference. Disabling support for feedback tensors.\n",
      "W0000 00:00:1733373657.443544 67493574 inference_feedback_manager.cc:114] Feedback manager requires a model with a single signature inference. Disabling support for feedback tensors.\n",
      "Processing samples:  25%|▎| 666/2630 [36:32<"
     ]
    },
    {
     "name": "stdout",
     "output_type": "stream",
     "text": [
      "Skipping C3_S075_P150_AD4: Missing or invalid Valence annotations.\n",
      "Skipping C2_S050_P100_AD2: Missing required files.\n"
     ]
    },
    {
     "name": "stderr",
     "output_type": "stream",
     "text": [
      "I0000 00:00:1733373679.492494 67237106 gl_context.cc:357] GL version: 2.1 (2.1 Metal - 88), renderer: Apple M3 Pro\n",
      "W0000 00:00:1733373679.494816 67493953 inference_feedback_manager.cc:114] Feedback manager requires a model with a single signature inference. Disabling support for feedback tensors.\n",
      "W0000 00:00:1733373679.499682 67493954 inference_feedback_manager.cc:114] Feedback manager requires a model with a single signature inference. Disabling support for feedback tensors.\n",
      "Processing samples:  25%|▎| 668/2630 [36:50<"
     ]
    },
    {
     "name": "stdout",
     "output_type": "stream",
     "text": [
      "Skipping C3_S090_P179_AD4: Missing or invalid Valence annotations.\n",
      "Skipping C1_S022_P044_VC1: Missing required files.\n"
     ]
    },
    {
     "name": "stderr",
     "output_type": "stream",
     "text": [
      "I0000 00:00:1733373697.695539 67237106 gl_context.cc:357] GL version: 2.1 (2.1 Metal - 88), renderer: Apple M3 Pro\n",
      "W0000 00:00:1733373697.697542 67494364 inference_feedback_manager.cc:114] Feedback manager requires a model with a single signature inference. Disabling support for feedback tensors.\n",
      "W0000 00:00:1733373697.702293 67494363 inference_feedback_manager.cc:114] Feedback manager requires a model with a single signature inference. Disabling support for feedback tensors.\n",
      "Processing samples:  25%|▎| 670/2630 [37:13<"
     ]
    },
    {
     "name": "stdout",
     "output_type": "stream",
     "text": [
      "Skipping C2_S055_P109_AD4: Missing or invalid Valence annotations.\n",
      "Skipping C4_S116_P231_AD2: Missing required files.\n",
      "Skipping C1_S015_P029_VC1: Missing required files.\n"
     ]
    },
    {
     "name": "stderr",
     "output_type": "stream",
     "text": [
      "I0000 00:00:1733373720.461479 67237106 gl_context.cc:357] GL version: 2.1 (2.1 Metal - 88), renderer: Apple M3 Pro\n",
      "W0000 00:00:1733373720.464544 67494866 inference_feedback_manager.cc:114] Feedback manager requires a model with a single signature inference. Disabling support for feedback tensors.\n",
      "W0000 00:00:1733373720.469939 67494864 inference_feedback_manager.cc:114] Feedback manager requires a model with a single signature inference. Disabling support for feedback tensors.\n",
      "Processing samples:  26%|▎| 673/2630 [37:34<"
     ]
    },
    {
     "name": "stdout",
     "output_type": "stream",
     "text": [
      "Skipping C1_S003_P006_AD4: Missing or invalid Valence annotations.\n",
      "Skipping C1_S001_P001_AD1: Missing required files.\n",
      "Skipping SAH_C1_S027_P053_VC1_006932_008715: Missing required files.\n",
      "Skipping C3_S088_P175_AD2: Missing required files.\n",
      "Skipping C5_S139_P277_VC1: Missing required files.\n",
      "Skipping C4_S106_P211_AD1: Missing required files.\n"
     ]
    },
    {
     "name": "stderr",
     "output_type": "stream",
     "text": [
      "I0000 00:00:1733373740.959752 67237106 gl_context.cc:357] GL version: 2.1 (2.1 Metal - 88), renderer: Apple M3 Pro\n",
      "W0000 00:00:1733373740.961671 67495108 inference_feedback_manager.cc:114] Feedback manager requires a model with a single signature inference. Disabling support for feedback tensors.\n",
      "W0000 00:00:1733373740.966131 67495109 inference_feedback_manager.cc:114] Feedback manager requires a model with a single signature inference. Disabling support for feedback tensors.\n",
      "Processing samples:  26%|▎| 679/2630 [37:57<"
     ]
    },
    {
     "name": "stdout",
     "output_type": "stream",
     "text": [
      "Skipping C6_S179_P357_AD4: Missing or invalid Valence annotations.\n",
      "Skipping TAL_C5_VC1: Missing required files.\n",
      "Skipping C5_S153_P306_AD3: Missing required files.\n",
      "Skipping SAH_C6_S181_P362_VC1_000742_001590: Missing required files.\n",
      "Skipping C3_S064_P127_AD3: Missing required files.\n",
      "Skipping SAH_C3_S077_P154_VC1_004201_004981: Missing required files.\n",
      "Skipping C5_S143_P286_AD1: Missing required files.\n"
     ]
    },
    {
     "name": "stderr",
     "output_type": "stream",
     "text": [
      "I0000 00:00:1733373764.077813 67237106 gl_context.cc:357] GL version: 2.1 (2.1 Metal - 88), renderer: Apple M3 Pro\n",
      "W0000 00:00:1733373764.079836 67495637 inference_feedback_manager.cc:114] Feedback manager requires a model with a single signature inference. Disabling support for feedback tensors.\n",
      "W0000 00:00:1733373764.085303 67495634 inference_feedback_manager.cc:114] Feedback manager requires a model with a single signature inference. Disabling support for feedback tensors.\n",
      "Processing samples:  26%|▎| 686/2630 [38:19<"
     ]
    },
    {
     "name": "stdout",
     "output_type": "stream",
     "text": [
      "Skipping C5_S141_P281_AD4: Missing or invalid Valence annotations.\n",
      "Skipping C1_S011_P021_AD2: Missing required files.\n",
      "Skipping C1_S031_P061_AD3: Missing required files.\n",
      "Skipping C2_S062_P124_AD1: Missing required files.\n",
      "Skipping C6_S169_P337_AD2: Missing required files.\n"
     ]
    },
    {
     "name": "stderr",
     "output_type": "stream",
     "text": [
      "I0000 00:00:1733373786.371357 67237106 gl_context.cc:357] GL version: 2.1 (2.1 Metal - 88), renderer: Apple M3 Pro\n",
      "W0000 00:00:1733373786.373718 67496171 inference_feedback_manager.cc:114] Feedback manager requires a model with a single signature inference. Disabling support for feedback tensors.\n",
      "W0000 00:00:1733373786.379882 67496178 inference_feedback_manager.cc:114] Feedback manager requires a model with a single signature inference. Disabling support for feedback tensors.\n",
      "Processing samples:  26%|▎| 691/2630 [38:26<"
     ]
    },
    {
     "name": "stdout",
     "output_type": "stream",
     "text": [
      "Skipping C5_S163_P326_AD4: Missing or invalid Valence annotations.\n",
      "Skipping C5_S161_P321_AD1: Missing required files.\n"
     ]
    },
    {
     "name": "stderr",
     "output_type": "stream",
     "text": [
      "I0000 00:00:1733373792.889744 67237106 gl_context.cc:357] GL version: 2.1 (2.1 Metal - 88), renderer: Apple M3 Pro\n",
      "W0000 00:00:1733373792.891662 67496306 inference_feedback_manager.cc:114] Feedback manager requires a model with a single signature inference. Disabling support for feedback tensors.\n",
      "W0000 00:00:1733373792.895928 67496308 inference_feedback_manager.cc:114] Feedback manager requires a model with a single signature inference. Disabling support for feedback tensors.\n",
      "Processing samples:  26%|▎| 693/2630 [38:31<"
     ]
    },
    {
     "name": "stdout",
     "output_type": "stream",
     "text": [
      "Skipping C2_S042_P084_AD4: Missing or invalid Valence annotations.\n"
     ]
    },
    {
     "name": "stderr",
     "output_type": "stream",
     "text": [
      "I0000 00:00:1733373797.832812 67237106 gl_context.cc:357] GL version: 2.1 (2.1 Metal - 88), renderer: Apple M3 Pro\n",
      "W0000 00:00:1733373797.833994 67496400 inference_feedback_manager.cc:114] Feedback manager requires a model with a single signature inference. Disabling support for feedback tensors.\n",
      "W0000 00:00:1733373797.838350 67496402 inference_feedback_manager.cc:114] Feedback manager requires a model with a single signature inference. Disabling support for feedback tensors.\n",
      "Processing samples:  26%|▎| 694/2630 [39:06<"
     ]
    },
    {
     "name": "stdout",
     "output_type": "stream",
     "text": [
      "Skipping SSD_C6_S191_P381_VC1_000674_004625: Missing or invalid Valence annotations.\n",
      "Skipping C2_S045_P089_AD1: Missing required files.\n"
     ]
    },
    {
     "name": "stderr",
     "output_type": "stream",
     "text": [
      "I0000 00:00:1733373832.863584 67237106 gl_context.cc:357] GL version: 2.1 (2.1 Metal - 88), renderer: Apple M3 Pro\n",
      "W0000 00:00:1733373832.866691 67497070 inference_feedback_manager.cc:114] Feedback manager requires a model with a single signature inference. Disabling support for feedback tensors.\n",
      "W0000 00:00:1733373832.876184 67497070 inference_feedback_manager.cc:114] Feedback manager requires a model with a single signature inference. Disabling support for feedback tensors.\n",
      "Processing samples:  26%|▎| 696/2630 [39:11<"
     ]
    },
    {
     "name": "stdout",
     "output_type": "stream",
     "text": [
      "Skipping SSL_C2_S048_P095_VC1_003010_003647: Missing or invalid Valence annotations.\n",
      "Skipping C1_S023_P046_AD2: Missing required files.\n",
      "Skipping C6_S172_P343_AD2: Missing required files.\n",
      "Skipping C1_S003_P006_AD3: Missing required files.\n",
      "Skipping C4_S117_P233_VC1: Missing required files.\n",
      "Skipping C5_S128_P255_AD1: Missing required files.\n",
      "Skipping SAH_C1_S013_P025_VC1_000997_002939: Missing required files.\n"
     ]
    },
    {
     "name": "stderr",
     "output_type": "stream",
     "text": [
      "I0000 00:00:1733373838.518703 67237106 gl_context.cc:357] GL version: 2.1 (2.1 Metal - 88), renderer: Apple M3 Pro\n",
      "W0000 00:00:1733373838.519943 67497235 inference_feedback_manager.cc:114] Feedback manager requires a model with a single signature inference. Disabling support for feedback tensors.\n",
      "W0000 00:00:1733373838.524086 67497232 inference_feedback_manager.cc:114] Feedback manager requires a model with a single signature inference. Disabling support for feedback tensors.\n",
      "Processing samples:  27%|▎| 703/2630 [39:50<"
     ]
    },
    {
     "name": "stdout",
     "output_type": "stream",
     "text": [
      "Skipping SSL_C6_S177_P353_VC1_002145_006408: Missing or invalid Valence annotations.\n",
      "Skipping SVL_C5_S143_P286_VC1_007251_007801: Missing required files.\n",
      "Skipping C2_S055_P109_AD3: Missing required files.\n",
      "Skipping C5_S163_P326_AD3: Missing required files.\n",
      "Skipping C2_S042_P084_AD3: Missing required files.\n",
      "Skipping C3_S089_P177_VC1: Missing required files.\n",
      "Skipping C5_S138_P275_AD2: Missing required files.\n",
      "Skipping SVH_C1_S006_P011_VC1_006001_006601: Missing required files.\n",
      "Skipping C3_S067_P134_AD1: Missing required files.\n",
      "Skipping C5_S141_P281_AD3: Missing required files.\n"
     ]
    },
    {
     "name": "stderr",
     "output_type": "stream",
     "text": [
      "I0000 00:00:1733373876.820137 67237106 gl_context.cc:357] GL version: 2.1 (2.1 Metal - 88), renderer: Apple M3 Pro\n",
      "W0000 00:00:1733373876.829264 67498069 inference_feedback_manager.cc:114] Feedback manager requires a model with a single signature inference. Disabling support for feedback tensors.\n",
      "W0000 00:00:1733373876.834665 67498069 inference_feedback_manager.cc:114] Feedback manager requires a model with a single signature inference. Disabling support for feedback tensors.\n",
      "Processing samples:  27%|▎| 713/2630 [40:15<"
     ]
    },
    {
     "name": "stdout",
     "output_type": "stream",
     "text": [
      "Skipping C1_S031_P061_AD4: Missing or invalid Valence annotations.\n"
     ]
    },
    {
     "name": "stderr",
     "output_type": "stream",
     "text": [
      "I0000 00:00:1733373901.958052 67237106 gl_context.cc:357] GL version: 2.1 (2.1 Metal - 88), renderer: Apple M3 Pro\n",
      "W0000 00:00:1733373901.960089 67498616 inference_feedback_manager.cc:114] Feedback manager requires a model with a single signature inference. Disabling support for feedback tensors.\n",
      "W0000 00:00:1733373901.964809 67498618 inference_feedback_manager.cc:114] Feedback manager requires a model with a single signature inference. Disabling support for feedback tensors.\n",
      "Processing samples:  27%|▎| 714/2630 [40:38<"
     ]
    },
    {
     "name": "stdout",
     "output_type": "stream",
     "text": [
      "Skipping C3_S064_P127_AD4: Missing or invalid Valence annotations.\n",
      "Skipping SAL_C6_S179_P358_VC1_001277_003963: Missing required files.\n",
      "Skipping SVL_C6_S189_P378_VC1_000227_001651: Missing required files.\n",
      "Skipping TVH_C4_VC1: Missing required files.\n",
      "Skipping C5_S151_P301_AD1: Missing required files.\n"
     ]
    },
    {
     "name": "stderr",
     "output_type": "stream",
     "text": [
      "I0000 00:00:1733373925.382912 67237106 gl_context.cc:357] GL version: 2.1 (2.1 Metal - 88), renderer: Apple M3 Pro\n",
      "W0000 00:00:1733373925.384899 67499093 inference_feedback_manager.cc:114] Feedback manager requires a model with a single signature inference. Disabling support for feedback tensors.\n",
      "W0000 00:00:1733373925.391232 67499098 inference_feedback_manager.cc:114] Feedback manager requires a model with a single signature inference. Disabling support for feedback tensors.\n",
      "Processing samples:  27%|▎| 719/2630 [40:41<"
     ]
    },
    {
     "name": "stdout",
     "output_type": "stream",
     "text": [
      "Skipping C5_S153_P306_AD4: Missing or invalid Valence annotations.\n",
      "Skipping C6_S179_P357_AD3: Missing required files.\n",
      "Skipping C2_S052_P104_AD1: Missing required files.\n",
      "Skipping C2_S195_P390_AD1: Missing required files.\n",
      "Skipping C6_S168_P335_VC1: Missing required files.\n",
      "Skipping C3_S074_P147_AD2: Missing required files.\n",
      "Skipping TAH_C6_VC1: Missing required files.\n",
      "Skipping C5_S145_P290_AD1: Missing required files.\n",
      "Skipping C3_S063_P125_AD3: Missing required files.\n",
      "Skipping C6_S191_P381_VC1: Missing required files.\n",
      "Skipping SVH_C5_S145_P289_VC1_003201_003951: Missing required files.\n",
      "Skipping EAW_C3_VC1: Missing required files.\n"
     ]
    },
    {
     "name": "stderr",
     "output_type": "stream",
     "text": [
      "I0000 00:00:1733373927.948235 67237106 gl_context.cc:357] GL version: 2.1 (2.1 Metal - 88), renderer: Apple M3 Pro\n",
      "W0000 00:00:1733373927.949454 67499247 inference_feedback_manager.cc:114] Feedback manager requires a model with a single signature inference. Disabling support for feedback tensors.\n",
      "W0000 00:00:1733373927.953175 67499244 inference_feedback_manager.cc:114] Feedback manager requires a model with a single signature inference. Disabling support for feedback tensors.\n",
      "Processing samples:  28%|▎| 731/2630 [40:54<"
     ]
    },
    {
     "name": "stdout",
     "output_type": "stream",
     "text": [
      "Skipping C4_S097_P194_AD4: Missing or invalid Valence annotations.\n",
      "Skipping C5_S155_P310_AD3: Missing required files.\n",
      "Skipping C1_S192_P383_AD1: Missing required files.\n",
      "Skipping C2_S039_P078_AD2: Missing required files.\n",
      "Skipping C3_S064_P128_AD1: Missing required files.\n"
     ]
    },
    {
     "name": "stderr",
     "output_type": "stream",
     "text": [
      "I0000 00:00:1733373941.137591 67237106 gl_context.cc:357] GL version: 2.1 (2.1 Metal - 88), renderer: Apple M3 Pro\n",
      "W0000 00:00:1733373941.139714 67499607 inference_feedback_manager.cc:114] Feedback manager requires a model with a single signature inference. Disabling support for feedback tensors.\n",
      "W0000 00:00:1733373941.144974 67499606 inference_feedback_manager.cc:114] Feedback manager requires a model with a single signature inference. Disabling support for feedback tensors.\n",
      "Processing samples:  28%|▎| 736/2630 [41:13<"
     ]
    },
    {
     "name": "stdout",
     "output_type": "stream",
     "text": [
      "Skipping C1_S005_P010_AD4: Missing or invalid Valence annotations.\n",
      "Skipping C4_S120_P239_VC1: Missing required files.\n"
     ]
    },
    {
     "name": "stderr",
     "output_type": "stream",
     "text": [
      "I0000 00:00:1733373960.703695 67237106 gl_context.cc:357] GL version: 2.1 (2.1 Metal - 88), renderer: Apple M3 Pro\n",
      "W0000 00:00:1733373960.705755 67499897 inference_feedback_manager.cc:114] Feedback manager requires a model with a single signature inference. Disabling support for feedback tensors.\n",
      "W0000 00:00:1733373960.710331 67499896 inference_feedback_manager.cc:114] Feedback manager requires a model with a single signature inference. Disabling support for feedback tensors.\n",
      "Processing samples:  28%|▎| 738/2630 [41:33<"
     ]
    },
    {
     "name": "stdout",
     "output_type": "stream",
     "text": [
      "Skipping C2_S036_P072_AD4: Missing or invalid Valence annotations.\n",
      "Skipping C4_S108_P216_VC1: Missing required files.\n",
      "Skipping SVL_C5_S143_P285_VC1_006701_006951: Missing required files.\n",
      "Skipping C4_S097_P194_AD3: Missing required files.\n",
      "Skipping C6_S180_P360_AD1: Missing required files.\n"
     ]
    },
    {
     "name": "stderr",
     "output_type": "stream",
     "text": [
      "I0000 00:00:1733373979.938919 67237106 gl_context.cc:357] GL version: 2.1 (2.1 Metal - 88), renderer: Apple M3 Pro\n",
      "W0000 00:00:1733373979.940914 67500213 inference_feedback_manager.cc:114] Feedback manager requires a model with a single signature inference. Disabling support for feedback tensors.\n",
      "W0000 00:00:1733373979.946277 67500214 inference_feedback_manager.cc:114] Feedback manager requires a model with a single signature inference. Disabling support for feedback tensors.\n",
      "Processing samples:  28%|▎| 743/2630 [41:44<"
     ]
    },
    {
     "name": "stdout",
     "output_type": "stream",
     "text": [
      "Skipping C5_S155_P310_AD4: Missing or invalid Valence annotations.\n",
      "Skipping SAL_C2_S195_P389_VC1_002919_005001: Missing required files.\n",
      "Skipping C3_S073_P145_AD2: Missing required files.\n",
      "Skipping SAL_C3_S079_P158_VC1_000701_002111: Missing required files.\n",
      "Skipping SVH_C2_S046_P091_VC1_004297_005075: Missing required files.\n"
     ]
    },
    {
     "name": "stderr",
     "output_type": "stream",
     "text": [
      "I0000 00:00:1733373991.711207 67237106 gl_context.cc:357] GL version: 2.1 (2.1 Metal - 88), renderer: Apple M3 Pro\n",
      "W0000 00:00:1733373991.713381 67500433 inference_feedback_manager.cc:114] Feedback manager requires a model with a single signature inference. Disabling support for feedback tensors.\n",
      "W0000 00:00:1733373991.718091 67500435 inference_feedback_manager.cc:114] Feedback manager requires a model with a single signature inference. Disabling support for feedback tensors.\n",
      "Processing samples:  28%|▎| 748/2630 [41:54<"
     ]
    },
    {
     "name": "stdout",
     "output_type": "stream",
     "text": [
      "Skipping SSL_C1_S194_P387_VC1_004401_005501: Missing or invalid Valence annotations.\n"
     ]
    },
    {
     "name": "stderr",
     "output_type": "stream",
     "text": [
      "I0000 00:00:1733374001.625864 67237106 gl_context.cc:357] GL version: 2.1 (2.1 Metal - 88), renderer: Apple M3 Pro\n",
      "W0000 00:00:1733374001.627271 67500755 inference_feedback_manager.cc:114] Feedback manager requires a model with a single signature inference. Disabling support for feedback tensors.\n",
      "W0000 00:00:1733374001.631807 67500754 inference_feedback_manager.cc:114] Feedback manager requires a model with a single signature inference. Disabling support for feedback tensors.\n",
      "Processing samples:  28%|▎| 749/2630 [42:13<"
     ]
    },
    {
     "name": "stdout",
     "output_type": "stream",
     "text": [
      "Skipping C3_S063_P125_AD4: Missing or invalid Valence annotations.\n",
      "Skipping C4_S110_P219_VC1: Missing required files.\n",
      "Skipping C6_S179_P358_AD1: Missing required files.\n",
      "Skipping C6_S166_P332_AD1: Missing required files.\n",
      "Skipping SVL_C5_S163_P325_VC1_001701_001851: Missing required files.\n",
      "Skipping C2_S036_P072_AD3: Missing required files.\n",
      "Skipping C1_S025_P050_AD2: Missing required files.\n",
      "Skipping C1_S005_P010_AD3: Missing required files.\n"
     ]
    },
    {
     "name": "stderr",
     "output_type": "stream",
     "text": [
      "I0000 00:00:1733374019.900664 67237106 gl_context.cc:357] GL version: 2.1 (2.1 Metal - 88), renderer: Apple M3 Pro\n",
      "W0000 00:00:1733374019.904524 67501103 inference_feedback_manager.cc:114] Feedback manager requires a model with a single signature inference. Disabling support for feedback tensors.\n",
      "W0000 00:00:1733374019.916033 67501108 inference_feedback_manager.cc:114] Feedback manager requires a model with a single signature inference. Disabling support for feedback tensors.\n",
      "Processing samples:  29%|▎| 757/2630 [42:37<"
     ]
    },
    {
     "name": "stdout",
     "output_type": "stream",
     "text": [
      "Skipping C1_S017_P034_AD4: Missing or invalid Valence annotations.\n",
      "Skipping C5_S147_P294_AD2: Missing required files.\n",
      "Skipping C1_S014_P027_AD1: Missing required files.\n",
      "Skipping C6_S183_P366_VC1: Missing required files.\n"
     ]
    },
    {
     "name": "stderr",
     "output_type": "stream",
     "text": [
      "I0000 00:00:1733374044.679335 67237106 gl_context.cc:357] GL version: 2.1 (2.1 Metal - 88), renderer: Apple M3 Pro\n",
      "W0000 00:00:1733374044.681759 67501407 inference_feedback_manager.cc:114] Feedback manager requires a model with a single signature inference. Disabling support for feedback tensors.\n",
      "W0000 00:00:1733374044.704673 67501406 inference_feedback_manager.cc:114] Feedback manager requires a model with a single signature inference. Disabling support for feedback tensors.\n",
      "Processing samples:  29%|▎| 761/2630 [42:39<"
     ]
    },
    {
     "name": "stdout",
     "output_type": "stream",
     "text": [
      "Skipping SSL_C4_S095_P190_VC1_007201_007400: Missing or invalid Valence annotations.\n",
      "Skipping C2_S057_P114_VC1: Missing required files.\n",
      "Skipping C4_S122_P243_AD3: Missing required files.\n",
      "Skipping C3_S073_P146_AD3: Missing required files.\n",
      "Skipping C4_S102_P203_AD2: Missing required files.\n",
      "Skipping C6_S190_P380_AD3: Missing required files.\n",
      "Skipping C4_S109_P217_AD3: Missing required files.\n",
      "Skipping C1_S024_P047_AD3: Missing required files.\n"
     ]
    },
    {
     "name": "stderr",
     "output_type": "stream",
     "text": [
      "I0000 00:00:1733374046.590576 67237106 gl_context.cc:357] GL version: 2.1 (2.1 Metal - 88), renderer: Apple M3 Pro\n",
      "W0000 00:00:1733374046.591672 67501490 inference_feedback_manager.cc:114] Feedback manager requires a model with a single signature inference. Disabling support for feedback tensors.\n",
      "W0000 00:00:1733374046.595791 67501489 inference_feedback_manager.cc:114] Feedback manager requires a model with a single signature inference. Disabling support for feedback tensors.\n",
      "Processing samples:  29%|▎| 769/2630 [42:46<"
     ]
    },
    {
     "name": "stdout",
     "output_type": "stream",
     "text": [
      "Skipping SSD_C3_S077_P154_VC1_003071_003801: Missing or invalid Valence annotations.\n",
      "Skipping C1_S004_P007_AD2: Missing required files.\n",
      "Skipping SVL_C1_S021_P041_VC1_002541_003447: Missing required files.\n",
      "Skipping C2_S036_P071_AD2: Missing required files.\n",
      "Skipping SAH_C1_S022_P044_VC1_007329_008693: Missing required files.\n",
      "Skipping C4_S112_P223_AD1: Missing required files.\n",
      "Skipping C5_S154_P307_AD2: Missing required files.\n",
      "Skipping C6_S182_P364_AD2: Missing required files.\n"
     ]
    },
    {
     "name": "stderr",
     "output_type": "stream",
     "text": [
      "I0000 00:00:1733374053.515844 67237106 gl_context.cc:357] GL version: 2.1 (2.1 Metal - 88), renderer: Apple M3 Pro\n",
      "W0000 00:00:1733374053.517270 67501699 inference_feedback_manager.cc:114] Feedback manager requires a model with a single signature inference. Disabling support for feedback tensors.\n",
      "W0000 00:00:1733374053.521767 67501701 inference_feedback_manager.cc:114] Feedback manager requires a model with a single signature inference. Disabling support for feedback tensors.\n",
      "Processing samples:  30%|▎| 777/2630 [42:48<"
     ]
    },
    {
     "name": "stdout",
     "output_type": "stream",
     "text": [
      "Skipping SSD_C5_S140_P279_VC1_001201_001401: Missing or invalid Valence annotations.\n"
     ]
    },
    {
     "name": "stderr",
     "output_type": "stream",
     "text": [
      "I0000 00:00:1733374055.362925 67237106 gl_context.cc:357] GL version: 2.1 (2.1 Metal - 88), renderer: Apple M3 Pro\n",
      "W0000 00:00:1733374055.364152 67501792 inference_feedback_manager.cc:114] Feedback manager requires a model with a single signature inference. Disabling support for feedback tensors.\n",
      "W0000 00:00:1733374055.368919 67501792 inference_feedback_manager.cc:114] Feedback manager requires a model with a single signature inference. Disabling support for feedback tensors.\n",
      "Processing samples:  30%|▎| 778/2630 [42:56<"
     ]
    },
    {
     "name": "stdout",
     "output_type": "stream",
     "text": [
      "Skipping C6_S190_P380_AD4: Missing or invalid Valence annotations.\n"
     ]
    },
    {
     "name": "stderr",
     "output_type": "stream",
     "text": [
      "I0000 00:00:1733374063.137361 67237106 gl_context.cc:357] GL version: 2.1 (2.1 Metal - 88), renderer: Apple M3 Pro\n",
      "W0000 00:00:1733374063.138494 67502130 inference_feedback_manager.cc:114] Feedback manager requires a model with a single signature inference. Disabling support for feedback tensors.\n",
      "W0000 00:00:1733374063.146414 67502131 inference_feedback_manager.cc:114] Feedback manager requires a model with a single signature inference. Disabling support for feedback tensors.\n",
      "Processing samples:  30%|▎| 779/2630 [43:06<"
     ]
    },
    {
     "name": "stdout",
     "output_type": "stream",
     "text": [
      "Skipping C4_S122_P243_AD4: Missing or invalid Valence annotations.\n"
     ]
    },
    {
     "name": "stderr",
     "output_type": "stream",
     "text": [
      "I0000 00:00:1733374073.143819 67237106 gl_context.cc:357] GL version: 2.1 (2.1 Metal - 88), renderer: Apple M3 Pro\n",
      "W0000 00:00:1733374073.146152 67502313 inference_feedback_manager.cc:114] Feedback manager requires a model with a single signature inference. Disabling support for feedback tensors.\n",
      "W0000 00:00:1733374073.151945 67502314 inference_feedback_manager.cc:114] Feedback manager requires a model with a single signature inference. Disabling support for feedback tensors.\n",
      "Processing samples:  30%|▎| 780/2630 [43:27<"
     ]
    },
    {
     "name": "stdout",
     "output_type": "stream",
     "text": [
      "Skipping C3_S073_P146_AD4: Missing or invalid Valence annotations.\n",
      "Skipping C3_S071_P141_AD1: Missing required files.\n",
      "Skipping C2_S044_P087_VC1: Missing required files.\n",
      "Skipping C3_S063_P126_AD2: Missing required files.\n",
      "Skipping C1_S017_P034_AD3: Missing required files.\n"
     ]
    },
    {
     "name": "stderr",
     "output_type": "stream",
     "text": [
      "I0000 00:00:1733374094.701769 67237106 gl_context.cc:357] GL version: 2.1 (2.1 Metal - 88), renderer: Apple M3 Pro\n",
      "W0000 00:00:1733374094.703909 67502626 inference_feedback_manager.cc:114] Feedback manager requires a model with a single signature inference. Disabling support for feedback tensors.\n",
      "W0000 00:00:1733374094.715522 67502629 inference_feedback_manager.cc:114] Feedback manager requires a model with a single signature inference. Disabling support for feedback tensors.\n",
      "Processing samples:  30%|▎| 785/2630 [43:30<"
     ]
    },
    {
     "name": "stdout",
     "output_type": "stream",
     "text": [
      "Skipping SSL_C3_S091_P182_VC1_004281_004521: Missing or invalid Valence annotations.\n",
      "Skipping SAL_C1_S007_P013_VC1_001301_002076: Missing required files.\n"
     ]
    },
    {
     "name": "stderr",
     "output_type": "stream",
     "text": [
      "I0000 00:00:1733374096.794661 67237106 gl_context.cc:357] GL version: 2.1 (2.1 Metal - 88), renderer: Apple M3 Pro\n",
      "W0000 00:00:1733374096.795781 67502702 inference_feedback_manager.cc:114] Feedback manager requires a model with a single signature inference. Disabling support for feedback tensors.\n",
      "W0000 00:00:1733374096.799619 67502700 inference_feedback_manager.cc:114] Feedback manager requires a model with a single signature inference. Disabling support for feedback tensors.\n",
      "Processing samples:  30%|▎| 787/2630 [43:46<"
     ]
    },
    {
     "name": "stdout",
     "output_type": "stream",
     "text": [
      "Skipping SSL_C4_S114_P227_VC1_002951_004800: Missing or invalid Valence annotations.\n",
      "Skipping C6_S176_P351_AD1: Missing required files.\n",
      "Skipping C1_S027_P054_AD1: Missing required files.\n"
     ]
    },
    {
     "name": "stderr",
     "output_type": "stream",
     "text": [
      "I0000 00:00:1733374113.352854 67237106 gl_context.cc:357] GL version: 2.1 (2.1 Metal - 88), renderer: Apple M3 Pro\n",
      "W0000 00:00:1733374113.355114 67503265 inference_feedback_manager.cc:114] Feedback manager requires a model with a single signature inference. Disabling support for feedback tensors.\n",
      "W0000 00:00:1733374113.360729 67503270 inference_feedback_manager.cc:114] Feedback manager requires a model with a single signature inference. Disabling support for feedback tensors.\n",
      "Processing samples:  30%|▎| 790/2630 [43:50<"
     ]
    },
    {
     "name": "stdout",
     "output_type": "stream",
     "text": [
      "Skipping SSL_C1_S022_P043_VC1_004901_005301: Missing or invalid Valence annotations.\n"
     ]
    },
    {
     "name": "stderr",
     "output_type": "stream",
     "text": [
      "I0000 00:00:1733374116.889169 67237106 gl_context.cc:357] GL version: 2.1 (2.1 Metal - 88), renderer: Apple M3 Pro\n",
      "W0000 00:00:1733374116.890173 67503380 inference_feedback_manager.cc:114] Feedback manager requires a model with a single signature inference. Disabling support for feedback tensors.\n",
      "W0000 00:00:1733374116.894227 67503382 inference_feedback_manager.cc:114] Feedback manager requires a model with a single signature inference. Disabling support for feedback tensors.\n",
      "Processing samples:  30%|▎| 791/2630 [43:51<"
     ]
    },
    {
     "name": "stdout",
     "output_type": "stream",
     "text": [
      "Skipping SSL_C5_S145_P290_VC1_001151_001301: Missing or invalid Valence annotations.\n"
     ]
    },
    {
     "name": "stderr",
     "output_type": "stream",
     "text": [
      "I0000 00:00:1733374118.319229 67237106 gl_context.cc:357] GL version: 2.1 (2.1 Metal - 88), renderer: Apple M3 Pro\n",
      "W0000 00:00:1733374118.321574 67503470 inference_feedback_manager.cc:114] Feedback manager requires a model with a single signature inference. Disabling support for feedback tensors.\n",
      "W0000 00:00:1733374118.326046 67503472 inference_feedback_manager.cc:114] Feedback manager requires a model with a single signature inference. Disabling support for feedback tensors.\n",
      "Processing samples:  30%|▎| 792/2630 [44:09<"
     ]
    },
    {
     "name": "stdout",
     "output_type": "stream",
     "text": [
      "Skipping C1_S024_P047_AD4: Missing or invalid Valence annotations.\n",
      "Skipping C2_S037_P073_VC1: Missing required files.\n"
     ]
    },
    {
     "name": "stderr",
     "output_type": "stream",
     "text": [
      "I0000 00:00:1733374135.968023 67237106 gl_context.cc:357] GL version: 2.1 (2.1 Metal - 88), renderer: Apple M3 Pro\n",
      "W0000 00:00:1733374135.970018 67503923 inference_feedback_manager.cc:114] Feedback manager requires a model with a single signature inference. Disabling support for feedback tensors.\n",
      "W0000 00:00:1733374135.975255 67503919 inference_feedback_manager.cc:114] Feedback manager requires a model with a single signature inference. Disabling support for feedback tensors.\n",
      "Processing samples:  30%|▎| 794/2630 [44:15<"
     ]
    },
    {
     "name": "stdout",
     "output_type": "stream",
     "text": [
      "Skipping C4_S109_P217_AD4: Missing or invalid Valence annotations.\n"
     ]
    },
    {
     "name": "stderr",
     "output_type": "stream",
     "text": [
      "I0000 00:00:1733374142.356094 67237106 gl_context.cc:357] GL version: 2.1 (2.1 Metal - 88), renderer: Apple M3 Pro\n",
      "W0000 00:00:1733374142.357417 67504049 inference_feedback_manager.cc:114] Feedback manager requires a model with a single signature inference. Disabling support for feedback tensors.\n",
      "W0000 00:00:1733374142.361344 67504049 inference_feedback_manager.cc:114] Feedback manager requires a model with a single signature inference. Disabling support for feedback tensors.\n",
      "Processing samples:  30%|▎| 795/2630 [44:23<"
     ]
    },
    {
     "name": "stdout",
     "output_type": "stream",
     "text": [
      "Skipping SSL_C4_S119_P237_VC1_001101_001950: Missing or invalid Valence annotations.\n",
      "Skipping C2_S036_P072_VC1: Missing required files.\n"
     ]
    },
    {
     "name": "stderr",
     "output_type": "stream",
     "text": [
      "I0000 00:00:1733374149.954760 67237106 gl_context.cc:357] GL version: 2.1 (2.1 Metal - 88), renderer: Apple M3 Pro\n",
      "W0000 00:00:1733374149.955838 67504256 inference_feedback_manager.cc:114] Feedback manager requires a model with a single signature inference. Disabling support for feedback tensors.\n",
      "W0000 00:00:1733374149.964414 67504254 inference_feedback_manager.cc:114] Feedback manager requires a model with a single signature inference. Disabling support for feedback tensors.\n",
      "Processing samples:  30%|▎| 797/2630 [44:27<"
     ]
    },
    {
     "name": "stdout",
     "output_type": "stream",
     "text": [
      "Skipping SSD_C4_S101_P202_VC1_001251_001750: Missing or invalid Valence annotations.\n",
      "Skipping C4_S110_P219_AD3: Missing required files.\n"
     ]
    },
    {
     "name": "stderr",
     "output_type": "stream",
     "text": [
      "I0000 00:00:1733374154.431324 67237106 gl_context.cc:357] GL version: 2.1 (2.1 Metal - 88), renderer: Apple M3 Pro\n",
      "W0000 00:00:1733374154.432317 67504401 inference_feedback_manager.cc:114] Feedback manager requires a model with a single signature inference. Disabling support for feedback tensors.\n",
      "W0000 00:00:1733374154.436786 67504400 inference_feedback_manager.cc:114] Feedback manager requires a model with a single signature inference. Disabling support for feedback tensors.\n",
      "Processing samples:  30%|▎| 799/2630 [44:36<"
     ]
    },
    {
     "name": "stdout",
     "output_type": "stream",
     "text": [
      "Skipping SSL_C3_S091_P181_VC1_004551_005501: Missing or invalid Valence annotations.\n"
     ]
    },
    {
     "name": "stderr",
     "output_type": "stream",
     "text": [
      "I0000 00:00:1733374162.900861 67237106 gl_context.cc:357] GL version: 2.1 (2.1 Metal - 88), renderer: Apple M3 Pro\n",
      "W0000 00:00:1733374162.902002 67504618 inference_feedback_manager.cc:114] Feedback manager requires a model with a single signature inference. Disabling support for feedback tensors.\n",
      "W0000 00:00:1733374162.906347 67504617 inference_feedback_manager.cc:114] Feedback manager requires a model with a single signature inference. Disabling support for feedback tensors.\n",
      "Processing samples:  30%|▎| 800/2630 [44:45<"
     ]
    },
    {
     "name": "stdout",
     "output_type": "stream",
     "text": [
      "Skipping C4_S108_P216_AD4: Missing or invalid Valence annotations.\n"
     ]
    },
    {
     "name": "stderr",
     "output_type": "stream",
     "text": [
      "I0000 00:00:1733374172.645351 67237106 gl_context.cc:357] GL version: 2.1 (2.1 Metal - 88), renderer: Apple M3 Pro\n",
      "W0000 00:00:1733374172.647325 67504844 inference_feedback_manager.cc:114] Feedback manager requires a model with a single signature inference. Disabling support for feedback tensors.\n",
      "W0000 00:00:1733374172.652696 67504842 inference_feedback_manager.cc:114] Feedback manager requires a model with a single signature inference. Disabling support for feedback tensors.\n",
      "Processing samples:  30%|▎| 801/2630 [44:55<"
     ]
    },
    {
     "name": "stdout",
     "output_type": "stream",
     "text": [
      "Skipping C4_S120_P239_AD4: Missing or invalid Valence annotations.\n",
      "Skipping C3_S089_P178_AD1: Missing required files.\n",
      "Skipping C1_S005_P010_VC1: Missing required files.\n",
      "Skipping SVH_C4_S095_P189_VC1_000601_000950: Missing required files.\n",
      "Skipping C4_S097_P194_VC1: Missing required files.\n"
     ]
    },
    {
     "name": "stderr",
     "output_type": "stream",
     "text": [
      "I0000 00:00:1733374182.700946 67237106 gl_context.cc:357] GL version: 2.1 (2.1 Metal - 88), renderer: Apple M3 Pro\n",
      "W0000 00:00:1733374182.703075 67505140 inference_feedback_manager.cc:114] Feedback manager requires a model with a single signature inference. Disabling support for feedback tensors.\n",
      "W0000 00:00:1733374182.707696 67505138 inference_feedback_manager.cc:114] Feedback manager requires a model with a single signature inference. Disabling support for feedback tensors.\n",
      "Processing samples:  31%|▎| 806/2630 [45:09<"
     ]
    },
    {
     "name": "stdout",
     "output_type": "stream",
     "text": [
      "Skipping SSD_C6_S191_P382_VC1_001534_003128: Missing or invalid Valence annotations.\n",
      "Skipping C6_S183_P365_AD2: Missing required files.\n"
     ]
    },
    {
     "name": "stderr",
     "output_type": "stream",
     "text": [
      "I0000 00:00:1733374196.741940 67237106 gl_context.cc:357] GL version: 2.1 (2.1 Metal - 88), renderer: Apple M3 Pro\n",
      "W0000 00:00:1733374196.743836 67505408 inference_feedback_manager.cc:114] Feedback manager requires a model with a single signature inference. Disabling support for feedback tensors.\n",
      "W0000 00:00:1733374196.750042 67505405 inference_feedback_manager.cc:114] Feedback manager requires a model with a single signature inference. Disabling support for feedback tensors.\n",
      "Processing samples:  31%|▎| 808/2630 [45:28<"
     ]
    },
    {
     "name": "stdout",
     "output_type": "stream",
     "text": [
      "Skipping C6_S191_P381_AD4: Missing or invalid Valence annotations.\n",
      "Skipping C3_S070_P140_AD1: Missing required files.\n",
      "Skipping SAH_C5_S154_P307_VC1_003751_004501: Missing required files.\n",
      "Skipping C2_S195_P389_AD2: Missing required files.\n",
      "Skipping C4_S120_P239_AD3: Missing required files.\n",
      "Skipping C4_S108_P216_AD3: Missing required files.\n"
     ]
    },
    {
     "name": "stderr",
     "output_type": "stream",
     "text": [
      "I0000 00:00:1733374215.629001 67237106 gl_context.cc:357] GL version: 2.1 (2.1 Metal - 88), renderer: Apple M3 Pro\n",
      "W0000 00:00:1733374215.630977 67505618 inference_feedback_manager.cc:114] Feedback manager requires a model with a single signature inference. Disabling support for feedback tensors.\n",
      "W0000 00:00:1733374215.635616 67505614 inference_feedback_manager.cc:114] Feedback manager requires a model with a single signature inference. Disabling support for feedback tensors.\n",
      "Processing samples:  31%|▎| 814/2630 [45:39<"
     ]
    },
    {
     "name": "stdout",
     "output_type": "stream",
     "text": [
      "Skipping C4_S110_P219_AD4: Missing or invalid Valence annotations.\n",
      "Skipping SAH_C1_S024_P048_VC1_000845_002039: Missing required files.\n",
      "Skipping C5_S139_P278_AD1: Missing required files.\n"
     ]
    },
    {
     "name": "stderr",
     "output_type": "stream",
     "text": [
      "I0000 00:00:1733374225.931964 67237106 gl_context.cc:357] GL version: 2.1 (2.1 Metal - 88), renderer: Apple M3 Pro\n",
      "W0000 00:00:1733374225.933145 67505753 inference_feedback_manager.cc:114] Feedback manager requires a model with a single signature inference. Disabling support for feedback tensors.\n",
      "W0000 00:00:1733374225.937222 67505751 inference_feedback_manager.cc:114] Feedback manager requires a model with a single signature inference. Disabling support for feedback tensors.\n",
      "Processing samples:  31%|▎| 817/2630 [45:43<"
     ]
    },
    {
     "name": "stdout",
     "output_type": "stream",
     "text": [
      "Skipping SSD_C2_S060_P120_VC1_000467_000955: Missing or invalid Valence annotations.\n",
      "Skipping EAM_C6_VC1: Missing required files.\n",
      "Skipping C6_S191_P381_AD3: Missing required files.\n",
      "Skipping C3_S063_P125_VC1: Missing required files.\n",
      "Skipping SAH_C3_S070_P139_VC1_002551_003581: Missing required files.\n",
      "Skipping C5_S129_P258_AD2: Missing required files.\n",
      "Skipping C5_S155_P310_VC1: Missing required files.\n",
      "Skipping SAL_C2_S035_P070_VC1_001373_002439: Missing required files.\n",
      "Skipping C2_S045_P090_AD2: Missing required files.\n",
      "Skipping C4_S108_P215_AD2: Missing required files.\n",
      "Skipping C3_S086_P171_AD1: Missing required files.\n"
     ]
    },
    {
     "name": "stderr",
     "output_type": "stream",
     "text": [
      "I0000 00:00:1733374230.154959 67237106 gl_context.cc:357] GL version: 2.1 (2.1 Metal - 88), renderer: Apple M3 Pro\n",
      "W0000 00:00:1733374230.156360 67505830 inference_feedback_manager.cc:114] Feedback manager requires a model with a single signature inference. Disabling support for feedback tensors.\n",
      "W0000 00:00:1733374230.160603 67505830 inference_feedback_manager.cc:114] Feedback manager requires a model with a single signature inference. Disabling support for feedback tensors.\n",
      "Processing samples:  31%|▎| 828/2630 [45:52<"
     ]
    },
    {
     "name": "stdout",
     "output_type": "stream",
     "text": [
      "Skipping SSD_C3_S087_P174_VC1_002951_003961: Missing or invalid Valence annotations.\n",
      "Skipping C6_S167_P333_AD1: Missing required files.\n",
      "Skipping C2_S037_P073_AD3: Missing required files.\n",
      "Skipping SVL_C5_S138_P275_VC1_003101_003601: Missing required files.\n",
      "Skipping SVH_C3_S092_P184_VC1_004631_005221: Missing required files.\n",
      "Skipping TVL_C6_VC1: Missing required files.\n",
      "Skipping C4_S118_P235_AD1: Missing required files.\n",
      "Skipping C2_S044_P087_AD3: Missing required files.\n",
      "Skipping SAL_C3_S086_P171_VC1_006801_007631: Missing required files.\n",
      "Skipping SVL_C3_S077_P153_VC1_007131_008161: Missing required files.\n",
      "Skipping SVH_C5_S143_P285_VC1_005101_005651: Missing required files.\n"
     ]
    },
    {
     "name": "stderr",
     "output_type": "stream",
     "text": [
      "I0000 00:00:1733374238.825429 67237106 gl_context.cc:357] GL version: 2.1 (2.1 Metal - 88), renderer: Apple M3 Pro\n",
      "W0000 00:00:1733374238.826445 67505942 inference_feedback_manager.cc:114] Feedback manager requires a model with a single signature inference. Disabling support for feedback tensors.\n",
      "W0000 00:00:1733374238.830316 67505939 inference_feedback_manager.cc:114] Feedback manager requires a model with a single signature inference. Disabling support for feedback tensors.\n",
      "Processing samples:  32%|▎| 839/2630 [45:55<"
     ]
    },
    {
     "name": "stdout",
     "output_type": "stream",
     "text": [
      "Skipping SSL_C5_S142_P283_VC1_001201_001601: Missing or invalid Valence annotations.\n",
      "Skipping C6_S181_P361_AD1: Missing required files.\n"
     ]
    },
    {
     "name": "stderr",
     "output_type": "stream",
     "text": [
      "I0000 00:00:1733374242.438411 67237106 gl_context.cc:357] GL version: 2.1 (2.1 Metal - 88), renderer: Apple M3 Pro\n",
      "W0000 00:00:1733374242.439397 67506122 inference_feedback_manager.cc:114] Feedback manager requires a model with a single signature inference. Disabling support for feedback tensors.\n",
      "W0000 00:00:1733374242.443205 67506124 inference_feedback_manager.cc:114] Feedback manager requires a model with a single signature inference. Disabling support for feedback tensors.\n",
      "Processing samples:  32%|▎| 841/2630 [46:12<"
     ]
    },
    {
     "name": "stdout",
     "output_type": "stream",
     "text": [
      "Skipping C6_S183_P366_AD4: Missing or invalid Valence annotations.\n",
      "Skipping C1_S017_P034_VC1: Missing required files.\n",
      "Skipping C3_S072_P144_AD2: Missing required files.\n"
     ]
    },
    {
     "name": "stderr",
     "output_type": "stream",
     "text": [
      "I0000 00:00:1733374259.710677 67237106 gl_context.cc:357] GL version: 2.1 (2.1 Metal - 88), renderer: Apple M3 Pro\n",
      "W0000 00:00:1733374259.713410 67506487 inference_feedback_manager.cc:114] Feedback manager requires a model with a single signature inference. Disabling support for feedback tensors.\n",
      "W0000 00:00:1733374259.720066 67506488 inference_feedback_manager.cc:114] Feedback manager requires a model with a single signature inference. Disabling support for feedback tensors.\n",
      "Processing samples:  32%|▎| 844/2630 [46:33<"
     ]
    },
    {
     "name": "stdout",
     "output_type": "stream",
     "text": [
      "Skipping C2_S057_P114_AD4: Missing or invalid Valence annotations.\n",
      "Skipping C2_S054_P107_AD1: Missing required files.\n",
      "Skipping C6_S191_P382_AD2: Missing required files.\n",
      "Skipping C1_S024_P047_VC1: Missing required files.\n"
     ]
    },
    {
     "name": "stderr",
     "output_type": "stream",
     "text": [
      "I0000 00:00:1733374280.271222 67237106 gl_context.cc:357] GL version: 2.1 (2.1 Metal - 88), renderer: Apple M3 Pro\n",
      "W0000 00:00:1733374280.273102 67506971 inference_feedback_manager.cc:114] Feedback manager requires a model with a single signature inference. Disabling support for feedback tensors.\n",
      "W0000 00:00:1733374280.279231 67506967 inference_feedback_manager.cc:114] Feedback manager requires a model with a single signature inference. Disabling support for feedback tensors.\n",
      "Processing samples:  32%|▎| 848/2630 [46:54<"
     ]
    },
    {
     "name": "stdout",
     "output_type": "stream",
     "text": [
      "Skipping C2_S037_P073_AD4: Missing or invalid Valence annotations.\n",
      "Skipping C5_S136_P271_AD1: Missing required files.\n",
      "Skipping C4_S109_P217_VC1: Missing required files.\n",
      "Skipping SVL_C1_S014_P027_VC1_004045_006075: Missing required files.\n",
      "Skipping SVH_C2_S044_P087_VC1_000002_000683: Missing required files.\n",
      "Skipping C3_S065_P129_AD1: Missing required files.\n",
      "Skipping C2_S057_P114_AD3: Missing required files.\n",
      "Skipping SAL_C1_S007_P014_VC1_002076_003143: Missing required files.\n",
      "Skipping EAW_C2_VC1: Missing required files.\n",
      "Skipping C6_S183_P366_AD3: Missing required files.\n",
      "Skipping SAL_C6_S185_P370_VC1_006763_007716: Missing required files.\n",
      "Skipping SAH_C1_S027_P054_VC1_000920_002082: Missing required files.\n",
      "Skipping C3_S073_P146_VC1: Missing required files.\n",
      "Skipping C4_S122_P243_VC1: Missing required files.\n"
     ]
    },
    {
     "name": "stderr",
     "output_type": "stream",
     "text": [
      "I0000 00:00:1733374301.120739 67237106 gl_context.cc:357] GL version: 2.1 (2.1 Metal - 88), renderer: Apple M3 Pro\n",
      "W0000 00:00:1733374301.122881 67507280 inference_feedback_manager.cc:114] Feedback manager requires a model with a single signature inference. Disabling support for feedback tensors.\n",
      "W0000 00:00:1733374301.127320 67507283 inference_feedback_manager.cc:114] Feedback manager requires a model with a single signature inference. Disabling support for feedback tensors.\n",
      "Processing samples:  33%|▎| 862/2630 [47:08<"
     ]
    },
    {
     "name": "stdout",
     "output_type": "stream",
     "text": [
      "Skipping C2_S044_P087_AD4: Missing or invalid Valence annotations.\n",
      "Skipping C6_S190_P380_VC1: Missing required files.\n",
      "Skipping C2_S047_P094_AD1: Missing required files.\n"
     ]
    },
    {
     "name": "stderr",
     "output_type": "stream",
     "text": [
      "I0000 00:00:1733374315.126470 67237106 gl_context.cc:357] GL version: 2.1 (2.1 Metal - 88), renderer: Apple M3 Pro\n",
      "W0000 00:00:1733374315.128970 67507633 inference_feedback_manager.cc:114] Feedback manager requires a model with a single signature inference. Disabling support for feedback tensors.\n",
      "W0000 00:00:1733374315.133233 67507632 inference_feedback_manager.cc:114] Feedback manager requires a model with a single signature inference. Disabling support for feedback tensors.\n",
      "Processing samples:  33%|▎| 865/2630 [47:21<"
     ]
    },
    {
     "name": "stdout",
     "output_type": "stream",
     "text": [
      "Skipping SSD_C4_S107_P214_VC1_003801_005300: Missing or invalid Valence annotations.\n",
      "Skipping C6_S191_P382_VC1: Missing required files.\n",
      "Skipping C3_S072_P144_VC1: Missing required files.\n",
      "Skipping TAH_C5_VC1: Missing required files.\n",
      "Skipping C3_S063_P126_AD3: Missing required files.\n",
      "Skipping C1_S017_P034_AD2: Missing required files.\n"
     ]
    },
    {
     "name": "stderr",
     "output_type": "stream",
     "text": [
      "I0000 00:00:1733374328.146031 67237106 gl_context.cc:357] GL version: 2.1 (2.1 Metal - 88), renderer: Apple M3 Pro\n",
      "W0000 00:00:1733374328.147876 67507849 inference_feedback_manager.cc:114] Feedback manager requires a model with a single signature inference. Disabling support for feedback tensors.\n",
      "W0000 00:00:1733374328.157248 67507847 inference_feedback_manager.cc:114] Feedback manager requires a model with a single signature inference. Disabling support for feedback tensors.\n",
      "Processing samples:  33%|▎| 871/2630 [47:24<"
     ]
    },
    {
     "name": "stdout",
     "output_type": "stream",
     "text": [
      "Skipping C5_S147_P294_AD4: Missing or invalid Valence annotations.\n",
      "Skipping C5_S144_P287_AD1: Missing required files.\n",
      "Skipping C4_S095_P190_AD1: Missing required files.\n",
      "Skipping C6_S182_P364_AD3: Missing required files.\n",
      "Skipping SAH_C2_S050_P100_VC1_002799_003301: Missing required files.\n",
      "Skipping C5_S154_P307_AD3: Missing required files.\n"
     ]
    },
    {
     "name": "stderr",
     "output_type": "stream",
     "text": [
      "I0000 00:00:1733374330.937349 67237106 gl_context.cc:357] GL version: 2.1 (2.1 Metal - 88), renderer: Apple M3 Pro\n",
      "W0000 00:00:1733374330.938400 67507974 inference_feedback_manager.cc:114] Feedback manager requires a model with a single signature inference. Disabling support for feedback tensors.\n",
      "W0000 00:00:1733374330.942485 67507977 inference_feedback_manager.cc:114] Feedback manager requires a model with a single signature inference. Disabling support for feedback tensors.\n",
      "Processing samples:  33%|▎| 877/2630 [47:42<"
     ]
    },
    {
     "name": "stdout",
     "output_type": "stream",
     "text": [
      "Skipping C4_S102_P203_AD4: Missing or invalid Valence annotations.\n"
     ]
    },
    {
     "name": "stderr",
     "output_type": "stream",
     "text": [
      "I0000 00:00:1733374348.905259 67237106 gl_context.cc:357] GL version: 2.1 (2.1 Metal - 88), renderer: Apple M3 Pro\n",
      "W0000 00:00:1733374348.907383 67508287 inference_feedback_manager.cc:114] Feedback manager requires a model with a single signature inference. Disabling support for feedback tensors.\n",
      "W0000 00:00:1733374348.913343 67508288 inference_feedback_manager.cc:114] Feedback manager requires a model with a single signature inference. Disabling support for feedback tensors.\n",
      "Processing samples:  33%|▎| 878/2630 [48:04<"
     ]
    },
    {
     "name": "stdout",
     "output_type": "stream",
     "text": [
      "Skipping C1_S004_P007_AD4: Missing or invalid Valence annotations.\n",
      "Skipping C1_S007_P014_AD1: Missing required files.\n",
      "Skipping SAL_C6_S166_P331_VC1_007901_008565: Missing required files.\n"
     ]
    },
    {
     "name": "stderr",
     "output_type": "stream",
     "text": [
      "I0000 00:00:1733374370.893868 67237106 gl_context.cc:357] GL version: 2.1 (2.1 Metal - 88), renderer: Apple M3 Pro\n",
      "W0000 00:00:1733374370.895760 67508824 inference_feedback_manager.cc:114] Feedback manager requires a model with a single signature inference. Disabling support for feedback tensors.\n",
      "W0000 00:00:1733374370.909226 67508827 inference_feedback_manager.cc:114] Feedback manager requires a model with a single signature inference. Disabling support for feedback tensors.\n",
      "Processing samples:  33%|▎| 881/2630 [48:29<"
     ]
    },
    {
     "name": "stdout",
     "output_type": "stream",
     "text": [
      "Skipping SSD_C6_S174_P348_VC1_003001_005865: Missing or invalid Valence annotations.\n",
      "Skipping C6_S185_P369_AD1: Missing required files.\n",
      "Skipping C5_S137_P273_AD1: Missing required files.\n",
      "Skipping C4_S108_P215_VC1: Missing required files.\n"
     ]
    },
    {
     "name": "stderr",
     "output_type": "stream",
     "text": [
      "I0000 00:00:1733374395.932109 67237106 gl_context.cc:357] GL version: 2.1 (2.1 Metal - 88), renderer: Apple M3 Pro\n",
      "W0000 00:00:1733374395.935498 67509291 inference_feedback_manager.cc:114] Feedback manager requires a model with a single signature inference. Disabling support for feedback tensors.\n",
      "W0000 00:00:1733374395.943787 67509291 inference_feedback_manager.cc:114] Feedback manager requires a model with a single signature inference. Disabling support for feedback tensors.\n",
      "Processing samples:  34%|▎| 885/2630 [48:36<"
     ]
    },
    {
     "name": "stdout",
     "output_type": "stream",
     "text": [
      "Skipping C2_S036_P071_AD4: Missing or invalid Valence annotations.\n",
      "Skipping C6_S190_P380_AD2: Missing required files.\n",
      "Skipping C3_S073_P146_AD2: Missing required files.\n",
      "Skipping C4_S122_P243_AD2: Missing required files.\n",
      "Skipping C4_S102_P203_AD3: Missing required files.\n"
     ]
    },
    {
     "name": "stderr",
     "output_type": "stream",
     "text": [
      "I0000 00:00:1733374403.176081 67237106 gl_context.cc:357] GL version: 2.1 (2.1 Metal - 88), renderer: Apple M3 Pro\n",
      "W0000 00:00:1733374403.177796 67509720 inference_feedback_manager.cc:114] Feedback manager requires a model with a single signature inference. Disabling support for feedback tensors.\n",
      "W0000 00:00:1733374403.182553 67509719 inference_feedback_manager.cc:114] Feedback manager requires a model with a single signature inference. Disabling support for feedback tensors.\n",
      "Processing samples:  34%|▎| 890/2630 [48:48<"
     ]
    },
    {
     "name": "stdout",
     "output_type": "stream",
     "text": [
      "Skipping C5_S154_P307_AD4: Missing or invalid Valence annotations.\n"
     ]
    },
    {
     "name": "stderr",
     "output_type": "stream",
     "text": [
      "I0000 00:00:1733374415.597853 67237106 gl_context.cc:357] GL version: 2.1 (2.1 Metal - 88), renderer: Apple M3 Pro\n",
      "W0000 00:00:1733374415.600166 67510173 inference_feedback_manager.cc:114] Feedback manager requires a model with a single signature inference. Disabling support for feedback tensors.\n",
      "W0000 00:00:1733374415.605367 67510174 inference_feedback_manager.cc:114] Feedback manager requires a model with a single signature inference. Disabling support for feedback tensors.\n",
      "Processing samples:  34%|▎| 891/2630 [49:31<"
     ]
    },
    {
     "name": "stdout",
     "output_type": "stream",
     "text": [
      "Skipping C6_S182_P364_AD4: Missing or invalid Valence annotations.\n",
      "Skipping C5_S157_P314_AD1: Missing required files.\n",
      "Skipping TVL_C4_VC1: Missing required files.\n"
     ]
    },
    {
     "name": "stderr",
     "output_type": "stream",
     "text": [
      "I0000 00:00:1733374458.415918 67237106 gl_context.cc:357] GL version: 2.1 (2.1 Metal - 88), renderer: Apple M3 Pro\n",
      "W0000 00:00:1733374458.418165 67510874 inference_feedback_manager.cc:114] Feedback manager requires a model with a single signature inference. Disabling support for feedback tensors.\n",
      "W0000 00:00:1733374458.424798 67510868 inference_feedback_manager.cc:114] Feedback manager requires a model with a single signature inference. Disabling support for feedback tensors.\n",
      "Processing samples:  34%|▎| 894/2630 [49:49<"
     ]
    },
    {
     "name": "stdout",
     "output_type": "stream",
     "text": [
      "Skipping C3_S063_P126_AD4: Missing or invalid Valence annotations.\n",
      "Skipping C5_S147_P294_AD3: Missing required files.\n",
      "Skipping C4_S119_P237_AD1: Missing required files.\n",
      "Skipping C2_S036_P071_AD3: Missing required files.\n",
      "Skipping C6_S166_P331_AD1: Missing required files.\n",
      "Skipping C3_S087_P173_AD1: Missing required files.\n",
      "Skipping C4_S109_P217_AD2: Missing required files.\n",
      "Skipping SAL_C6_S168_P336_VC1_004701_005407: Missing required files.\n",
      "Skipping C1_S024_P047_AD2: Missing required files.\n"
     ]
    },
    {
     "name": "stderr",
     "output_type": "stream",
     "text": [
      "I0000 00:00:1733374476.219808 67237106 gl_context.cc:357] GL version: 2.1 (2.1 Metal - 88), renderer: Apple M3 Pro\n",
      "W0000 00:00:1733374476.221837 67511095 inference_feedback_manager.cc:114] Feedback manager requires a model with a single signature inference. Disabling support for feedback tensors.\n",
      "W0000 00:00:1733374476.226520 67511093 inference_feedback_manager.cc:114] Feedback manager requires a model with a single signature inference. Disabling support for feedback tensors.\n",
      "Processing samples:  34%|▎| 903/2630 [49:51<"
     ]
    },
    {
     "name": "stdout",
     "output_type": "stream",
     "text": [
      "Skipping SSD_C5_S140_P280_VC1_006501_006751: Missing or invalid Valence annotations.\n",
      "Skipping C1_S004_P007_AD3: Missing required files.\n",
      "Skipping C6_S183_P365_VC1: Missing required files.\n",
      "Skipping C1_S015_P030_AD1: Missing required files.\n",
      "Skipping SVH_C6_S169_P337_VC1_000002_000629: Missing required files.\n",
      "Skipping EAM_C4_VC1: Missing required files.\n",
      "Skipping C4_S097_P194_AD2: Missing required files.\n",
      "Skipping SAL_C3_S064_P128_VC1_000381_000771: Missing required files.\n",
      "Skipping C3_S073_P145_AD3: Missing required files.\n",
      "Skipping C1_S025_P050_AD3: Missing required files.\n",
      "Skipping C4_S100_P199_AD1: Missing required files.\n",
      "Skipping C1_S005_P010_AD2: Missing required files.\n",
      "Skipping SAH_C6_S187_P374_VC1_003581_004166: Missing required files.\n"
     ]
    },
    {
     "name": "stderr",
     "output_type": "stream",
     "text": [
      "I0000 00:00:1733374478.530000 67237106 gl_context.cc:357] GL version: 2.1 (2.1 Metal - 88), renderer: Apple M3 Pro\n",
      "W0000 00:00:1733374478.530978 67511172 inference_feedback_manager.cc:114] Feedback manager requires a model with a single signature inference. Disabling support for feedback tensors.\n",
      "W0000 00:00:1733374478.535142 67511174 inference_feedback_manager.cc:114] Feedback manager requires a model with a single signature inference. Disabling support for feedback tensors.\n",
      "Processing samples:  35%|▎| 916/2630 [49:57<"
     ]
    },
    {
     "name": "stdout",
     "output_type": "stream",
     "text": [
      "Skipping C2_S039_P078_AD4: Missing or invalid Valence annotations.\n",
      "Skipping C2_S036_P072_AD2: Missing required files.\n",
      "Skipping C3_S074_P148_AD1: Missing required files.\n",
      "Skipping SAL_C6_S177_P354_VC1_000116_002259: Missing required files.\n"
     ]
    },
    {
     "name": "stderr",
     "output_type": "stream",
     "text": [
      "I0000 00:00:1733374484.620745 67237106 gl_context.cc:357] GL version: 2.1 (2.1 Metal - 88), renderer: Apple M3 Pro\n",
      "W0000 00:00:1733374484.622053 67511377 inference_feedback_manager.cc:114] Feedback manager requires a model with a single signature inference. Disabling support for feedback tensors.\n",
      "W0000 00:00:1733374484.626347 67511377 inference_feedback_manager.cc:114] Feedback manager requires a model with a single signature inference. Disabling support for feedback tensors.\n",
      "Processing samples:  35%|▎| 920/2630 [50:26<"
     ]
    },
    {
     "name": "stdout",
     "output_type": "stream",
     "text": [
      "Skipping C3_S073_P145_AD4: Missing or invalid Valence annotations.\n",
      "Skipping C3_S071_P142_AD1: Missing required files.\n"
     ]
    },
    {
     "name": "stderr",
     "output_type": "stream",
     "text": [
      "I0000 00:00:1733374512.982180 67237106 gl_context.cc:357] GL version: 2.1 (2.1 Metal - 88), renderer: Apple M3 Pro\n",
      "W0000 00:00:1733374512.985566 67512059 inference_feedback_manager.cc:114] Feedback manager requires a model with a single signature inference. Disabling support for feedback tensors.\n",
      "W0000 00:00:1733374513.000385 67512056 inference_feedback_manager.cc:114] Feedback manager requires a model with a single signature inference. Disabling support for feedback tensors.\n",
      "Processing samples:  35%|▎| 922/2630 [50:38<"
     ]
    },
    {
     "name": "stdout",
     "output_type": "stream",
     "text": [
      "Skipping SSD_C4_S101_P202_VC1_004951_006350: Missing or invalid Valence annotations.\n",
      "Skipping C2_S045_P090_VC1: Missing required files.\n",
      "Skipping C5_S129_P258_VC1: Missing required files.\n",
      "Skipping C5_S155_P310_AD2: Missing required files.\n",
      "Skipping C3_S063_P125_AD2: Missing required files.\n",
      "Skipping SVL_C5_S134_P267_VC1_000451_000901: Missing required files.\n",
      "Skipping SVL_C2_S047_P093_VC1_000538_001078: Missing required files.\n"
     ]
    },
    {
     "name": "stderr",
     "output_type": "stream",
     "text": [
      "I0000 00:00:1733374525.339261 67237106 gl_context.cc:357] GL version: 2.1 (2.1 Metal - 88), renderer: Apple M3 Pro\n",
      "W0000 00:00:1733374525.341175 67512212 inference_feedback_manager.cc:114] Feedback manager requires a model with a single signature inference. Disabling support for feedback tensors.\n",
      "W0000 00:00:1733374525.346217 67512213 inference_feedback_manager.cc:114] Feedback manager requires a model with a single signature inference. Disabling support for feedback tensors.\n",
      "Processing samples:  35%|▎| 929/2630 [51:05<"
     ]
    },
    {
     "name": "stdout",
     "output_type": "stream",
     "text": [
      "Skipping SSD_C6_S171_P342_VC1_001180_004103: Missing or invalid Valence annotations.\n",
      "Skipping C2_S039_P078_AD3: Missing required files.\n",
      "Skipping SVL_C3_S069_P138_VC1_000381_001401: Missing required files.\n",
      "Skipping SAL_C1_S016_P031_VC1_001801_003001: Missing required files.\n",
      "Skipping C6_S169_P338_AD1: Missing required files.\n",
      "Skipping C6_S176_P352_AD1: Missing required files.\n"
     ]
    },
    {
     "name": "stderr",
     "output_type": "stream",
     "text": [
      "I0000 00:00:1733374551.986001 67237106 gl_context.cc:357] GL version: 2.1 (2.1 Metal - 88), renderer: Apple M3 Pro\n",
      "W0000 00:00:1733374551.988818 67512831 inference_feedback_manager.cc:114] Feedback manager requires a model with a single signature inference. Disabling support for feedback tensors.\n",
      "W0000 00:00:1733374551.995574 67512834 inference_feedback_manager.cc:114] Feedback manager requires a model with a single signature inference. Disabling support for feedback tensors.\n",
      "Processing samples:  36%|▎| 935/2630 [51:11<"
     ]
    },
    {
     "name": "stdout",
     "output_type": "stream",
     "text": [
      "Skipping SSL_C5_S131_P261_VC1_000601_001251: Missing or invalid Valence annotations.\n"
     ]
    },
    {
     "name": "stderr",
     "output_type": "stream",
     "text": [
      "I0000 00:00:1733374557.955846 67237106 gl_context.cc:357] GL version: 2.1 (2.1 Metal - 88), renderer: Apple M3 Pro\n",
      "W0000 00:00:1733374557.956790 67513106 inference_feedback_manager.cc:114] Feedback manager requires a model with a single signature inference. Disabling support for feedback tensors.\n",
      "W0000 00:00:1733374557.961164 67513107 inference_feedback_manager.cc:114] Feedback manager requires a model with a single signature inference. Disabling support for feedback tensors.\n",
      "Processing samples:  36%|▎| 936/2630 [51:30<"
     ]
    },
    {
     "name": "stdout",
     "output_type": "stream",
     "text": [
      "Skipping C1_S025_P050_AD4: Missing or invalid Valence annotations.\n",
      "Skipping C2_S195_P389_VC1: Missing required files.\n"
     ]
    },
    {
     "name": "stderr",
     "output_type": "stream",
     "text": [
      "I0000 00:00:1733374577.283713 67237106 gl_context.cc:357] GL version: 2.1 (2.1 Metal - 88), renderer: Apple M3 Pro\n",
      "W0000 00:00:1733374577.286190 67513339 inference_feedback_manager.cc:114] Feedback manager requires a model with a single signature inference. Disabling support for feedback tensors.\n",
      "W0000 00:00:1733374577.297472 67513333 inference_feedback_manager.cc:114] Feedback manager requires a model with a single signature inference. Disabling support for feedback tensors.\n",
      "Processing samples:  36%|▎| 938/2630 [51:41<"
     ]
    },
    {
     "name": "stdout",
     "output_type": "stream",
     "text": [
      "Skipping C4_S108_P215_AD4: Missing or invalid Valence annotations.\n"
     ]
    },
    {
     "name": "stderr",
     "output_type": "stream",
     "text": [
      "I0000 00:00:1733374587.855506 67237106 gl_context.cc:357] GL version: 2.1 (2.1 Metal - 88), renderer: Apple M3 Pro\n",
      "W0000 00:00:1733374587.857765 67513454 inference_feedback_manager.cc:114] Feedback manager requires a model with a single signature inference. Disabling support for feedback tensors.\n",
      "W0000 00:00:1733374587.862290 67513452 inference_feedback_manager.cc:114] Feedback manager requires a model with a single signature inference. Disabling support for feedback tensors.\n",
      "Processing samples:  36%|▎| 939/2630 [51:48<"
     ]
    },
    {
     "name": "stdout",
     "output_type": "stream",
     "text": [
      "Skipping SSD_C3_S072_P143_VC1_001771_002541: Missing or invalid Valence annotations.\n",
      "Skipping C2_S036_P071_VC1: Missing required files.\n",
      "Skipping C6_S177_P353_AD1: Missing required files.\n",
      "Skipping SAL_C6_S164_P328_VC1_000787_001615: Missing required files.\n"
     ]
    },
    {
     "name": "stderr",
     "output_type": "stream",
     "text": [
      "I0000 00:00:1733374595.418417 67237106 gl_context.cc:357] GL version: 2.1 (2.1 Metal - 88), renderer: Apple M3 Pro\n",
      "W0000 00:00:1733374595.420317 67513776 inference_feedback_manager.cc:114] Feedback manager requires a model with a single signature inference. Disabling support for feedback tensors.\n",
      "W0000 00:00:1733374595.427445 67513778 inference_feedback_manager.cc:114] Feedback manager requires a model with a single signature inference. Disabling support for feedback tensors.\n",
      "Processing samples:  36%|▎| 943/2630 [51:54<"
     ]
    },
    {
     "name": "stdout",
     "output_type": "stream",
     "text": [
      "Skipping SSD_C1_S029_P058_VC1_000601_001201: Missing or invalid Valence annotations.\n"
     ]
    },
    {
     "name": "stderr",
     "output_type": "stream",
     "text": [
      "I0000 00:00:1733374601.398246 67237106 gl_context.cc:357] GL version: 2.1 (2.1 Metal - 88), renderer: Apple M3 Pro\n",
      "W0000 00:00:1733374601.399936 67513906 inference_feedback_manager.cc:114] Feedback manager requires a model with a single signature inference. Disabling support for feedback tensors.\n",
      "W0000 00:00:1733374601.405038 67513904 inference_feedback_manager.cc:114] Feedback manager requires a model with a single signature inference. Disabling support for feedback tensors.\n",
      "Processing samples:  36%|▎| 944/2630 [52:02<"
     ]
    },
    {
     "name": "stdout",
     "output_type": "stream",
     "text": [
      "Skipping SSD_C1_S022_P044_VC1_003301_004101: Missing or invalid Valence annotations.\n",
      "Skipping C1_S004_P007_VC1: Missing required files.\n",
      "Skipping SAL_C1_S029_P057_VC1_005264_006249: Missing required files.\n",
      "Skipping SAH_C6_S169_P338_VC1_005506_006434: Missing required files.\n",
      "Skipping C4_S102_P203_VC1: Missing required files.\n"
     ]
    },
    {
     "name": "stderr",
     "output_type": "stream",
     "text": [
      "I0000 00:00:1733374609.058843 67237106 gl_context.cc:357] GL version: 2.1 (2.1 Metal - 88), renderer: Apple M3 Pro\n",
      "W0000 00:00:1733374609.060316 67514045 inference_feedback_manager.cc:114] Feedback manager requires a model with a single signature inference. Disabling support for feedback tensors.\n",
      "W0000 00:00:1733374609.065438 67514044 inference_feedback_manager.cc:114] Feedback manager requires a model with a single signature inference. Disabling support for feedback tensors.\n",
      "Processing samples:  36%|▎| 949/2630 [52:26<"
     ]
    },
    {
     "name": "stdout",
     "output_type": "stream",
     "text": [
      "Skipping C3_S072_P144_AD4: Missing or invalid Valence annotations.\n",
      "Skipping C2_S057_P114_AD2: Missing required files.\n"
     ]
    },
    {
     "name": "stderr",
     "output_type": "stream",
     "text": [
      "I0000 00:00:1733374633.306280 67237106 gl_context.cc:357] GL version: 2.1 (2.1 Metal - 88), renderer: Apple M3 Pro\n",
      "W0000 00:00:1733374633.308538 67514695 inference_feedback_manager.cc:114] Feedback manager requires a model with a single signature inference. Disabling support for feedback tensors.\n",
      "W0000 00:00:1733374633.314256 67514700 inference_feedback_manager.cc:114] Feedback manager requires a model with a single signature inference. Disabling support for feedback tensors.\n",
      "Processing samples:  36%|▎| 951/2630 [52:48<"
     ]
    },
    {
     "name": "stdout",
     "output_type": "stream",
     "text": [
      "Skipping C6_S191_P382_AD4: Missing or invalid Valence annotations.\n",
      "Skipping C6_S183_P366_AD2: Missing required files.\n",
      "Skipping C5_S147_P294_VC1: Missing required files.\n",
      "Skipping SAL_C4_S116_P232_VC1_002801_003500: Missing required files.\n",
      "Skipping C2_S037_P073_AD2: Missing required files.\n",
      "Skipping C3_S075_P149_AD1: Missing required files.\n",
      "Skipping SAH_C6_S182_P364_VC1_004368_005319: Missing required files.\n",
      "Skipping C4_S108_P215_AD3: Missing required files.\n",
      "Skipping C3_S063_P126_VC1: Missing required files.\n",
      "Skipping C6_S191_P382_AD3: Missing required files.\n",
      "Skipping C3_S072_P144_AD3: Missing required files.\n",
      "Skipping EAM_C5_VC1: Missing required files.\n"
     ]
    },
    {
     "name": "stderr",
     "output_type": "stream",
     "text": [
      "I0000 00:00:1733374655.448991 67237106 gl_context.cc:357] GL version: 2.1 (2.1 Metal - 88), renderer: Apple M3 Pro\n",
      "W0000 00:00:1733374655.451971 67515145 inference_feedback_manager.cc:114] Feedback manager requires a model with a single signature inference. Disabling support for feedback tensors.\n",
      "W0000 00:00:1733374655.456555 67515145 inference_feedback_manager.cc:114] Feedback manager requires a model with a single signature inference. Disabling support for feedback tensors.\n",
      "Processing samples:  37%|▎| 963/2630 [53:07<"
     ]
    },
    {
     "name": "stdout",
     "output_type": "stream",
     "text": [
      "Skipping SSL_C6_S186_P372_VC1_000729_002921: Missing or invalid Valence annotations.\n",
      "Skipping C2_S044_P087_AD2: Missing required files.\n",
      "Skipping C6_S182_P364_VC1: Missing required files.\n",
      "Skipping C5_S154_P307_VC1: Missing required files.\n",
      "Skipping C3_S086_P172_AD1: Missing required files.\n",
      "Skipping C4_S108_P216_AD2: Missing required files.\n",
      "Skipping SVL_C6_S191_P382_VC1_000002_001021: Missing required files.\n"
     ]
    },
    {
     "name": "stderr",
     "output_type": "stream",
     "text": [
      "I0000 00:00:1733374674.270708 67237106 gl_context.cc:357] GL version: 2.1 (2.1 Metal - 88), renderer: Apple M3 Pro\n",
      "W0000 00:00:1733374674.272627 67515444 inference_feedback_manager.cc:114] Feedback manager requires a model with a single signature inference. Disabling support for feedback tensors.\n",
      "W0000 00:00:1733374674.277302 67515441 inference_feedback_manager.cc:114] Feedback manager requires a model with a single signature inference. Disabling support for feedback tensors.\n",
      "Processing samples:  37%|▎| 970/2630 [53:19<"
     ]
    },
    {
     "name": "stdout",
     "output_type": "stream",
     "text": [
      "Skipping SSD_C6_S190_P379_VC1_000266_001656: Missing or invalid Valence annotations.\n",
      "Skipping C4_S120_P239_AD2: Missing required files.\n",
      "Skipping C2_S195_P389_AD3: Missing required files.\n",
      "Skipping C2_S039_P078_VC1: Missing required files.\n"
     ]
    },
    {
     "name": "stderr",
     "output_type": "stream",
     "text": [
      "I0000 00:00:1733374686.573579 67237106 gl_context.cc:357] GL version: 2.1 (2.1 Metal - 88), renderer: Apple M3 Pro\n",
      "W0000 00:00:1733374686.575479 67515914 inference_feedback_manager.cc:114] Feedback manager requires a model with a single signature inference. Disabling support for feedback tensors.\n",
      "W0000 00:00:1733374686.580065 67515912 inference_feedback_manager.cc:114] Feedback manager requires a model with a single signature inference. Disabling support for feedback tensors.\n",
      "Processing samples:  37%|▎| 974/2630 [53:27<"
     ]
    },
    {
     "name": "stdout",
     "output_type": "stream",
     "text": [
      "Skipping SSL_C1_S008_P015_VC1_003401_004201: Missing or invalid Valence annotations.\n",
      "Skipping C5_S129_P258_AD3: Missing required files.\n",
      "Skipping SVH_C6_S183_P366_VC1_000254_001057: Missing required files.\n",
      "Skipping TVL_C5_VC1: Missing required files.\n",
      "Skipping C4_S118_P236_AD1: Missing required files.\n",
      "Skipping SAH_C6_S182_P363_VC1_008007_008745: Missing required files.\n",
      "Skipping SVH_C2_S037_P074_VC1_003070_003742: Missing required files.\n",
      "Skipping C2_S045_P090_AD3: Missing required files.\n",
      "Skipping C6_S191_P381_AD2: Missing required files.\n",
      "Skipping C2_S055_P110_AD1: Missing required files.\n",
      "Skipping C6_S181_P362_AD1: Missing required files.\n"
     ]
    },
    {
     "name": "stderr",
     "output_type": "stream",
     "text": [
      "I0000 00:00:1733374694.108459 67237106 gl_context.cc:357] GL version: 2.1 (2.1 Metal - 88), renderer: Apple M3 Pro\n",
      "W0000 00:00:1733374694.109822 67516146 inference_feedback_manager.cc:114] Feedback manager requires a model with a single signature inference. Disabling support for feedback tensors.\n",
      "W0000 00:00:1733374694.114649 67516151 inference_feedback_manager.cc:114] Feedback manager requires a model with a single signature inference. Disabling support for feedback tensors.\n",
      "Processing samples:  37%|▎| 985/2630 [53:40<"
     ]
    },
    {
     "name": "stdout",
     "output_type": "stream",
     "text": [
      "Skipping C6_S183_P365_AD4: Missing or invalid Valence annotations.\n",
      "Skipping C6_S184_P368_AD1: Missing required files.\n",
      "Skipping C5_S136_P272_AD1: Missing required files.\n",
      "Skipping C1_S025_P050_VC1: Missing required files.\n"
     ]
    },
    {
     "name": "stderr",
     "output_type": "stream",
     "text": [
      "I0000 00:00:1733374707.348501 67237106 gl_context.cc:357] GL version: 2.1 (2.1 Metal - 88), renderer: Apple M3 Pro\n",
      "W0000 00:00:1733374707.349916 67516520 inference_feedback_manager.cc:114] Feedback manager requires a model with a single signature inference. Disabling support for feedback tensors.\n",
      "W0000 00:00:1733374707.354021 67516519 inference_feedback_manager.cc:114] Feedback manager requires a model with a single signature inference. Disabling support for feedback tensors.\n",
      "Processing samples:  38%|▍| 989/2630 [54:03<"
     ]
    },
    {
     "name": "stdout",
     "output_type": "stream",
     "text": [
      "Skipping C2_S195_P389_AD4: Missing or invalid Valence annotations.\n",
      "Skipping C4_S110_P219_AD2: Missing required files.\n",
      "Skipping EAW_C1_VC1: Missing required files.\n",
      "Skipping C6_S183_P365_AD3: Missing required files.\n",
      "Skipping SVL_C3_S090_P179_VC1_000481_001351: Missing required files.\n"
     ]
    },
    {
     "name": "stderr",
     "output_type": "stream",
     "text": [
      "I0000 00:00:1733374730.778441 67237106 gl_context.cc:357] GL version: 2.1 (2.1 Metal - 88), renderer: Apple M3 Pro\n",
      "W0000 00:00:1733374730.780568 67517014 inference_feedback_manager.cc:114] Feedback manager requires a model with a single signature inference. Disabling support for feedback tensors.\n",
      "W0000 00:00:1733374730.786693 67517014 inference_feedback_manager.cc:114] Feedback manager requires a model with a single signature inference. Disabling support for feedback tensors.\n",
      "Processing samples:  38%|▍| 994/2630 [54:09<"
     ]
    },
    {
     "name": "stdout",
     "output_type": "stream",
     "text": [
      "Skipping C2_S045_P090_AD4: Missing or invalid Valence annotations.\n",
      "Skipping TAH_C4_VC1: Missing required files.\n",
      "Skipping C3_S073_P145_VC1: Missing required files.\n"
     ]
    },
    {
     "name": "stderr",
     "output_type": "stream",
     "text": [
      "I0000 00:00:1733374736.732280 67237106 gl_context.cc:357] GL version: 2.1 (2.1 Metal - 88), renderer: Apple M3 Pro\n",
      "W0000 00:00:1733374736.733471 67517200 inference_feedback_manager.cc:114] Feedback manager requires a model with a single signature inference. Disabling support for feedback tensors.\n",
      "W0000 00:00:1733374736.738149 67517199 inference_feedback_manager.cc:114] Feedback manager requires a model with a single signature inference. Disabling support for feedback tensors.\n",
      "Processing samples:  38%|▍| 997/2630 [54:20<"
     ]
    },
    {
     "name": "stdout",
     "output_type": "stream",
     "text": [
      "Skipping C5_S129_P258_AD4: Missing or invalid Valence annotations.\n"
     ]
    },
    {
     "name": "stderr",
     "output_type": "stream",
     "text": [
      "I0000 00:00:1733374747.661348 67237106 gl_context.cc:357] GL version: 2.1 (2.1 Metal - 88), renderer: Apple M3 Pro\n",
      "W0000 00:00:1733374747.662454 67517576 inference_feedback_manager.cc:114] Feedback manager requires a model with a single signature inference. Disabling support for feedback tensors.\n",
      "W0000 00:00:1733374747.666901 67517579 inference_feedback_manager.cc:114] Feedback manager requires a model with a single signature inference. Disabling support for feedback tensors.\n",
      "Processing samples:  38%|▍| 998/2630 [54:32<"
     ]
    },
    {
     "name": "stdout",
     "output_type": "stream",
     "text": [
      "Skipping C4_S103_P206_AD4: Missing or invalid Valence annotations.\n",
      "Skipping C4_S101_P201_AD1: Missing required files.\n",
      "Skipping C2_S057_P113_AD3: Missing required files.\n",
      "Skipping EAW_C5_VC1: Missing required files.\n"
     ]
    },
    {
     "name": "stderr",
     "output_type": "stream",
     "text": [
      "I0000 00:00:1733374759.404696 67237106 gl_context.cc:357] GL version: 2.1 (2.1 Metal - 88), renderer: Apple M3 Pro\n",
      "W0000 00:00:1733374759.406679 67517873 inference_feedback_manager.cc:114] Feedback manager requires a model with a single signature inference. Disabling support for feedback tensors.\n",
      "W0000 00:00:1733374759.412027 67517875 inference_feedback_manager.cc:114] Feedback manager requires a model with a single signature inference. Disabling support for feedback tensors.\n",
      "Processing samples:  38%|▍| 1002/2630 [54:47"
     ]
    },
    {
     "name": "stdout",
     "output_type": "stream",
     "text": [
      "Skipping C4_S096_P192_AD4: Missing or invalid Valence annotations.\n",
      "Skipping C1_S194_P388_AD3: Missing required files.\n",
      "Skipping C4_S115_P229_VC1: Missing required files.\n",
      "Skipping C1_S016_P031_AD2: Missing required files.\n"
     ]
    },
    {
     "name": "stderr",
     "output_type": "stream",
     "text": [
      "I0000 00:00:1733374774.102179 67237106 gl_context.cc:357] GL version: 2.1 (2.1 Metal - 88), renderer: Apple M3 Pro\n",
      "W0000 00:00:1733374774.104075 67518323 inference_feedback_manager.cc:114] Feedback manager requires a model with a single signature inference. Disabling support for feedback tensors.\n",
      "W0000 00:00:1733374774.112922 67518325 inference_feedback_manager.cc:114] Feedback manager requires a model with a single signature inference. Disabling support for feedback tensors.\n",
      "Processing samples:  38%|▍| 1006/2630 [54:58"
     ]
    },
    {
     "name": "stdout",
     "output_type": "stream",
     "text": [
      "Skipping C5_S146_P291_AD4: Missing or invalid Valence annotations.\n",
      "Skipping C4_S099_P198_AD2: Missing required files.\n",
      "Skipping C4_S122_P244_VC1: Missing required files.\n",
      "Skipping C2_S047_P093_AD1: Missing required files.\n"
     ]
    },
    {
     "name": "stderr",
     "output_type": "stream",
     "text": [
      "I0000 00:00:1733374784.988286 67237106 gl_context.cc:357] GL version: 2.1 (2.1 Metal - 88), renderer: Apple M3 Pro\n",
      "W0000 00:00:1733374784.991225 67518456 inference_feedback_manager.cc:114] Feedback manager requires a model with a single signature inference. Disabling support for feedback tensors.\n",
      "W0000 00:00:1733374784.996297 67518456 inference_feedback_manager.cc:114] Feedback manager requires a model with a single signature inference. Disabling support for feedback tensors.\n",
      "Processing samples:  38%|▍| 1010/2630 [55:10"
     ]
    },
    {
     "name": "stdout",
     "output_type": "stream",
     "text": [
      "Skipping C2_S037_P074_AD4: Missing or invalid Valence annotations.\n",
      "Skipping C2_S034_P067_AD1: Missing required files.\n",
      "Skipping C3_S069_P137_AD2: Missing required files.\n",
      "Skipping C4_S111_P221_AD2: Missing required files.\n",
      "Skipping C6_S164_P327_AD3: Missing required files.\n"
     ]
    },
    {
     "name": "stderr",
     "output_type": "stream",
     "text": [
      "I0000 00:00:1733374796.917092 67237106 gl_context.cc:357] GL version: 2.1 (2.1 Metal - 88), renderer: Apple M3 Pro\n",
      "W0000 00:00:1733374796.919955 67518817 inference_feedback_manager.cc:114] Feedback manager requires a model with a single signature inference. Disabling support for feedback tensors.\n",
      "W0000 00:00:1733374796.925716 67518821 inference_feedback_manager.cc:114] Feedback manager requires a model with a single signature inference. Disabling support for feedback tensors.\n",
      "Processing samples:  39%|▍| 1015/2630 [55:12"
     ]
    },
    {
     "name": "stdout",
     "output_type": "stream",
     "text": [
      "Skipping SSL_C5_S129_P257_VC1_000651_000901: Missing or invalid Valence annotations.\n",
      "Skipping C1_S193_P385_AD1: Missing required files.\n"
     ]
    },
    {
     "name": "stderr",
     "output_type": "stream",
     "text": [
      "I0000 00:00:1733374799.391691 67237106 gl_context.cc:357] GL version: 2.1 (2.1 Metal - 88), renderer: Apple M3 Pro\n",
      "W0000 00:00:1733374799.392751 67518923 inference_feedback_manager.cc:114] Feedback manager requires a model with a single signature inference. Disabling support for feedback tensors.\n",
      "W0000 00:00:1733374799.398666 67518920 inference_feedback_manager.cc:114] Feedback manager requires a model with a single signature inference. Disabling support for feedback tensors.\n",
      "Processing samples:  39%|▍| 1017/2630 [55:40"
     ]
    },
    {
     "name": "stdout",
     "output_type": "stream",
     "text": [
      "Skipping C3_S079_P157_AD4: Missing or invalid Valence annotations.\n",
      "Skipping SAH_C3_S087_P173_VC1_004601_004981: Missing required files.\n",
      "Skipping C1_S006_P011_AD1: Missing required files.\n",
      "Skipping C6_S188_P375_AD2: Missing required files.\n",
      "Skipping TVL_C1_VC1: Missing required files.\n",
      "Skipping C5_S146_P291_AD3: Missing required files.\n"
     ]
    },
    {
     "name": "stderr",
     "output_type": "stream",
     "text": [
      "I0000 00:00:1733374827.078785 67237106 gl_context.cc:357] GL version: 2.1 (2.1 Metal - 88), renderer: Apple M3 Pro\n",
      "W0000 00:00:1733374827.080854 67519605 inference_feedback_manager.cc:114] Feedback manager requires a model with a single signature inference. Disabling support for feedback tensors.\n",
      "W0000 00:00:1733374827.086521 67519605 inference_feedback_manager.cc:114] Feedback manager requires a model with a single signature inference. Disabling support for feedback tensors.\n",
      "Processing samples:  39%|▍| 1023/2630 [55:50"
     ]
    },
    {
     "name": "stdout",
     "output_type": "stream",
     "text": [
      "Skipping C1_S194_P388_AD4: Missing or invalid Valence annotations.\n",
      "Skipping C5_S156_P311_AD1: Missing required files.\n",
      "Skipping C4_S096_P192_AD3: Missing required files.\n",
      "Skipping C1_S017_P033_VC1: Missing required files.\n",
      "Skipping C4_S103_P206_AD3: Missing required files.\n",
      "Skipping C3_S072_P143_AD2: Missing required files.\n"
     ]
    },
    {
     "name": "stderr",
     "output_type": "stream",
     "text": [
      "I0000 00:00:1733374837.324671 67237106 gl_context.cc:357] GL version: 2.1 (2.1 Metal - 88), renderer: Apple M3 Pro\n",
      "W0000 00:00:1733374837.328577 67519971 inference_feedback_manager.cc:114] Feedback manager requires a model with a single signature inference. Disabling support for feedback tensors.\n",
      "W0000 00:00:1733374837.346526 67519971 inference_feedback_manager.cc:114] Feedback manager requires a model with a single signature inference. Disabling support for feedback tensors.\n",
      "Processing samples:  39%|▍| 1029/2630 [56:15"
     ]
    },
    {
     "name": "stdout",
     "output_type": "stream",
     "text": [
      "Skipping C2_S057_P113_AD4: Missing or invalid Valence annotations.\n",
      "Skipping C4_S123_P246_AD2: Missing required files.\n",
      "Skipping C6_S174_P347_AD2: Missing required files.\n",
      "Skipping C3_S068_P135_VC1: Missing required files.\n",
      "Skipping SVH_C2_S062_P123_VC1_003722_004499: Missing required files.\n",
      "Skipping C3_S079_P157_AD3: Missing required files.\n"
     ]
    },
    {
     "name": "stderr",
     "output_type": "stream",
     "text": [
      "I0000 00:00:1733374862.766375 67237106 gl_context.cc:357] GL version: 2.1 (2.1 Metal - 88), renderer: Apple M3 Pro\n",
      "W0000 00:00:1733374862.768312 67520584 inference_feedback_manager.cc:114] Feedback manager requires a model with a single signature inference. Disabling support for feedback tensors.\n",
      "W0000 00:00:1733374862.774774 67520585 inference_feedback_manager.cc:114] Feedback manager requires a model with a single signature inference. Disabling support for feedback tensors.\n",
      "Processing samples:  39%|▍| 1034/2630 [56:24\n"
     ]
    },
    {
     "ename": "KeyboardInterrupt",
     "evalue": "",
     "output_type": "error",
     "traceback": [
      "\u001b[0;31m---------------------------------------------------------------------------\u001b[0m",
      "\u001b[0;31mKeyboardInterrupt\u001b[0m                         Traceback (most recent call last)",
      "Cell \u001b[0;32mIn[47], line 4\u001b[0m\n\u001b[1;32m      1\u001b[0m dataset_dir \u001b[38;5;241m=\u001b[39m\u001b[38;5;124m'\u001b[39m\u001b[38;5;124mSEWA_DB\u001b[39m\u001b[38;5;124m'\u001b[39m  \n\u001b[1;32m      2\u001b[0m desired_seq_len \u001b[38;5;241m=\u001b[39m \u001b[38;5;241m30\u001b[39m  \n\u001b[0;32m----> 4\u001b[0m \u001b[43mprocess_all_samples\u001b[49m\u001b[43m(\u001b[49m\u001b[43mdataset_dir\u001b[49m\u001b[43m,\u001b[49m\u001b[43m \u001b[49m\u001b[43mdesired_seq_len\u001b[49m\u001b[43m)\u001b[49m\n",
      "Cell \u001b[0;32mIn[44], line 13\u001b[0m, in \u001b[0;36mprocess_all_samples\u001b[0;34m(dataset_dir, desired_seq_len)\u001b[0m\n\u001b[1;32m     10\u001b[0m     \u001b[38;5;28;01mcontinue\u001b[39;00m\n\u001b[1;32m     11\u001b[0m \u001b[38;5;28;01mtry\u001b[39;00m:\n\u001b[1;32m     12\u001b[0m     \u001b[38;5;66;03m# process Landmarks\u001b[39;00m\n\u001b[0;32m---> 13\u001b[0m     landmarks_seq, frame_indices \u001b[38;5;241m=\u001b[39m \u001b[43mprocess_landmarks\u001b[49m\u001b[43m(\u001b[49m\u001b[43msample_dir\u001b[49m\u001b[43m)\u001b[49m\n\u001b[1;32m     14\u001b[0m     \u001b[38;5;28;01mif\u001b[39;00m landmarks_seq \u001b[38;5;129;01mis\u001b[39;00m \u001b[38;5;28;01mNone\u001b[39;00m \u001b[38;5;129;01mor\u001b[39;00m \u001b[38;5;28mlen\u001b[39m(landmarks_seq) \u001b[38;5;241m==\u001b[39m \u001b[38;5;241m0\u001b[39m:\n\u001b[1;32m     15\u001b[0m         \u001b[38;5;28mprint\u001b[39m(\u001b[38;5;124mf\u001b[39m\u001b[38;5;124m\"\u001b[39m\u001b[38;5;124mSkipping \u001b[39m\u001b[38;5;132;01m{\u001b[39;00msample_id\u001b[38;5;132;01m}\u001b[39;00m\u001b[38;5;124m: No valid landmarks.\u001b[39m\u001b[38;5;124m\"\u001b[39m)\n",
      "Cell \u001b[0;32mIn[46], line 41\u001b[0m, in \u001b[0;36mprocess_landmarks\u001b[0;34m(sample_dir)\u001b[0m\n\u001b[1;32m     38\u001b[0m     \u001b[38;5;28;01mbreak\u001b[39;00m\n\u001b[1;32m     40\u001b[0m rgb_frame \u001b[38;5;241m=\u001b[39m cv2\u001b[38;5;241m.\u001b[39mcvtColor(frame, cv2\u001b[38;5;241m.\u001b[39mCOLOR_BGR2RGB)\n\u001b[0;32m---> 41\u001b[0m results \u001b[38;5;241m=\u001b[39m \u001b[43mface_mesh\u001b[49m\u001b[38;5;241;43m.\u001b[39;49m\u001b[43mprocess\u001b[49m\u001b[43m(\u001b[49m\u001b[43mrgb_frame\u001b[49m\u001b[43m)\u001b[49m\n\u001b[1;32m     43\u001b[0m \u001b[38;5;28;01mif\u001b[39;00m results\u001b[38;5;241m.\u001b[39mmulti_face_landmarks:\n\u001b[1;32m     44\u001b[0m     face_landmarks \u001b[38;5;241m=\u001b[39m results\u001b[38;5;241m.\u001b[39mmulti_face_landmarks[\u001b[38;5;241m0\u001b[39m]\n",
      "File \u001b[0;32m~/micromamba/lib/python3.9/site-packages/mediapipe/python/solutions/face_mesh.py:125\u001b[0m, in \u001b[0;36mFaceMesh.process\u001b[0;34m(self, image)\u001b[0m\n\u001b[1;32m    110\u001b[0m \u001b[38;5;28;01mdef\u001b[39;00m \u001b[38;5;21mprocess\u001b[39m(\u001b[38;5;28mself\u001b[39m, image: np\u001b[38;5;241m.\u001b[39mndarray) \u001b[38;5;241m-\u001b[39m\u001b[38;5;241m>\u001b[39m NamedTuple:\n\u001b[1;32m    111\u001b[0m \u001b[38;5;250m  \u001b[39m\u001b[38;5;124;03m\"\"\"Processes an RGB image and returns the face landmarks on each detected face.\u001b[39;00m\n\u001b[1;32m    112\u001b[0m \n\u001b[1;32m    113\u001b[0m \u001b[38;5;124;03m  Args:\u001b[39;00m\n\u001b[0;32m   (...)\u001b[0m\n\u001b[1;32m    122\u001b[0m \u001b[38;5;124;03m    face landmarks on each detected face.\u001b[39;00m\n\u001b[1;32m    123\u001b[0m \u001b[38;5;124;03m  \"\"\"\u001b[39;00m\n\u001b[0;32m--> 125\u001b[0m   \u001b[38;5;28;01mreturn\u001b[39;00m \u001b[38;5;28;43msuper\u001b[39;49m\u001b[43m(\u001b[49m\u001b[43m)\u001b[49m\u001b[38;5;241;43m.\u001b[39;49m\u001b[43mprocess\u001b[49m\u001b[43m(\u001b[49m\u001b[43minput_data\u001b[49m\u001b[38;5;241;43m=\u001b[39;49m\u001b[43m{\u001b[49m\u001b[38;5;124;43m'\u001b[39;49m\u001b[38;5;124;43mimage\u001b[39;49m\u001b[38;5;124;43m'\u001b[39;49m\u001b[43m:\u001b[49m\u001b[43m \u001b[49m\u001b[43mimage\u001b[49m\u001b[43m}\u001b[49m\u001b[43m)\u001b[49m\n",
      "File \u001b[0;32m~/micromamba/lib/python3.9/site-packages/mediapipe/python/solution_base.py:340\u001b[0m, in \u001b[0;36mSolutionBase.process\u001b[0;34m(self, input_data)\u001b[0m\n\u001b[1;32m    334\u001b[0m   \u001b[38;5;28;01melse\u001b[39;00m:\n\u001b[1;32m    335\u001b[0m     \u001b[38;5;28mself\u001b[39m\u001b[38;5;241m.\u001b[39m_graph\u001b[38;5;241m.\u001b[39madd_packet_to_input_stream(\n\u001b[1;32m    336\u001b[0m         stream\u001b[38;5;241m=\u001b[39mstream_name,\n\u001b[1;32m    337\u001b[0m         packet\u001b[38;5;241m=\u001b[39m\u001b[38;5;28mself\u001b[39m\u001b[38;5;241m.\u001b[39m_make_packet(input_stream_type,\n\u001b[1;32m    338\u001b[0m                                  data)\u001b[38;5;241m.\u001b[39mat(\u001b[38;5;28mself\u001b[39m\u001b[38;5;241m.\u001b[39m_simulated_timestamp))\n\u001b[0;32m--> 340\u001b[0m \u001b[38;5;28;43mself\u001b[39;49m\u001b[38;5;241;43m.\u001b[39;49m\u001b[43m_graph\u001b[49m\u001b[38;5;241;43m.\u001b[39;49m\u001b[43mwait_until_idle\u001b[49m\u001b[43m(\u001b[49m\u001b[43m)\u001b[49m\n\u001b[1;32m    341\u001b[0m \u001b[38;5;66;03m# Create a NamedTuple object where the field names are mapping to the graph\u001b[39;00m\n\u001b[1;32m    342\u001b[0m \u001b[38;5;66;03m# output stream names.\u001b[39;00m\n\u001b[1;32m    343\u001b[0m \u001b[38;5;28;01mif\u001b[39;00m \u001b[38;5;28mself\u001b[39m\u001b[38;5;241m.\u001b[39m_output_stream_type_info \u001b[38;5;129;01mis\u001b[39;00m \u001b[38;5;28;01mNone\u001b[39;00m:\n",
      "\u001b[0;31mKeyboardInterrupt\u001b[0m: "
     ]
    }
   ],
   "source": [
    "dataset_dir ='SEWA_DB'  \n",
    "desired_seq_len = 50 \n",
    "\n",
    "process_all_samples(dataset_dir, desired_seq_len)"
   ]
  },
  {
   "cell_type": "code",
   "execution_count": null,
   "id": "66732e64-5f5e-434c-9082-291045faa309",
   "metadata": {},
   "outputs": [],
   "source": [
    "from torch.utils.data import DataLoader\n",
    "\n",
    "processed_data_dir = 'processed_data'  \n",
    "dataset = EmotionDataset(processed_data_dir)\n",
    "\n",
    "\n",
    "batch_size = 8\n",
    "dataloader = DataLoader(dataset, batch_size=batch_size, shuffle=True)\n",
    "\n",
    "# test DataLoader\n",
    "for batch in dataloader:\n",
    "    landmarks_seq, lbp_seq, labels_seq = batch\n",
    "    print(\"Landmarks shape:\", landmarks_seq.shape)\n",
    "    print(\"LBP shape:\", lbp_seq.shape)\n",
    "    print(\"Labels shape:\", labels_seq.shape)\n",
    "    break  \n"
   ]
  }
 ],
 "metadata": {
  "kernelspec": {
   "display_name": "Python 3 (ipykernel)",
   "language": "python",
   "name": "python3"
  },
  "language_info": {
   "codemirror_mode": {
    "name": "ipython",
    "version": 3
   },
   "file_extension": ".py",
   "mimetype": "text/x-python",
   "name": "python",
   "nbconvert_exporter": "python",
   "pygments_lexer": "ipython3",
   "version": "3.9.20"
  }
 },
 "nbformat": 4,
 "nbformat_minor": 5
}
